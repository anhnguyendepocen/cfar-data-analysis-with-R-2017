{
 "cells": [
  {
   "cell_type": "markdown",
   "metadata": {},
   "source": [
    "# Day 2 PM: Preparing data for analysis with `tidyr`\n",
    "\n",
    "Visualization, modeling and inference in R is simplest when the data is collected into a single \"tidy\" `data.frame`. What constitutes a tidy `data.frame` depends somewhat on the context, but at a minimum it requires that each can be interpreted as an **observation**, each column as a **variable**,  and each cell contains a **value**.\n",
    "\n",
    "The original data set may vary from this ideal tidy format in several ways, and the `tidyr` package provides tools for us to convert data from messy to tidy. In particular, we show several common issues that we need to address to make data tidy. Here, we focus on three main verbs for tidying data - `gather`, `spread` and `separate`. We also briefly discuss what to do when the data is originally distributed over several files."
   ]
  },
  {
   "cell_type": "code",
   "execution_count": 1,
   "metadata": {},
   "outputs": [
    {
     "name": "stderr",
     "output_type": "stream",
     "text": [
      "Warning message:\n",
      "“Installed Rcpp (0.12.12) different from Rcpp used to build dplyr (0.12.11).\n",
      "Please reinstall dplyr to avoid random crashes or undefined behavior.”Warning message:\n",
      "“package ‘dplyr’ was built under R version 3.4.1”"
     ]
    }
   ],
   "source": [
    "suppressPackageStartupMessages(library(tidyverse))"
   ]
  },
  {
   "cell_type": "markdown",
   "metadata": {},
   "source": [
    "## Prelude: Piping\n",
    "\n",
    "We will operate on data incrementally, step by step. At each step, we take a `data.frame`, apply a function to it, and generate a different `data.frame`. This `data.frame` itself can be modified by another function, leading to a chain of operations that all take a `data.frame` as input and return a `data.frame` as output. A convenient idiom (borrowed from the Unix shell) is to connect adjacent functions in the chain by a **pipe** which takes the output of a function and feeds it as input to the next function. The **pipe** operator in R is denoted by `%>%`."
   ]
  },
  {
   "cell_type": "markdown",
   "metadata": {},
   "source": [
    "### A simple piping example\n",
    "\n",
    "Here we use piping to show rows 6-10."
   ]
  },
  {
   "cell_type": "code",
   "execution_count": 2,
   "metadata": {},
   "outputs": [
    {
     "data": {
      "text/html": [
       "<table>\n",
       "<thead><tr><th scope=col>Sepal.Length</th><th scope=col>Sepal.Width</th><th scope=col>Petal.Length</th><th scope=col>Petal.Width</th><th scope=col>Species</th></tr></thead>\n",
       "<tbody>\n",
       "\t<tr><td>5.1   </td><td>3.5   </td><td>1.4   </td><td>0.2   </td><td>setosa</td></tr>\n",
       "\t<tr><td>4.9   </td><td>3.0   </td><td>1.4   </td><td>0.2   </td><td>setosa</td></tr>\n",
       "\t<tr><td>4.7   </td><td>3.2   </td><td>1.3   </td><td>0.2   </td><td>setosa</td></tr>\n",
       "\t<tr><td>4.6   </td><td>3.1   </td><td>1.5   </td><td>0.2   </td><td>setosa</td></tr>\n",
       "\t<tr><td>5.0   </td><td>3.6   </td><td>1.4   </td><td>0.2   </td><td>setosa</td></tr>\n",
       "\t<tr><td>5.4   </td><td>3.9   </td><td>1.7   </td><td>0.4   </td><td>setosa</td></tr>\n",
       "\t<tr><td>4.6   </td><td>3.4   </td><td>1.4   </td><td>0.3   </td><td>setosa</td></tr>\n",
       "\t<tr><td>5.0   </td><td>3.4   </td><td>1.5   </td><td>0.2   </td><td>setosa</td></tr>\n",
       "\t<tr><td>4.4   </td><td>2.9   </td><td>1.4   </td><td>0.2   </td><td>setosa</td></tr>\n",
       "\t<tr><td>4.9   </td><td>3.1   </td><td>1.5   </td><td>0.1   </td><td>setosa</td></tr>\n",
       "</tbody>\n",
       "</table>\n"
      ],
      "text/latex": [
       "\\begin{tabular}{r|lllll}\n",
       " Sepal.Length & Sepal.Width & Petal.Length & Petal.Width & Species\\\\\n",
       "\\hline\n",
       "\t 5.1    & 3.5    & 1.4    & 0.2    & setosa\\\\\n",
       "\t 4.9    & 3.0    & 1.4    & 0.2    & setosa\\\\\n",
       "\t 4.7    & 3.2    & 1.3    & 0.2    & setosa\\\\\n",
       "\t 4.6    & 3.1    & 1.5    & 0.2    & setosa\\\\\n",
       "\t 5.0    & 3.6    & 1.4    & 0.2    & setosa\\\\\n",
       "\t 5.4    & 3.9    & 1.7    & 0.4    & setosa\\\\\n",
       "\t 4.6    & 3.4    & 1.4    & 0.3    & setosa\\\\\n",
       "\t 5.0    & 3.4    & 1.5    & 0.2    & setosa\\\\\n",
       "\t 4.4    & 2.9    & 1.4    & 0.2    & setosa\\\\\n",
       "\t 4.9    & 3.1    & 1.5    & 0.1    & setosa\\\\\n",
       "\\end{tabular}\n"
      ],
      "text/markdown": [
       "\n",
       "Sepal.Length | Sepal.Width | Petal.Length | Petal.Width | Species | \n",
       "|---|---|---|---|---|---|---|---|---|---|\n",
       "| 5.1    | 3.5    | 1.4    | 0.2    | setosa | \n",
       "| 4.9    | 3.0    | 1.4    | 0.2    | setosa | \n",
       "| 4.7    | 3.2    | 1.3    | 0.2    | setosa | \n",
       "| 4.6    | 3.1    | 1.5    | 0.2    | setosa | \n",
       "| 5.0    | 3.6    | 1.4    | 0.2    | setosa | \n",
       "| 5.4    | 3.9    | 1.7    | 0.4    | setosa | \n",
       "| 4.6    | 3.4    | 1.4    | 0.3    | setosa | \n",
       "| 5.0    | 3.4    | 1.5    | 0.2    | setosa | \n",
       "| 4.4    | 2.9    | 1.4    | 0.2    | setosa | \n",
       "| 4.9    | 3.1    | 1.5    | 0.1    | setosa | \n",
       "\n",
       "\n"
      ],
      "text/plain": [
       "   Sepal.Length Sepal.Width Petal.Length Petal.Width Species\n",
       "1  5.1          3.5         1.4          0.2         setosa \n",
       "2  4.9          3.0         1.4          0.2         setosa \n",
       "3  4.7          3.2         1.3          0.2         setosa \n",
       "4  4.6          3.1         1.5          0.2         setosa \n",
       "5  5.0          3.6         1.4          0.2         setosa \n",
       "6  5.4          3.9         1.7          0.4         setosa \n",
       "7  4.6          3.4         1.4          0.3         setosa \n",
       "8  5.0          3.4         1.5          0.2         setosa \n",
       "9  4.4          2.9         1.4          0.2         setosa \n",
       "10 4.9          3.1         1.5          0.1         setosa "
      ]
     },
     "metadata": {},
     "output_type": "display_data"
    }
   ],
   "source": [
    "head(iris, n=10)"
   ]
  },
  {
   "cell_type": "code",
   "execution_count": 3,
   "metadata": {},
   "outputs": [
    {
     "data": {
      "text/html": [
       "<table>\n",
       "<thead><tr><th></th><th scope=col>Sepal.Length</th><th scope=col>Sepal.Width</th><th scope=col>Petal.Length</th><th scope=col>Petal.Width</th><th scope=col>Species</th></tr></thead>\n",
       "<tbody>\n",
       "\t<tr><th scope=row>6</th><td>5.4   </td><td>3.9   </td><td>1.7   </td><td>0.4   </td><td>setosa</td></tr>\n",
       "\t<tr><th scope=row>7</th><td>4.6   </td><td>3.4   </td><td>1.4   </td><td>0.3   </td><td>setosa</td></tr>\n",
       "\t<tr><th scope=row>8</th><td>5.0   </td><td>3.4   </td><td>1.5   </td><td>0.2   </td><td>setosa</td></tr>\n",
       "\t<tr><th scope=row>9</th><td>4.4   </td><td>2.9   </td><td>1.4   </td><td>0.2   </td><td>setosa</td></tr>\n",
       "\t<tr><th scope=row>10</th><td>4.9   </td><td>3.1   </td><td>1.5   </td><td>0.1   </td><td>setosa</td></tr>\n",
       "</tbody>\n",
       "</table>\n"
      ],
      "text/latex": [
       "\\begin{tabular}{r|lllll}\n",
       "  & Sepal.Length & Sepal.Width & Petal.Length & Petal.Width & Species\\\\\n",
       "\\hline\n",
       "\t6 & 5.4    & 3.9    & 1.7    & 0.4    & setosa\\\\\n",
       "\t7 & 4.6    & 3.4    & 1.4    & 0.3    & setosa\\\\\n",
       "\t8 & 5.0    & 3.4    & 1.5    & 0.2    & setosa\\\\\n",
       "\t9 & 4.4    & 2.9    & 1.4    & 0.2    & setosa\\\\\n",
       "\t10 & 4.9    & 3.1    & 1.5    & 0.1    & setosa\\\\\n",
       "\\end{tabular}\n"
      ],
      "text/markdown": [
       "\n",
       "| <!--/--> | Sepal.Length | Sepal.Width | Petal.Length | Petal.Width | Species | \n",
       "|---|---|---|---|---|\n",
       "| 6 | 5.4    | 3.9    | 1.7    | 0.4    | setosa | \n",
       "| 7 | 4.6    | 3.4    | 1.4    | 0.3    | setosa | \n",
       "| 8 | 5.0    | 3.4    | 1.5    | 0.2    | setosa | \n",
       "| 9 | 4.4    | 2.9    | 1.4    | 0.2    | setosa | \n",
       "| 10 | 4.9    | 3.1    | 1.5    | 0.1    | setosa | \n",
       "\n",
       "\n"
      ],
      "text/plain": [
       "   Sepal.Length Sepal.Width Petal.Length Petal.Width Species\n",
       "6  5.4          3.9         1.7          0.4         setosa \n",
       "7  4.6          3.4         1.4          0.3         setosa \n",
       "8  5.0          3.4         1.5          0.2         setosa \n",
       "9  4.4          2.9         1.4          0.2         setosa \n",
       "10 4.9          3.1         1.5          0.1         setosa "
      ]
     },
     "metadata": {},
     "output_type": "display_data"
    }
   ],
   "source": [
    "iris %>% head(n=10) %>% tail(n=5)"
   ]
  },
  {
   "cell_type": "markdown",
   "metadata": {},
   "source": [
    "## Splitting columns with `separate`\n",
    "\n",
    "One common issue is that the values in a single column are actually a combination of many variables. For example, there may be a \"description\" field that combines site ID,, patient ID and date. Tidy data requires that each column represents a single variable, and we need to `separate` the variables."
   ]
  },
  {
   "cell_type": "markdown",
   "metadata": {},
   "source": [
    "### Make up a data set for illustration"
   ]
  },
  {
   "cell_type": "code",
   "execution_count": 4,
   "metadata": {},
   "outputs": [
    {
     "data": {
      "text/html": [
       "<ol class=list-inline>\n",
       "\t<li>'site1'</li>\n",
       "\t<li>'site2'</li>\n",
       "\t<li>'site3'</li>\n",
       "\t<li>'site4'</li>\n",
       "\t<li>'site5'</li>\n",
       "\t<li>'site6'</li>\n",
       "\t<li>'site7'</li>\n",
       "\t<li>'site8'</li>\n",
       "\t<li>'site9'</li>\n",
       "\t<li>'site10'</li>\n",
       "</ol>\n"
      ],
      "text/latex": [
       "\\begin{enumerate*}\n",
       "\\item 'site1'\n",
       "\\item 'site2'\n",
       "\\item 'site3'\n",
       "\\item 'site4'\n",
       "\\item 'site5'\n",
       "\\item 'site6'\n",
       "\\item 'site7'\n",
       "\\item 'site8'\n",
       "\\item 'site9'\n",
       "\\item 'site10'\n",
       "\\end{enumerate*}\n"
      ],
      "text/markdown": [
       "1. 'site1'\n",
       "2. 'site2'\n",
       "3. 'site3'\n",
       "4. 'site4'\n",
       "5. 'site5'\n",
       "6. 'site6'\n",
       "7. 'site7'\n",
       "8. 'site8'\n",
       "9. 'site9'\n",
       "10. 'site10'\n",
       "\n",
       "\n"
      ],
      "text/plain": [
       " [1] \"site1\"  \"site2\"  \"site3\"  \"site4\"  \"site5\"  \"site6\"  \"site7\"  \"site8\" \n",
       " [9] \"site9\"  \"site10\""
      ]
     },
     "metadata": {},
     "output_type": "display_data"
    }
   ],
   "source": [
    "sites <- paste(\"site\", 1:10, sep=\"\")\n",
    "sites"
   ]
  },
  {
   "cell_type": "code",
   "execution_count": 5,
   "metadata": {},
   "outputs": [
    {
     "data": {
      "text/html": [
       "<ol class=list-inline>\n",
       "\t<li>64</li>\n",
       "\t<li>7</li>\n",
       "\t<li>96</li>\n",
       "\t<li>28</li>\n",
       "\t<li>89</li>\n",
       "\t<li>69</li>\n",
       "\t<li>29</li>\n",
       "\t<li>65</li>\n",
       "\t<li>51</li>\n",
       "\t<li>18</li>\n",
       "</ol>\n"
      ],
      "text/latex": [
       "\\begin{enumerate*}\n",
       "\\item 64\n",
       "\\item 7\n",
       "\\item 96\n",
       "\\item 28\n",
       "\\item 89\n",
       "\\item 69\n",
       "\\item 29\n",
       "\\item 65\n",
       "\\item 51\n",
       "\\item 18\n",
       "\\end{enumerate*}\n"
      ],
      "text/markdown": [
       "1. 64\n",
       "2. 7\n",
       "3. 96\n",
       "4. 28\n",
       "5. 89\n",
       "6. 69\n",
       "7. 29\n",
       "8. 65\n",
       "9. 51\n",
       "10. 18\n",
       "\n",
       "\n"
      ],
      "text/plain": [
       " [1] 64  7 96 28 89 69 29 65 51 18"
      ]
     },
     "metadata": {},
     "output_type": "display_data"
    }
   ],
   "source": [
    "subjects <- sample.int(100, 10)\n",
    "subjects"
   ]
  },
  {
   "cell_type": "code",
   "execution_count": 6,
   "metadata": {},
   "outputs": [
    {
     "data": {
      "text/html": [
       "<ol class=list-inline>\n",
       "\t<li><time datetime=\"2016-05-25\">2016-05-25</time></li>\n",
       "\t<li><time datetime=\"2016-07-23\">2016-07-23</time></li>\n",
       "\t<li><time datetime=\"2016-08-04\">2016-08-04</time></li>\n",
       "\t<li><time datetime=\"2016-07-04\">2016-07-04</time></li>\n",
       "\t<li><time datetime=\"2016-12-06\">2016-12-06</time></li>\n",
       "\t<li><time datetime=\"2016-10-29\">2016-10-29</time></li>\n",
       "\t<li><time datetime=\"2016-08-13\">2016-08-13</time></li>\n",
       "\t<li><time datetime=\"2016-09-17\">2016-09-17</time></li>\n",
       "\t<li><time datetime=\"2016-11-16\">2016-11-16</time></li>\n",
       "\t<li><time datetime=\"2016-04-23\">2016-04-23</time></li>\n",
       "</ol>\n"
      ],
      "text/latex": [
       "\\begin{enumerate*}\n",
       "\\item 2016-05-25\n",
       "\\item 2016-07-23\n",
       "\\item 2016-08-04\n",
       "\\item 2016-07-04\n",
       "\\item 2016-12-06\n",
       "\\item 2016-10-29\n",
       "\\item 2016-08-13\n",
       "\\item 2016-09-17\n",
       "\\item 2016-11-16\n",
       "\\item 2016-04-23\n",
       "\\end{enumerate*}\n"
      ],
      "text/markdown": [
       "1. 2016-05-25\n",
       "2. 2016-07-23\n",
       "3. 2016-08-04\n",
       "4. 2016-07-04\n",
       "5. 2016-12-06\n",
       "6. 2016-10-29\n",
       "7. 2016-08-13\n",
       "8. 2016-09-17\n",
       "9. 2016-11-16\n",
       "10. 2016-04-23\n",
       "\n",
       "\n"
      ],
      "text/plain": [
       " [1] \"2016-05-25\" \"2016-07-23\" \"2016-08-04\" \"2016-07-04\" \"2016-12-06\"\n",
       " [6] \"2016-10-29\" \"2016-08-13\" \"2016-09-17\" \"2016-11-16\" \"2016-04-23\""
      ]
     },
     "metadata": {},
     "output_type": "display_data"
    }
   ],
   "source": [
    "dates <- sample(seq(as.Date('2016/01/01'), \n",
    "                    as.Date('2017/01/01'), by=\"day\"), 10)\n",
    "dates"
   ]
  },
  {
   "cell_type": "code",
   "execution_count": 7,
   "metadata": {
    "collapsed": true
   },
   "outputs": [],
   "source": [
    "df <- data.frame(description=paste(sites, subjects, dates, sep=\":\"),\n",
    "                 score=rnorm(10))"
   ]
  },
  {
   "cell_type": "code",
   "execution_count": 8,
   "metadata": {},
   "outputs": [
    {
     "data": {
      "text/html": [
       "<table>\n",
       "<thead><tr><th scope=col>description</th><th scope=col>score</th></tr></thead>\n",
       "<tbody>\n",
       "\t<tr><td>site1:64:2016-05-25</td><td>-1.3108151         </td></tr>\n",
       "\t<tr><td>site2:7:2016-07-23 </td><td> 1.6269679         </td></tr>\n",
       "\t<tr><td>site3:96:2016-08-04</td><td> 0.5706658         </td></tr>\n",
       "\t<tr><td>site4:28:2016-07-04</td><td>-1.7594424         </td></tr>\n",
       "\t<tr><td>site5:89:2016-12-06</td><td> 0.9366193         </td></tr>\n",
       "\t<tr><td>site6:69:2016-10-29</td><td> 0.5264268         </td></tr>\n",
       "</tbody>\n",
       "</table>\n"
      ],
      "text/latex": [
       "\\begin{tabular}{r|ll}\n",
       " description & score\\\\\n",
       "\\hline\n",
       "\t site1:64:2016-05-25 & -1.3108151         \\\\\n",
       "\t site2:7:2016-07-23  &  1.6269679         \\\\\n",
       "\t site3:96:2016-08-04 &  0.5706658         \\\\\n",
       "\t site4:28:2016-07-04 & -1.7594424         \\\\\n",
       "\t site5:89:2016-12-06 &  0.9366193         \\\\\n",
       "\t site6:69:2016-10-29 &  0.5264268         \\\\\n",
       "\\end{tabular}\n"
      ],
      "text/markdown": [
       "\n",
       "description | score | \n",
       "|---|---|---|---|---|---|\n",
       "| site1:64:2016-05-25 | -1.3108151          | \n",
       "| site2:7:2016-07-23  |  1.6269679          | \n",
       "| site3:96:2016-08-04 |  0.5706658          | \n",
       "| site4:28:2016-07-04 | -1.7594424          | \n",
       "| site5:89:2016-12-06 |  0.9366193          | \n",
       "| site6:69:2016-10-29 |  0.5264268          | \n",
       "\n",
       "\n"
      ],
      "text/plain": [
       "  description         score     \n",
       "1 site1:64:2016-05-25 -1.3108151\n",
       "2 site2:7:2016-07-23   1.6269679\n",
       "3 site3:96:2016-08-04  0.5706658\n",
       "4 site4:28:2016-07-04 -1.7594424\n",
       "5 site5:89:2016-12-06  0.9366193\n",
       "6 site6:69:2016-10-29  0.5264268"
      ]
     },
     "metadata": {},
     "output_type": "display_data"
    }
   ],
   "source": [
    "head(df)"
   ]
  },
  {
   "cell_type": "markdown",
   "metadata": {},
   "source": [
    "### Using `separate`"
   ]
  },
  {
   "cell_type": "code",
   "execution_count": 9,
   "metadata": {},
   "outputs": [
    {
     "data": {
      "text/html": [
       "<table>\n",
       "<thead><tr><th scope=col>site</th><th scope=col>pid</th><th scope=col>date</th><th scope=col>score</th></tr></thead>\n",
       "<tbody>\n",
       "\t<tr><td>site1     </td><td>64        </td><td>2016-05-25</td><td>-1.3108151</td></tr>\n",
       "\t<tr><td>site2     </td><td>7         </td><td>2016-07-23</td><td> 1.6269679</td></tr>\n",
       "\t<tr><td>site3     </td><td>96        </td><td>2016-08-04</td><td> 0.5706658</td></tr>\n",
       "\t<tr><td>site4     </td><td>28        </td><td>2016-07-04</td><td>-1.7594424</td></tr>\n",
       "\t<tr><td>site5     </td><td>89        </td><td>2016-12-06</td><td> 0.9366193</td></tr>\n",
       "\t<tr><td>site6     </td><td>69        </td><td>2016-10-29</td><td> 0.5264268</td></tr>\n",
       "</tbody>\n",
       "</table>\n"
      ],
      "text/latex": [
       "\\begin{tabular}{r|llll}\n",
       " site & pid & date & score\\\\\n",
       "\\hline\n",
       "\t site1      & 64         & 2016-05-25 & -1.3108151\\\\\n",
       "\t site2      & 7          & 2016-07-23 &  1.6269679\\\\\n",
       "\t site3      & 96         & 2016-08-04 &  0.5706658\\\\\n",
       "\t site4      & 28         & 2016-07-04 & -1.7594424\\\\\n",
       "\t site5      & 89         & 2016-12-06 &  0.9366193\\\\\n",
       "\t site6      & 69         & 2016-10-29 &  0.5264268\\\\\n",
       "\\end{tabular}\n"
      ],
      "text/markdown": [
       "\n",
       "site | pid | date | score | \n",
       "|---|---|---|---|---|---|\n",
       "| site1      | 64         | 2016-05-25 | -1.3108151 | \n",
       "| site2      | 7          | 2016-07-23 |  1.6269679 | \n",
       "| site3      | 96         | 2016-08-04 |  0.5706658 | \n",
       "| site4      | 28         | 2016-07-04 | -1.7594424 | \n",
       "| site5      | 89         | 2016-12-06 |  0.9366193 | \n",
       "| site6      | 69         | 2016-10-29 |  0.5264268 | \n",
       "\n",
       "\n"
      ],
      "text/plain": [
       "  site  pid date       score     \n",
       "1 site1 64  2016-05-25 -1.3108151\n",
       "2 site2 7   2016-07-23  1.6269679\n",
       "3 site3 96  2016-08-04  0.5706658\n",
       "4 site4 28  2016-07-04 -1.7594424\n",
       "5 site5 89  2016-12-06  0.9366193\n",
       "6 site6 69  2016-10-29  0.5264268"
      ]
     },
     "metadata": {},
     "output_type": "display_data"
    }
   ],
   "source": [
    "df %>% separate(col=description, into=c(\"site\", \"pid\", \"date\"), sep=\":\") %>% head"
   ]
  },
  {
   "cell_type": "markdown",
   "metadata": {},
   "source": [
    "### When a single separator is not enough"
   ]
  },
  {
   "cell_type": "code",
   "execution_count": 10,
   "metadata": {
    "collapsed": true
   },
   "outputs": [],
   "source": [
    "df.1 <- data.frame(description=paste(sites, subjects, dates, sep=\"-\"),\n",
    "                   score=rnorm(10))"
   ]
  },
  {
   "cell_type": "code",
   "execution_count": 11,
   "metadata": {},
   "outputs": [
    {
     "data": {
      "text/html": [
       "<table>\n",
       "<thead><tr><th scope=col>description</th><th scope=col>score</th></tr></thead>\n",
       "<tbody>\n",
       "\t<tr><td>site1-64-2016-05-25</td><td> 0.9018461         </td></tr>\n",
       "\t<tr><td>site2-7-2016-07-23 </td><td> 1.8470596         </td></tr>\n",
       "\t<tr><td>site3-96-2016-08-04</td><td> 0.1700874         </td></tr>\n",
       "\t<tr><td>site4-28-2016-07-04</td><td>-0.7663310         </td></tr>\n",
       "\t<tr><td>site5-89-2016-12-06</td><td>-1.0308395         </td></tr>\n",
       "\t<tr><td>site6-69-2016-10-29</td><td> 1.2056017         </td></tr>\n",
       "</tbody>\n",
       "</table>\n"
      ],
      "text/latex": [
       "\\begin{tabular}{r|ll}\n",
       " description & score\\\\\n",
       "\\hline\n",
       "\t site1-64-2016-05-25 &  0.9018461         \\\\\n",
       "\t site2-7-2016-07-23  &  1.8470596         \\\\\n",
       "\t site3-96-2016-08-04 &  0.1700874         \\\\\n",
       "\t site4-28-2016-07-04 & -0.7663310         \\\\\n",
       "\t site5-89-2016-12-06 & -1.0308395         \\\\\n",
       "\t site6-69-2016-10-29 &  1.2056017         \\\\\n",
       "\\end{tabular}\n"
      ],
      "text/markdown": [
       "\n",
       "description | score | \n",
       "|---|---|---|---|---|---|\n",
       "| site1-64-2016-05-25 |  0.9018461          | \n",
       "| site2-7-2016-07-23  |  1.8470596          | \n",
       "| site3-96-2016-08-04 |  0.1700874          | \n",
       "| site4-28-2016-07-04 | -0.7663310          | \n",
       "| site5-89-2016-12-06 | -1.0308395          | \n",
       "| site6-69-2016-10-29 |  1.2056017          | \n",
       "\n",
       "\n"
      ],
      "text/plain": [
       "  description         score     \n",
       "1 site1-64-2016-05-25  0.9018461\n",
       "2 site2-7-2016-07-23   1.8470596\n",
       "3 site3-96-2016-08-04  0.1700874\n",
       "4 site4-28-2016-07-04 -0.7663310\n",
       "5 site5-89-2016-12-06 -1.0308395\n",
       "6 site6-69-2016-10-29  1.2056017"
      ]
     },
     "metadata": {},
     "output_type": "display_data"
    }
   ],
   "source": [
    "head(df.1)"
   ]
  },
  {
   "cell_type": "markdown",
   "metadata": {},
   "source": [
    "### Using `extract` (advanced)\n",
    "\n",
    "The verb `extract` is like separate, but instead of using a separator, it uses a **regular expression** to split strings. A crash course in regular expressions:\n",
    "\n",
    "- `abc` matches the characters 'abc'\n",
    "- `-` matches the character '-'\n",
    "- `[abc]` matches `a` or `b` or `c`\n",
    "- `[a-z]` matches any lower case letter\n",
    "- `[0-9]` matches any digit\n",
    "- `.` matches any single character\n",
    "- `\\\\d` matches any single digit\n",
    "- `+` matches one or more of the preceding character set\n",
    "- `*` matches zero or more of the preceding character set\n",
    "- `{m, n}` matches between m and n copies of the preceding character set\n",
    "- `()` indicates a capture group - the separated values desired"
   ]
  },
  {
   "cell_type": "code",
   "execution_count": 12,
   "metadata": {},
   "outputs": [
    {
     "data": {
      "text/html": [
       "<table>\n",
       "<thead><tr><th scope=col>site</th><th scope=col>pid</th><th scope=col>date</th><th scope=col>score</th></tr></thead>\n",
       "<tbody>\n",
       "\t<tr><td>1         </td><td>64        </td><td>2016-05-25</td><td> 0.9018461</td></tr>\n",
       "\t<tr><td>2         </td><td>7         </td><td>2016-07-23</td><td> 1.8470596</td></tr>\n",
       "\t<tr><td>3         </td><td>96        </td><td>2016-08-04</td><td> 0.1700874</td></tr>\n",
       "\t<tr><td>4         </td><td>28        </td><td>2016-07-04</td><td>-0.7663310</td></tr>\n",
       "\t<tr><td>5         </td><td>89        </td><td>2016-12-06</td><td>-1.0308395</td></tr>\n",
       "\t<tr><td>6         </td><td>69        </td><td>2016-10-29</td><td> 1.2056017</td></tr>\n",
       "</tbody>\n",
       "</table>\n"
      ],
      "text/latex": [
       "\\begin{tabular}{r|llll}\n",
       " site & pid & date & score\\\\\n",
       "\\hline\n",
       "\t 1          & 64         & 2016-05-25 &  0.9018461\\\\\n",
       "\t 2          & 7          & 2016-07-23 &  1.8470596\\\\\n",
       "\t 3          & 96         & 2016-08-04 &  0.1700874\\\\\n",
       "\t 4          & 28         & 2016-07-04 & -0.7663310\\\\\n",
       "\t 5          & 89         & 2016-12-06 & -1.0308395\\\\\n",
       "\t 6          & 69         & 2016-10-29 &  1.2056017\\\\\n",
       "\\end{tabular}\n"
      ],
      "text/markdown": [
       "\n",
       "site | pid | date | score | \n",
       "|---|---|---|---|---|---|\n",
       "| 1          | 64         | 2016-05-25 |  0.9018461 | \n",
       "| 2          | 7          | 2016-07-23 |  1.8470596 | \n",
       "| 3          | 96         | 2016-08-04 |  0.1700874 | \n",
       "| 4          | 28         | 2016-07-04 | -0.7663310 | \n",
       "| 5          | 89         | 2016-12-06 | -1.0308395 | \n",
       "| 6          | 69         | 2016-10-29 |  1.2056017 | \n",
       "\n",
       "\n"
      ],
      "text/plain": [
       "  site pid date       score     \n",
       "1 1    64  2016-05-25  0.9018461\n",
       "2 2    7   2016-07-23  1.8470596\n",
       "3 3    96  2016-08-04  0.1700874\n",
       "4 4    28  2016-07-04 -0.7663310\n",
       "5 5    89  2016-12-06 -1.0308395\n",
       "6 6    69  2016-10-29  1.2056017"
      ]
     },
     "metadata": {},
     "output_type": "display_data"
    }
   ],
   "source": [
    "df.1 %>% extract(col=description,  into=c(\"site\", \"pid\", \"date\"), regex=\"site([0-9]+)-([0-9]+)-(.*)\") %>% head"
   ]
  },
  {
   "cell_type": "markdown",
   "metadata": {},
   "source": [
    "### Separate rows\n",
    "\n",
    "Less commonly, a single row contains multiple observations needs to be separated into multiple rows using `separate_rows` or `extract_rows`."
   ]
  },
  {
   "cell_type": "code",
   "execution_count": 13,
   "metadata": {},
   "outputs": [],
   "source": [
    "df.2 <- data.frame(pid=1:10, scores=replicate(10, paste(sample(1:10000, 3), collapse=\",\")))"
   ]
  },
  {
   "cell_type": "code",
   "execution_count": 14,
   "metadata": {},
   "outputs": [
    {
     "data": {
      "text/html": [
       "<table>\n",
       "<thead><tr><th scope=col>pid</th><th scope=col>scores</th></tr></thead>\n",
       "<tbody>\n",
       "\t<tr><td>1             </td><td>5631,9112,2114</td></tr>\n",
       "\t<tr><td>2             </td><td>720,6652,4332 </td></tr>\n",
       "\t<tr><td>3             </td><td>9810,243,853  </td></tr>\n",
       "\t<tr><td>4             </td><td>8522,7479,9176</td></tr>\n",
       "\t<tr><td>5             </td><td>8715,7581,3025</td></tr>\n",
       "\t<tr><td>6             </td><td>4658,6293,9580</td></tr>\n",
       "</tbody>\n",
       "</table>\n"
      ],
      "text/latex": [
       "\\begin{tabular}{r|ll}\n",
       " pid & scores\\\\\n",
       "\\hline\n",
       "\t 1              & 5631,9112,2114\\\\\n",
       "\t 2              & 720,6652,4332 \\\\\n",
       "\t 3              & 9810,243,853  \\\\\n",
       "\t 4              & 8522,7479,9176\\\\\n",
       "\t 5              & 8715,7581,3025\\\\\n",
       "\t 6              & 4658,6293,9580\\\\\n",
       "\\end{tabular}\n"
      ],
      "text/markdown": [
       "\n",
       "pid | scores | \n",
       "|---|---|---|---|---|---|\n",
       "| 1              | 5631,9112,2114 | \n",
       "| 2              | 720,6652,4332  | \n",
       "| 3              | 9810,243,853   | \n",
       "| 4              | 8522,7479,9176 | \n",
       "| 5              | 8715,7581,3025 | \n",
       "| 6              | 4658,6293,9580 | \n",
       "\n",
       "\n"
      ],
      "text/plain": [
       "  pid scores        \n",
       "1 1   5631,9112,2114\n",
       "2 2   720,6652,4332 \n",
       "3 3   9810,243,853  \n",
       "4 4   8522,7479,9176\n",
       "5 5   8715,7581,3025\n",
       "6 6   4658,6293,9580"
      ]
     },
     "metadata": {},
     "output_type": "display_data"
    }
   ],
   "source": [
    "head(df.2)"
   ]
  },
  {
   "cell_type": "code",
   "execution_count": 15,
   "metadata": {},
   "outputs": [
    {
     "data": {
      "text/html": [
       "<table>\n",
       "<thead><tr><th scope=col>pid</th><th scope=col>scores</th></tr></thead>\n",
       "<tbody>\n",
       "\t<tr><td>1   </td><td>5631</td></tr>\n",
       "\t<tr><td>1   </td><td>9112</td></tr>\n",
       "\t<tr><td>1   </td><td>2114</td></tr>\n",
       "\t<tr><td>2   </td><td>720 </td></tr>\n",
       "\t<tr><td>2   </td><td>6652</td></tr>\n",
       "\t<tr><td>2   </td><td>4332</td></tr>\n",
       "</tbody>\n",
       "</table>\n"
      ],
      "text/latex": [
       "\\begin{tabular}{r|ll}\n",
       " pid & scores\\\\\n",
       "\\hline\n",
       "\t 1    & 5631\\\\\n",
       "\t 1    & 9112\\\\\n",
       "\t 1    & 2114\\\\\n",
       "\t 2    & 720 \\\\\n",
       "\t 2    & 6652\\\\\n",
       "\t 2    & 4332\\\\\n",
       "\\end{tabular}\n"
      ],
      "text/markdown": [
       "\n",
       "pid | scores | \n",
       "|---|---|---|---|---|---|\n",
       "| 1    | 5631 | \n",
       "| 1    | 9112 | \n",
       "| 1    | 2114 | \n",
       "| 2    | 720  | \n",
       "| 2    | 6652 | \n",
       "| 2    | 4332 | \n",
       "\n",
       "\n"
      ],
      "text/plain": [
       "  pid scores\n",
       "1 1   5631  \n",
       "2 1   9112  \n",
       "3 1   2114  \n",
       "4 2   720   \n",
       "5 2   6652  \n",
       "6 2   4332  "
      ]
     },
     "metadata": {},
     "output_type": "display_data"
    }
   ],
   "source": [
    "df.2 %>% separate_rows(col=scores, sep=\",\") %>% head"
   ]
  },
  {
   "cell_type": "markdown",
   "metadata": {},
   "source": [
    "## From columns to key-value pairs with `gather`\n",
    "\n",
    "Sometimes a single variable is spread out over multiple columns. For example, we may wish to consider the `Sepal.Length`, `Sepal.Width`, `Petal.Length` and `Petal.Width` as variants of a single variable `measure`. The verb to use is `gather` which transforms a \"wide\" `data.frame` into a \"tall\" one.\n",
    "\n",
    "For example, suppose we want `ggplot2` to plot each measurement in a separate panel, colored by `Species`. "
   ]
  },
  {
   "cell_type": "code",
   "execution_count": 16,
   "metadata": {},
   "outputs": [
    {
     "data": {
      "text/html": [
       "<table>\n",
       "<thead><tr><th scope=col>Sepal.Length</th><th scope=col>Sepal.Width</th><th scope=col>Petal.Length</th><th scope=col>Petal.Width</th><th scope=col>Species</th></tr></thead>\n",
       "<tbody>\n",
       "\t<tr><td>5.1   </td><td>3.5   </td><td>1.4   </td><td>0.2   </td><td>setosa</td></tr>\n",
       "\t<tr><td>4.9   </td><td>3.0   </td><td>1.4   </td><td>0.2   </td><td>setosa</td></tr>\n",
       "\t<tr><td>4.7   </td><td>3.2   </td><td>1.3   </td><td>0.2   </td><td>setosa</td></tr>\n",
       "</tbody>\n",
       "</table>\n"
      ],
      "text/latex": [
       "\\begin{tabular}{r|lllll}\n",
       " Sepal.Length & Sepal.Width & Petal.Length & Petal.Width & Species\\\\\n",
       "\\hline\n",
       "\t 5.1    & 3.5    & 1.4    & 0.2    & setosa\\\\\n",
       "\t 4.9    & 3.0    & 1.4    & 0.2    & setosa\\\\\n",
       "\t 4.7    & 3.2    & 1.3    & 0.2    & setosa\\\\\n",
       "\\end{tabular}\n"
      ],
      "text/markdown": [
       "\n",
       "Sepal.Length | Sepal.Width | Petal.Length | Petal.Width | Species | \n",
       "|---|---|---|\n",
       "| 5.1    | 3.5    | 1.4    | 0.2    | setosa | \n",
       "| 4.9    | 3.0    | 1.4    | 0.2    | setosa | \n",
       "| 4.7    | 3.2    | 1.3    | 0.2    | setosa | \n",
       "\n",
       "\n"
      ],
      "text/plain": [
       "  Sepal.Length Sepal.Width Petal.Length Petal.Width Species\n",
       "1 5.1          3.5         1.4          0.2         setosa \n",
       "2 4.9          3.0         1.4          0.2         setosa \n",
       "3 4.7          3.2         1.3          0.2         setosa "
      ]
     },
     "metadata": {},
     "output_type": "display_data"
    }
   ],
   "source": [
    "head(iris, n=3)"
   ]
  },
  {
   "cell_type": "code",
   "execution_count": 17,
   "metadata": {},
   "outputs": [
    {
     "data": {
      "text/html": [
       "<table>\n",
       "<thead><tr><th scope=col>Species</th><th scope=col>measure</th><th scope=col>value</th></tr></thead>\n",
       "<tbody>\n",
       "\t<tr><td>setosa      </td><td>Sepal.Length</td><td>5.1         </td></tr>\n",
       "\t<tr><td>setosa      </td><td>Sepal.Length</td><td>4.9         </td></tr>\n",
       "\t<tr><td>setosa      </td><td>Sepal.Length</td><td>4.7         </td></tr>\n",
       "</tbody>\n",
       "</table>\n"
      ],
      "text/latex": [
       "\\begin{tabular}{r|lll}\n",
       " Species & measure & value\\\\\n",
       "\\hline\n",
       "\t setosa       & Sepal.Length & 5.1         \\\\\n",
       "\t setosa       & Sepal.Length & 4.9         \\\\\n",
       "\t setosa       & Sepal.Length & 4.7         \\\\\n",
       "\\end{tabular}\n"
      ],
      "text/markdown": [
       "\n",
       "Species | measure | value | \n",
       "|---|---|---|\n",
       "| setosa       | Sepal.Length | 5.1          | \n",
       "| setosa       | Sepal.Length | 4.9          | \n",
       "| setosa       | Sepal.Length | 4.7          | \n",
       "\n",
       "\n"
      ],
      "text/plain": [
       "  Species measure      value\n",
       "1 setosa  Sepal.Length 5.1  \n",
       "2 setosa  Sepal.Length 4.9  \n",
       "3 setosa  Sepal.Length 4.7  "
      ]
     },
     "metadata": {},
     "output_type": "display_data"
    }
   ],
   "source": [
    "iris %>% gather(key=measure, value = value, 1:4) %>% head(n=3)"
   ]
  },
  {
   "cell_type": "markdown",
   "metadata": {},
   "source": [
    "### Alternative ways of specifying columns to gather"
   ]
  },
  {
   "cell_type": "code",
   "execution_count": 18,
   "metadata": {},
   "outputs": [
    {
     "data": {
      "text/html": [
       "<table>\n",
       "<thead><tr><th scope=col>Species</th><th scope=col>measure</th><th scope=col>value</th></tr></thead>\n",
       "<tbody>\n",
       "\t<tr><td>setosa      </td><td>Sepal.Length</td><td>5.1         </td></tr>\n",
       "\t<tr><td>setosa      </td><td>Sepal.Length</td><td>4.9         </td></tr>\n",
       "\t<tr><td>setosa      </td><td>Sepal.Length</td><td>4.7         </td></tr>\n",
       "</tbody>\n",
       "</table>\n"
      ],
      "text/latex": [
       "\\begin{tabular}{r|lll}\n",
       " Species & measure & value\\\\\n",
       "\\hline\n",
       "\t setosa       & Sepal.Length & 5.1         \\\\\n",
       "\t setosa       & Sepal.Length & 4.9         \\\\\n",
       "\t setosa       & Sepal.Length & 4.7         \\\\\n",
       "\\end{tabular}\n"
      ],
      "text/markdown": [
       "\n",
       "Species | measure | value | \n",
       "|---|---|---|\n",
       "| setosa       | Sepal.Length | 5.1          | \n",
       "| setosa       | Sepal.Length | 4.9          | \n",
       "| setosa       | Sepal.Length | 4.7          | \n",
       "\n",
       "\n"
      ],
      "text/plain": [
       "  Species measure      value\n",
       "1 setosa  Sepal.Length 5.1  \n",
       "2 setosa  Sepal.Length 4.9  \n",
       "3 setosa  Sepal.Length 4.7  "
      ]
     },
     "metadata": {},
     "output_type": "display_data"
    }
   ],
   "source": [
    "iris %>% gather(measure, value, 1:4) %>% head(n=3)"
   ]
  },
  {
   "cell_type": "code",
   "execution_count": 19,
   "metadata": {},
   "outputs": [
    {
     "data": {
      "text/html": [
       "<table>\n",
       "<thead><tr><th scope=col>Species</th><th scope=col>measure</th><th scope=col>value</th></tr></thead>\n",
       "<tbody>\n",
       "\t<tr><td>setosa      </td><td>Sepal.Length</td><td>5.1         </td></tr>\n",
       "\t<tr><td>setosa      </td><td>Sepal.Length</td><td>4.9         </td></tr>\n",
       "\t<tr><td>setosa      </td><td>Sepal.Length</td><td>4.7         </td></tr>\n",
       "</tbody>\n",
       "</table>\n"
      ],
      "text/latex": [
       "\\begin{tabular}{r|lll}\n",
       " Species & measure & value\\\\\n",
       "\\hline\n",
       "\t setosa       & Sepal.Length & 5.1         \\\\\n",
       "\t setosa       & Sepal.Length & 4.9         \\\\\n",
       "\t setosa       & Sepal.Length & 4.7         \\\\\n",
       "\\end{tabular}\n"
      ],
      "text/markdown": [
       "\n",
       "Species | measure | value | \n",
       "|---|---|---|\n",
       "| setosa       | Sepal.Length | 5.1          | \n",
       "| setosa       | Sepal.Length | 4.9          | \n",
       "| setosa       | Sepal.Length | 4.7          | \n",
       "\n",
       "\n"
      ],
      "text/plain": [
       "  Species measure      value\n",
       "1 setosa  Sepal.Length 5.1  \n",
       "2 setosa  Sepal.Length 4.9  \n",
       "3 setosa  Sepal.Length 4.7  "
      ]
     },
     "metadata": {},
     "output_type": "display_data"
    }
   ],
   "source": [
    "iris %>% gather(measure, value, c(Sepal.Length, Sepal.Width, Petal.Length, Petal.Width)) %>% head(n=3)"
   ]
  },
  {
   "cell_type": "code",
   "execution_count": 20,
   "metadata": {},
   "outputs": [
    {
     "data": {
      "text/html": [
       "<table>\n",
       "<thead><tr><th scope=col>Species</th><th scope=col>measure</th><th scope=col>value</th></tr></thead>\n",
       "<tbody>\n",
       "\t<tr><td>setosa      </td><td>Sepal.Length</td><td>5.1         </td></tr>\n",
       "\t<tr><td>setosa      </td><td>Sepal.Length</td><td>4.9         </td></tr>\n",
       "\t<tr><td>setosa      </td><td>Sepal.Length</td><td>4.7         </td></tr>\n",
       "</tbody>\n",
       "</table>\n"
      ],
      "text/latex": [
       "\\begin{tabular}{r|lll}\n",
       " Species & measure & value\\\\\n",
       "\\hline\n",
       "\t setosa       & Sepal.Length & 5.1         \\\\\n",
       "\t setosa       & Sepal.Length & 4.9         \\\\\n",
       "\t setosa       & Sepal.Length & 4.7         \\\\\n",
       "\\end{tabular}\n"
      ],
      "text/markdown": [
       "\n",
       "Species | measure | value | \n",
       "|---|---|---|\n",
       "| setosa       | Sepal.Length | 5.1          | \n",
       "| setosa       | Sepal.Length | 4.9          | \n",
       "| setosa       | Sepal.Length | 4.7          | \n",
       "\n",
       "\n"
      ],
      "text/plain": [
       "  Species measure      value\n",
       "1 setosa  Sepal.Length 5.1  \n",
       "2 setosa  Sepal.Length 4.9  \n",
       "3 setosa  Sepal.Length 4.7  "
      ]
     },
     "metadata": {},
     "output_type": "display_data"
    }
   ],
   "source": [
    "iris %>% gather(measure, value, Sepal.Length, Sepal.Width, Petal.Length, Petal.Width) %>% head(n=3)"
   ]
  },
  {
   "cell_type": "code",
   "execution_count": 21,
   "metadata": {},
   "outputs": [
    {
     "data": {
      "text/html": [
       "<table>\n",
       "<thead><tr><th scope=col>Species</th><th scope=col>measure</th><th scope=col>value</th></tr></thead>\n",
       "<tbody>\n",
       "\t<tr><td>setosa      </td><td>Sepal.Length</td><td>5.1         </td></tr>\n",
       "\t<tr><td>setosa      </td><td>Sepal.Length</td><td>4.9         </td></tr>\n",
       "\t<tr><td>setosa      </td><td>Sepal.Length</td><td>4.7         </td></tr>\n",
       "</tbody>\n",
       "</table>\n"
      ],
      "text/latex": [
       "\\begin{tabular}{r|lll}\n",
       " Species & measure & value\\\\\n",
       "\\hline\n",
       "\t setosa       & Sepal.Length & 5.1         \\\\\n",
       "\t setosa       & Sepal.Length & 4.9         \\\\\n",
       "\t setosa       & Sepal.Length & 4.7         \\\\\n",
       "\\end{tabular}\n"
      ],
      "text/markdown": [
       "\n",
       "Species | measure | value | \n",
       "|---|---|---|\n",
       "| setosa       | Sepal.Length | 5.1          | \n",
       "| setosa       | Sepal.Length | 4.9          | \n",
       "| setosa       | Sepal.Length | 4.7          | \n",
       "\n",
       "\n"
      ],
      "text/plain": [
       "  Species measure      value\n",
       "1 setosa  Sepal.Length 5.1  \n",
       "2 setosa  Sepal.Length 4.9  \n",
       "3 setosa  Sepal.Length 4.7  "
      ]
     },
     "metadata": {},
     "output_type": "display_data"
    }
   ],
   "source": [
    "iris %>% gather(measure, value, -Species) %>% head(n=3)"
   ]
  },
  {
   "cell_type": "code",
   "execution_count": 22,
   "metadata": {},
   "outputs": [
    {
     "data": {
      "text/html": [
       "<table>\n",
       "<thead><tr><th scope=col>Species</th><th scope=col>measure</th><th scope=col>value</th></tr></thead>\n",
       "<tbody>\n",
       "\t<tr><td>setosa      </td><td>Sepal.Length</td><td>5.1         </td></tr>\n",
       "\t<tr><td>setosa      </td><td>Sepal.Length</td><td>4.9         </td></tr>\n",
       "\t<tr><td>setosa      </td><td>Sepal.Length</td><td>4.7         </td></tr>\n",
       "</tbody>\n",
       "</table>\n"
      ],
      "text/latex": [
       "\\begin{tabular}{r|lll}\n",
       " Species & measure & value\\\\\n",
       "\\hline\n",
       "\t setosa       & Sepal.Length & 5.1         \\\\\n",
       "\t setosa       & Sepal.Length & 4.9         \\\\\n",
       "\t setosa       & Sepal.Length & 4.7         \\\\\n",
       "\\end{tabular}\n"
      ],
      "text/markdown": [
       "\n",
       "Species | measure | value | \n",
       "|---|---|---|\n",
       "| setosa       | Sepal.Length | 5.1          | \n",
       "| setosa       | Sepal.Length | 4.9          | \n",
       "| setosa       | Sepal.Length | 4.7          | \n",
       "\n",
       "\n"
      ],
      "text/plain": [
       "  Species measure      value\n",
       "1 setosa  Sepal.Length 5.1  \n",
       "2 setosa  Sepal.Length 4.9  \n",
       "3 setosa  Sepal.Length 4.7  "
      ]
     },
     "metadata": {},
     "output_type": "display_data"
    }
   ],
   "source": [
    "iris %>% gather(measure, value, -5) %>% head(n=3)"
   ]
  },
  {
   "cell_type": "markdown",
   "metadata": {},
   "source": [
    "### Use of `gather` for plotting"
   ]
  },
  {
   "cell_type": "code",
   "execution_count": 23,
   "metadata": {},
   "outputs": [
    {
     "data": {},
     "metadata": {},
     "output_type": "display_data"
    },
    {
     "data": {
      "image/png": "[encoded data removed]",
      "text/plain": [
       "plot without title"
      ]
     },
     "metadata": {},
     "output_type": "display_data"
    }
   ],
   "source": [
    "df.3 <- iris %>% gather(measure, value, -Species)\n",
    "ggplot(df.3, aes(x=value, color=Species, fill=Species)) +\n",
    "geom_density(alpha=0.5) +\n",
    "facet_wrap(~ measure, scales = \"free\")"
   ]
  },
  {
   "cell_type": "markdown",
   "metadata": {},
   "source": [
    "## From key-value pairs to columns with `spread`\n",
    "\n",
    "The verb `spread` is the reverse of `gather` - it makes a \"tall\" `data.frame` into a \"wide\" one. However, it requires that each row have a unique identifier to do so. If we just try to apply `spread` to the tall version of `iris`, it will fail because there are 50 of each Species. We therefore need to generate a new column to make each row have a unique identifier."
   ]
  },
  {
   "cell_type": "code",
   "execution_count": 24,
   "metadata": {},
   "outputs": [
    {
     "data": {
      "text/html": [
       "<table>\n",
       "<thead><tr><th scope=col>Species</th><th scope=col>measure</th><th scope=col>value</th></tr></thead>\n",
       "<tbody>\n",
       "\t<tr><td>setosa      </td><td>Sepal.Length</td><td>5.1         </td></tr>\n",
       "\t<tr><td>setosa      </td><td>Sepal.Length</td><td>4.9         </td></tr>\n",
       "\t<tr><td>setosa      </td><td>Sepal.Length</td><td>4.7         </td></tr>\n",
       "\t<tr><td>setosa      </td><td>Sepal.Length</td><td>4.6         </td></tr>\n",
       "\t<tr><td>setosa      </td><td>Sepal.Length</td><td>5.0         </td></tr>\n",
       "\t<tr><td>setosa      </td><td>Sepal.Length</td><td>5.4         </td></tr>\n",
       "</tbody>\n",
       "</table>\n"
      ],
      "text/latex": [
       "\\begin{tabular}{r|lll}\n",
       " Species & measure & value\\\\\n",
       "\\hline\n",
       "\t setosa       & Sepal.Length & 5.1         \\\\\n",
       "\t setosa       & Sepal.Length & 4.9         \\\\\n",
       "\t setosa       & Sepal.Length & 4.7         \\\\\n",
       "\t setosa       & Sepal.Length & 4.6         \\\\\n",
       "\t setosa       & Sepal.Length & 5.0         \\\\\n",
       "\t setosa       & Sepal.Length & 5.4         \\\\\n",
       "\\end{tabular}\n"
      ],
      "text/markdown": [
       "\n",
       "Species | measure | value | \n",
       "|---|---|---|---|---|---|\n",
       "| setosa       | Sepal.Length | 5.1          | \n",
       "| setosa       | Sepal.Length | 4.9          | \n",
       "| setosa       | Sepal.Length | 4.7          | \n",
       "| setosa       | Sepal.Length | 4.6          | \n",
       "| setosa       | Sepal.Length | 5.0          | \n",
       "| setosa       | Sepal.Length | 5.4          | \n",
       "\n",
       "\n"
      ],
      "text/plain": [
       "  Species measure      value\n",
       "1 setosa  Sepal.Length 5.1  \n",
       "2 setosa  Sepal.Length 4.9  \n",
       "3 setosa  Sepal.Length 4.7  \n",
       "4 setosa  Sepal.Length 4.6  \n",
       "5 setosa  Sepal.Length 5.0  \n",
       "6 setosa  Sepal.Length 5.4  "
      ]
     },
     "metadata": {},
     "output_type": "display_data"
    }
   ],
   "source": [
    "head(df.3)"
   ]
  },
  {
   "cell_type": "code",
   "execution_count": 25,
   "metadata": {},
   "outputs": [],
   "source": [
    "df.3$n <- rep(1:50, 12)"
   ]
  },
  {
   "cell_type": "code",
   "execution_count": 26,
   "metadata": {},
   "outputs": [
    {
     "data": {
      "text/html": [
       "<table>\n",
       "<thead><tr><th scope=col>Species</th><th scope=col>n</th><th scope=col>Petal.Length</th><th scope=col>Petal.Width</th><th scope=col>Sepal.Length</th><th scope=col>Sepal.Width</th></tr></thead>\n",
       "<tbody>\n",
       "\t<tr><td>setosa</td><td>1     </td><td>1.4   </td><td>0.2   </td><td>5.1   </td><td>3.5   </td></tr>\n",
       "\t<tr><td>setosa</td><td>2     </td><td>1.4   </td><td>0.2   </td><td>4.9   </td><td>3.0   </td></tr>\n",
       "\t<tr><td>setosa</td><td>3     </td><td>1.3   </td><td>0.2   </td><td>4.7   </td><td>3.2   </td></tr>\n",
       "\t<tr><td>setosa</td><td>4     </td><td>1.5   </td><td>0.2   </td><td>4.6   </td><td>3.1   </td></tr>\n",
       "\t<tr><td>setosa</td><td>5     </td><td>1.4   </td><td>0.2   </td><td>5.0   </td><td>3.6   </td></tr>\n",
       "\t<tr><td>setosa</td><td>6     </td><td>1.7   </td><td>0.4   </td><td>5.4   </td><td>3.9   </td></tr>\n",
       "</tbody>\n",
       "</table>\n"
      ],
      "text/latex": [
       "\\begin{tabular}{r|llllll}\n",
       " Species & n & Petal.Length & Petal.Width & Sepal.Length & Sepal.Width\\\\\n",
       "\\hline\n",
       "\t setosa & 1      & 1.4    & 0.2    & 5.1    & 3.5   \\\\\n",
       "\t setosa & 2      & 1.4    & 0.2    & 4.9    & 3.0   \\\\\n",
       "\t setosa & 3      & 1.3    & 0.2    & 4.7    & 3.2   \\\\\n",
       "\t setosa & 4      & 1.5    & 0.2    & 4.6    & 3.1   \\\\\n",
       "\t setosa & 5      & 1.4    & 0.2    & 5.0    & 3.6   \\\\\n",
       "\t setosa & 6      & 1.7    & 0.4    & 5.4    & 3.9   \\\\\n",
       "\\end{tabular}\n"
      ],
      "text/markdown": [
       "\n",
       "Species | n | Petal.Length | Petal.Width | Sepal.Length | Sepal.Width | \n",
       "|---|---|---|---|---|---|\n",
       "| setosa | 1      | 1.4    | 0.2    | 5.1    | 3.5    | \n",
       "| setosa | 2      | 1.4    | 0.2    | 4.9    | 3.0    | \n",
       "| setosa | 3      | 1.3    | 0.2    | 4.7    | 3.2    | \n",
       "| setosa | 4      | 1.5    | 0.2    | 4.6    | 3.1    | \n",
       "| setosa | 5      | 1.4    | 0.2    | 5.0    | 3.6    | \n",
       "| setosa | 6      | 1.7    | 0.4    | 5.4    | 3.9    | \n",
       "\n",
       "\n"
      ],
      "text/plain": [
       "  Species n Petal.Length Petal.Width Sepal.Length Sepal.Width\n",
       "1 setosa  1 1.4          0.2         5.1          3.5        \n",
       "2 setosa  2 1.4          0.2         4.9          3.0        \n",
       "3 setosa  3 1.3          0.2         4.7          3.2        \n",
       "4 setosa  4 1.5          0.2         4.6          3.1        \n",
       "5 setosa  5 1.4          0.2         5.0          3.6        \n",
       "6 setosa  6 1.7          0.4         5.4          3.9        "
      ]
     },
     "metadata": {},
     "output_type": "display_data"
    }
   ],
   "source": [
    "iris.1 <- df.3 %>% spread(measure, value)\n",
    "head(iris.1)"
   ]
  },
  {
   "cell_type": "markdown",
   "metadata": {},
   "source": [
    "#### We can drop the column n now"
   ]
  },
  {
   "cell_type": "code",
   "execution_count": 27,
   "metadata": {},
   "outputs": [
    {
     "data": {
      "text/html": [
       "<table>\n",
       "<thead><tr><th scope=col>Species</th><th scope=col>Petal.Length</th><th scope=col>Petal.Width</th><th scope=col>Sepal.Length</th><th scope=col>Sepal.Width</th></tr></thead>\n",
       "<tbody>\n",
       "\t<tr><td>setosa</td><td>1.4   </td><td>0.2   </td><td>5.1   </td><td>3.5   </td></tr>\n",
       "\t<tr><td>setosa</td><td>1.4   </td><td>0.2   </td><td>4.9   </td><td>3.0   </td></tr>\n",
       "\t<tr><td>setosa</td><td>1.3   </td><td>0.2   </td><td>4.7   </td><td>3.2   </td></tr>\n",
       "\t<tr><td>setosa</td><td>1.5   </td><td>0.2   </td><td>4.6   </td><td>3.1   </td></tr>\n",
       "\t<tr><td>setosa</td><td>1.4   </td><td>0.2   </td><td>5.0   </td><td>3.6   </td></tr>\n",
       "\t<tr><td>setosa</td><td>1.7   </td><td>0.4   </td><td>5.4   </td><td>3.9   </td></tr>\n",
       "</tbody>\n",
       "</table>\n"
      ],
      "text/latex": [
       "\\begin{tabular}{r|lllll}\n",
       " Species & Petal.Length & Petal.Width & Sepal.Length & Sepal.Width\\\\\n",
       "\\hline\n",
       "\t setosa & 1.4    & 0.2    & 5.1    & 3.5   \\\\\n",
       "\t setosa & 1.4    & 0.2    & 4.9    & 3.0   \\\\\n",
       "\t setosa & 1.3    & 0.2    & 4.7    & 3.2   \\\\\n",
       "\t setosa & 1.5    & 0.2    & 4.6    & 3.1   \\\\\n",
       "\t setosa & 1.4    & 0.2    & 5.0    & 3.6   \\\\\n",
       "\t setosa & 1.7    & 0.4    & 5.4    & 3.9   \\\\\n",
       "\\end{tabular}\n"
      ],
      "text/markdown": [
       "\n",
       "Species | Petal.Length | Petal.Width | Sepal.Length | Sepal.Width | \n",
       "|---|---|---|---|---|---|\n",
       "| setosa | 1.4    | 0.2    | 5.1    | 3.5    | \n",
       "| setosa | 1.4    | 0.2    | 4.9    | 3.0    | \n",
       "| setosa | 1.3    | 0.2    | 4.7    | 3.2    | \n",
       "| setosa | 1.5    | 0.2    | 4.6    | 3.1    | \n",
       "| setosa | 1.4    | 0.2    | 5.0    | 3.6    | \n",
       "| setosa | 1.7    | 0.4    | 5.4    | 3.9    | \n",
       "\n",
       "\n"
      ],
      "text/plain": [
       "  Species Petal.Length Petal.Width Sepal.Length Sepal.Width\n",
       "1 setosa  1.4          0.2         5.1          3.5        \n",
       "2 setosa  1.4          0.2         4.9          3.0        \n",
       "3 setosa  1.3          0.2         4.7          3.2        \n",
       "4 setosa  1.5          0.2         4.6          3.1        \n",
       "5 setosa  1.4          0.2         5.0          3.6        \n",
       "6 setosa  1.7          0.4         5.4          3.9        "
      ]
     },
     "metadata": {},
     "output_type": "display_data"
    }
   ],
   "source": [
    "iris.2 <- iris.1[, -2]\n",
    "head(iris.2)"
   ]
  },
  {
   "cell_type": "markdown",
   "metadata": {},
   "source": [
    "#### How to do all this in a single fluent command using pipes (explained in next session)"
   ]
  },
  {
   "cell_type": "code",
   "execution_count": 28,
   "metadata": {
    "collapsed": true
   },
   "outputs": [],
   "source": [
    "df.3 <- df.3[,-4] # remove n to restore oroignal tall format"
   ]
  },
  {
   "cell_type": "code",
   "execution_count": 29,
   "metadata": {},
   "outputs": [
    {
     "data": {
      "text/html": [
       "<table>\n",
       "<thead><tr><th scope=col>Species</th><th scope=col>Petal.Length</th><th scope=col>Petal.Width</th><th scope=col>Sepal.Length</th><th scope=col>Sepal.Width</th></tr></thead>\n",
       "<tbody>\n",
       "\t<tr><td>setosa</td><td>1.4   </td><td>0.2   </td><td>5.1   </td><td>3.5   </td></tr>\n",
       "\t<tr><td>setosa</td><td>1.4   </td><td>0.2   </td><td>4.9   </td><td>3.0   </td></tr>\n",
       "\t<tr><td>setosa</td><td>1.3   </td><td>0.2   </td><td>4.7   </td><td>3.2   </td></tr>\n",
       "\t<tr><td>setosa</td><td>1.5   </td><td>0.2   </td><td>4.6   </td><td>3.1   </td></tr>\n",
       "\t<tr><td>setosa</td><td>1.4   </td><td>0.2   </td><td>5.0   </td><td>3.6   </td></tr>\n",
       "\t<tr><td>setosa</td><td>1.7   </td><td>0.4   </td><td>5.4   </td><td>3.9   </td></tr>\n",
       "</tbody>\n",
       "</table>\n"
      ],
      "text/latex": [
       "\\begin{tabular}{r|lllll}\n",
       " Species & Petal.Length & Petal.Width & Sepal.Length & Sepal.Width\\\\\n",
       "\\hline\n",
       "\t setosa & 1.4    & 0.2    & 5.1    & 3.5   \\\\\n",
       "\t setosa & 1.4    & 0.2    & 4.9    & 3.0   \\\\\n",
       "\t setosa & 1.3    & 0.2    & 4.7    & 3.2   \\\\\n",
       "\t setosa & 1.5    & 0.2    & 4.6    & 3.1   \\\\\n",
       "\t setosa & 1.4    & 0.2    & 5.0    & 3.6   \\\\\n",
       "\t setosa & 1.7    & 0.4    & 5.4    & 3.9   \\\\\n",
       "\\end{tabular}\n"
      ],
      "text/markdown": [
       "\n",
       "Species | Petal.Length | Petal.Width | Sepal.Length | Sepal.Width | \n",
       "|---|---|---|---|---|---|\n",
       "| setosa | 1.4    | 0.2    | 5.1    | 3.5    | \n",
       "| setosa | 1.4    | 0.2    | 4.9    | 3.0    | \n",
       "| setosa | 1.3    | 0.2    | 4.7    | 3.2    | \n",
       "| setosa | 1.5    | 0.2    | 4.6    | 3.1    | \n",
       "| setosa | 1.4    | 0.2    | 5.0    | 3.6    | \n",
       "| setosa | 1.7    | 0.4    | 5.4    | 3.9    | \n",
       "\n",
       "\n"
      ],
      "text/plain": [
       "  Species Petal.Length Petal.Width Sepal.Length Sepal.Width\n",
       "1 setosa  1.4          0.2         5.1          3.5        \n",
       "2 setosa  1.4          0.2         4.9          3.0        \n",
       "3 setosa  1.3          0.2         4.7          3.2        \n",
       "4 setosa  1.5          0.2         4.6          3.1        \n",
       "5 setosa  1.4          0.2         5.0          3.6        \n",
       "6 setosa  1.7          0.4         5.4          3.9        "
      ]
     },
     "metadata": {},
     "output_type": "display_data"
    }
   ],
   "source": [
    "df.3 %>% \n",
    "mutate(n=rep(1:50,12)) %>% \n",
    "spread(measure, value) %>% \n",
    "select(-n) %>% \n",
    "head"
   ]
  },
  {
   "cell_type": "markdown",
   "metadata": {},
   "source": [
    "## Working with missing data\n",
    "\n",
    "Sometimes cells contain missing values. Here we show the simplest way to deal with this common scenario.  The approach shown is not always appropriate - consult a statistician if in doubt."
   ]
  },
  {
   "cell_type": "code",
   "execution_count": 30,
   "metadata": {},
   "outputs": [],
   "source": [
    "iris.missing <- iris\n",
    "iris.missing[2,3] <- NA\n",
    "iris.missing[4:6, 1] <- NA"
   ]
  },
  {
   "cell_type": "code",
   "execution_count": 31,
   "metadata": {},
   "outputs": [
    {
     "data": {
      "text/html": [
       "<table>\n",
       "<thead><tr><th scope=col>Sepal.Length</th><th scope=col>Sepal.Width</th><th scope=col>Petal.Length</th><th scope=col>Petal.Width</th><th scope=col>Species</th></tr></thead>\n",
       "<tbody>\n",
       "\t<tr><td>5.1   </td><td>3.5   </td><td>1.4   </td><td>0.2   </td><td>setosa</td></tr>\n",
       "\t<tr><td>4.9   </td><td>3.0   </td><td> NA   </td><td>0.2   </td><td>setosa</td></tr>\n",
       "\t<tr><td>4.7   </td><td>3.2   </td><td>1.3   </td><td>0.2   </td><td>setosa</td></tr>\n",
       "\t<tr><td> NA   </td><td>3.1   </td><td>1.5   </td><td>0.2   </td><td>setosa</td></tr>\n",
       "\t<tr><td> NA   </td><td>3.6   </td><td>1.4   </td><td>0.2   </td><td>setosa</td></tr>\n",
       "\t<tr><td> NA   </td><td>3.9   </td><td>1.7   </td><td>0.4   </td><td>setosa</td></tr>\n",
       "</tbody>\n",
       "</table>\n"
      ],
      "text/latex": [
       "\\begin{tabular}{r|lllll}\n",
       " Sepal.Length & Sepal.Width & Petal.Length & Petal.Width & Species\\\\\n",
       "\\hline\n",
       "\t 5.1    & 3.5    & 1.4    & 0.2    & setosa\\\\\n",
       "\t 4.9    & 3.0    &  NA    & 0.2    & setosa\\\\\n",
       "\t 4.7    & 3.2    & 1.3    & 0.2    & setosa\\\\\n",
       "\t  NA    & 3.1    & 1.5    & 0.2    & setosa\\\\\n",
       "\t  NA    & 3.6    & 1.4    & 0.2    & setosa\\\\\n",
       "\t  NA    & 3.9    & 1.7    & 0.4    & setosa\\\\\n",
       "\\end{tabular}\n"
      ],
      "text/markdown": [
       "\n",
       "Sepal.Length | Sepal.Width | Petal.Length | Petal.Width | Species | \n",
       "|---|---|---|---|---|---|\n",
       "| 5.1    | 3.5    | 1.4    | 0.2    | setosa | \n",
       "| 4.9    | 3.0    |  NA    | 0.2    | setosa | \n",
       "| 4.7    | 3.2    | 1.3    | 0.2    | setosa | \n",
       "|  NA    | 3.1    | 1.5    | 0.2    | setosa | \n",
       "|  NA    | 3.6    | 1.4    | 0.2    | setosa | \n",
       "|  NA    | 3.9    | 1.7    | 0.4    | setosa | \n",
       "\n",
       "\n"
      ],
      "text/plain": [
       "  Sepal.Length Sepal.Width Petal.Length Petal.Width Species\n",
       "1 5.1          3.5         1.4          0.2         setosa \n",
       "2 4.9          3.0          NA          0.2         setosa \n",
       "3 4.7          3.2         1.3          0.2         setosa \n",
       "4  NA          3.1         1.5          0.2         setosa \n",
       "5  NA          3.6         1.4          0.2         setosa \n",
       "6  NA          3.9         1.7          0.4         setosa "
      ]
     },
     "metadata": {},
     "output_type": "display_data"
    }
   ],
   "source": [
    "head(iris.missing)"
   ]
  },
  {
   "cell_type": "markdown",
   "metadata": {},
   "source": [
    "### Drop any row with missing data\n",
    "\n",
    "This is known as complete case analysis, and is appropriate when you have abundant observations and the missing values are believed to be missing at random."
   ]
  },
  {
   "cell_type": "code",
   "execution_count": 32,
   "metadata": {},
   "outputs": [
    {
     "data": {
      "text/html": [
       "<table>\n",
       "<thead><tr><th></th><th scope=col>Sepal.Length</th><th scope=col>Sepal.Width</th><th scope=col>Petal.Length</th><th scope=col>Petal.Width</th><th scope=col>Species</th></tr></thead>\n",
       "<tbody>\n",
       "\t<tr><th scope=row>1</th><td>5.1   </td><td>3.5   </td><td>1.4   </td><td>0.2   </td><td>setosa</td></tr>\n",
       "\t<tr><th scope=row>3</th><td>4.7   </td><td>3.2   </td><td>1.3   </td><td>0.2   </td><td>setosa</td></tr>\n",
       "\t<tr><th scope=row>7</th><td>4.6   </td><td>3.4   </td><td>1.4   </td><td>0.3   </td><td>setosa</td></tr>\n",
       "\t<tr><th scope=row>8</th><td>5.0   </td><td>3.4   </td><td>1.5   </td><td>0.2   </td><td>setosa</td></tr>\n",
       "\t<tr><th scope=row>9</th><td>4.4   </td><td>2.9   </td><td>1.4   </td><td>0.2   </td><td>setosa</td></tr>\n",
       "\t<tr><th scope=row>10</th><td>4.9   </td><td>3.1   </td><td>1.5   </td><td>0.1   </td><td>setosa</td></tr>\n",
       "</tbody>\n",
       "</table>\n"
      ],
      "text/latex": [
       "\\begin{tabular}{r|lllll}\n",
       "  & Sepal.Length & Sepal.Width & Petal.Length & Petal.Width & Species\\\\\n",
       "\\hline\n",
       "\t1 & 5.1    & 3.5    & 1.4    & 0.2    & setosa\\\\\n",
       "\t3 & 4.7    & 3.2    & 1.3    & 0.2    & setosa\\\\\n",
       "\t7 & 4.6    & 3.4    & 1.4    & 0.3    & setosa\\\\\n",
       "\t8 & 5.0    & 3.4    & 1.5    & 0.2    & setosa\\\\\n",
       "\t9 & 4.4    & 2.9    & 1.4    & 0.2    & setosa\\\\\n",
       "\t10 & 4.9    & 3.1    & 1.5    & 0.1    & setosa\\\\\n",
       "\\end{tabular}\n"
      ],
      "text/markdown": [
       "\n",
       "| <!--/--> | Sepal.Length | Sepal.Width | Petal.Length | Petal.Width | Species | \n",
       "|---|---|---|---|---|---|\n",
       "| 1 | 5.1    | 3.5    | 1.4    | 0.2    | setosa | \n",
       "| 3 | 4.7    | 3.2    | 1.3    | 0.2    | setosa | \n",
       "| 7 | 4.6    | 3.4    | 1.4    | 0.3    | setosa | \n",
       "| 8 | 5.0    | 3.4    | 1.5    | 0.2    | setosa | \n",
       "| 9 | 4.4    | 2.9    | 1.4    | 0.2    | setosa | \n",
       "| 10 | 4.9    | 3.1    | 1.5    | 0.1    | setosa | \n",
       "\n",
       "\n"
      ],
      "text/plain": [
       "   Sepal.Length Sepal.Width Petal.Length Petal.Width Species\n",
       "1  5.1          3.5         1.4          0.2         setosa \n",
       "3  4.7          3.2         1.3          0.2         setosa \n",
       "7  4.6          3.4         1.4          0.3         setosa \n",
       "8  5.0          3.4         1.5          0.2         setosa \n",
       "9  4.4          2.9         1.4          0.2         setosa \n",
       "10 4.9          3.1         1.5          0.1         setosa "
      ]
     },
     "metadata": {},
     "output_type": "display_data"
    }
   ],
   "source": [
    "iris.missing %>% drop_na %>% head"
   ]
  },
  {
   "cell_type": "markdown",
   "metadata": {},
   "source": [
    "## Combining data with `join` (part of `dplyr`)\n",
    "\n",
    "Sometimes data is distributed over many files. In the simplest case, each data set has exactly the same format as the others, and we just need to append additional rows. At other times, each data set contains some different variable (e.g. merging clinical and assay data) and we need to match rows according to some unique row identifier."
   ]
  },
  {
   "cell_type": "markdown",
   "metadata": {
    "collapsed": true
   },
   "source": [
    "### When each data.frame is similar"
   ]
  },
  {
   "cell_type": "code",
   "execution_count": 33,
   "metadata": {},
   "outputs": [
    {
     "data": {
      "text/html": [
       "<ol class=list-inline>\n",
       "\t<li>'setosa'</li>\n",
       "\t<li>'versicolor'</li>\n",
       "\t<li>'virginica'</li>\n",
       "</ol>\n"
      ],
      "text/latex": [
       "\\begin{enumerate*}\n",
       "\\item 'setosa'\n",
       "\\item 'versicolor'\n",
       "\\item 'virginica'\n",
       "\\end{enumerate*}\n"
      ],
      "text/markdown": [
       "1. 'setosa'\n",
       "2. 'versicolor'\n",
       "3. 'virginica'\n",
       "\n",
       "\n"
      ],
      "text/plain": [
       "[1] \"setosa\"     \"versicolor\" \"virginica\" "
      ]
     },
     "metadata": {},
     "output_type": "display_data"
    }
   ],
   "source": [
    "levels(iris$Species)"
   ]
  },
  {
   "cell_type": "code",
   "execution_count": 34,
   "metadata": {},
   "outputs": [],
   "source": [
    "setosa <- iris %>% filter(Species==\"setosa\")\n",
    "versicolor <- iris %>% filter(Species==\"versicolor\")\n",
    "virginica <- iris %>% filter(Species==\"virginica\")"
   ]
  },
  {
   "cell_type": "code",
   "execution_count": 35,
   "metadata": {},
   "outputs": [
    {
     "data": {
      "text/html": [
       "<ol class=list-inline>\n",
       "\t<li>50</li>\n",
       "\t<li>5</li>\n",
       "</ol>\n"
      ],
      "text/latex": [
       "\\begin{enumerate*}\n",
       "\\item 50\n",
       "\\item 5\n",
       "\\end{enumerate*}\n"
      ],
      "text/markdown": [
       "1. 50\n",
       "2. 5\n",
       "\n",
       "\n"
      ],
      "text/plain": [
       "[1] 50  5"
      ]
     },
     "metadata": {},
     "output_type": "display_data"
    }
   ],
   "source": [
    "dim(setosa)"
   ]
  },
  {
   "cell_type": "code",
   "execution_count": 36,
   "metadata": {},
   "outputs": [
    {
     "data": {
      "text/html": [
       "<table>\n",
       "<thead><tr><th scope=col>Sepal.Length</th><th scope=col>Sepal.Width</th><th scope=col>Petal.Length</th><th scope=col>Petal.Width</th><th scope=col>Species</th></tr></thead>\n",
       "<tbody>\n",
       "\t<tr><td>5.1   </td><td>3.5   </td><td>1.4   </td><td>0.2   </td><td>setosa</td></tr>\n",
       "\t<tr><td>4.9   </td><td>3.0   </td><td>1.4   </td><td>0.2   </td><td>setosa</td></tr>\n",
       "\t<tr><td>4.7   </td><td>3.2   </td><td>1.3   </td><td>0.2   </td><td>setosa</td></tr>\n",
       "</tbody>\n",
       "</table>\n"
      ],
      "text/latex": [
       "\\begin{tabular}{r|lllll}\n",
       " Sepal.Length & Sepal.Width & Petal.Length & Petal.Width & Species\\\\\n",
       "\\hline\n",
       "\t 5.1    & 3.5    & 1.4    & 0.2    & setosa\\\\\n",
       "\t 4.9    & 3.0    & 1.4    & 0.2    & setosa\\\\\n",
       "\t 4.7    & 3.2    & 1.3    & 0.2    & setosa\\\\\n",
       "\\end{tabular}\n"
      ],
      "text/markdown": [
       "\n",
       "Sepal.Length | Sepal.Width | Petal.Length | Petal.Width | Species | \n",
       "|---|---|---|\n",
       "| 5.1    | 3.5    | 1.4    | 0.2    | setosa | \n",
       "| 4.9    | 3.0    | 1.4    | 0.2    | setosa | \n",
       "| 4.7    | 3.2    | 1.3    | 0.2    | setosa | \n",
       "\n",
       "\n"
      ],
      "text/plain": [
       "  Sepal.Length Sepal.Width Petal.Length Petal.Width Species\n",
       "1 5.1          3.5         1.4          0.2         setosa \n",
       "2 4.9          3.0         1.4          0.2         setosa \n",
       "3 4.7          3.2         1.3          0.2         setosa "
      ]
     },
     "metadata": {},
     "output_type": "display_data"
    }
   ],
   "source": [
    "head(setosa, 3)"
   ]
  },
  {
   "cell_type": "code",
   "execution_count": 37,
   "metadata": {},
   "outputs": [
    {
     "data": {
      "text/html": [
       "<ol class=list-inline>\n",
       "\t<li>50</li>\n",
       "\t<li>5</li>\n",
       "</ol>\n"
      ],
      "text/latex": [
       "\\begin{enumerate*}\n",
       "\\item 50\n",
       "\\item 5\n",
       "\\end{enumerate*}\n"
      ],
      "text/markdown": [
       "1. 50\n",
       "2. 5\n",
       "\n",
       "\n"
      ],
      "text/plain": [
       "[1] 50  5"
      ]
     },
     "metadata": {},
     "output_type": "display_data"
    }
   ],
   "source": [
    "dim(versicolor)"
   ]
  },
  {
   "cell_type": "code",
   "execution_count": 38,
   "metadata": {},
   "outputs": [
    {
     "data": {
      "text/html": [
       "<table>\n",
       "<thead><tr><th scope=col>Sepal.Length</th><th scope=col>Sepal.Width</th><th scope=col>Petal.Length</th><th scope=col>Petal.Width</th><th scope=col>Species</th></tr></thead>\n",
       "<tbody>\n",
       "\t<tr><td>7.0       </td><td>3.2       </td><td>4.7       </td><td>1.4       </td><td>versicolor</td></tr>\n",
       "\t<tr><td>6.4       </td><td>3.2       </td><td>4.5       </td><td>1.5       </td><td>versicolor</td></tr>\n",
       "\t<tr><td>6.9       </td><td>3.1       </td><td>4.9       </td><td>1.5       </td><td>versicolor</td></tr>\n",
       "</tbody>\n",
       "</table>\n"
      ],
      "text/latex": [
       "\\begin{tabular}{r|lllll}\n",
       " Sepal.Length & Sepal.Width & Petal.Length & Petal.Width & Species\\\\\n",
       "\\hline\n",
       "\t 7.0        & 3.2        & 4.7        & 1.4        & versicolor\\\\\n",
       "\t 6.4        & 3.2        & 4.5        & 1.5        & versicolor\\\\\n",
       "\t 6.9        & 3.1        & 4.9        & 1.5        & versicolor\\\\\n",
       "\\end{tabular}\n"
      ],
      "text/markdown": [
       "\n",
       "Sepal.Length | Sepal.Width | Petal.Length | Petal.Width | Species | \n",
       "|---|---|---|\n",
       "| 7.0        | 3.2        | 4.7        | 1.4        | versicolor | \n",
       "| 6.4        | 3.2        | 4.5        | 1.5        | versicolor | \n",
       "| 6.9        | 3.1        | 4.9        | 1.5        | versicolor | \n",
       "\n",
       "\n"
      ],
      "text/plain": [
       "  Sepal.Length Sepal.Width Petal.Length Petal.Width Species   \n",
       "1 7.0          3.2         4.7          1.4         versicolor\n",
       "2 6.4          3.2         4.5          1.5         versicolor\n",
       "3 6.9          3.1         4.9          1.5         versicolor"
      ]
     },
     "metadata": {},
     "output_type": "display_data"
    }
   ],
   "source": [
    "head(versicolor, 3)"
   ]
  },
  {
   "cell_type": "code",
   "execution_count": 39,
   "metadata": {},
   "outputs": [
    {
     "data": {
      "text/html": [
       "<ol class=list-inline>\n",
       "\t<li>50</li>\n",
       "\t<li>5</li>\n",
       "</ol>\n"
      ],
      "text/latex": [
       "\\begin{enumerate*}\n",
       "\\item 50\n",
       "\\item 5\n",
       "\\end{enumerate*}\n"
      ],
      "text/markdown": [
       "1. 50\n",
       "2. 5\n",
       "\n",
       "\n"
      ],
      "text/plain": [
       "[1] 50  5"
      ]
     },
     "metadata": {},
     "output_type": "display_data"
    }
   ],
   "source": [
    "dim(virginica)"
   ]
  },
  {
   "cell_type": "code",
   "execution_count": 40,
   "metadata": {},
   "outputs": [
    {
     "data": {
      "text/html": [
       "<table>\n",
       "<thead><tr><th scope=col>Sepal.Length</th><th scope=col>Sepal.Width</th><th scope=col>Petal.Length</th><th scope=col>Petal.Width</th><th scope=col>Species</th></tr></thead>\n",
       "<tbody>\n",
       "\t<tr><td>6.3      </td><td>3.3      </td><td>6.0      </td><td>2.5      </td><td>virginica</td></tr>\n",
       "\t<tr><td>5.8      </td><td>2.7      </td><td>5.1      </td><td>1.9      </td><td>virginica</td></tr>\n",
       "\t<tr><td>7.1      </td><td>3.0      </td><td>5.9      </td><td>2.1      </td><td>virginica</td></tr>\n",
       "</tbody>\n",
       "</table>\n"
      ],
      "text/latex": [
       "\\begin{tabular}{r|lllll}\n",
       " Sepal.Length & Sepal.Width & Petal.Length & Petal.Width & Species\\\\\n",
       "\\hline\n",
       "\t 6.3       & 3.3       & 6.0       & 2.5       & virginica\\\\\n",
       "\t 5.8       & 2.7       & 5.1       & 1.9       & virginica\\\\\n",
       "\t 7.1       & 3.0       & 5.9       & 2.1       & virginica\\\\\n",
       "\\end{tabular}\n"
      ],
      "text/markdown": [
       "\n",
       "Sepal.Length | Sepal.Width | Petal.Length | Petal.Width | Species | \n",
       "|---|---|---|\n",
       "| 6.3       | 3.3       | 6.0       | 2.5       | virginica | \n",
       "| 5.8       | 2.7       | 5.1       | 1.9       | virginica | \n",
       "| 7.1       | 3.0       | 5.9       | 2.1       | virginica | \n",
       "\n",
       "\n"
      ],
      "text/plain": [
       "  Sepal.Length Sepal.Width Petal.Length Petal.Width Species  \n",
       "1 6.3          3.3         6.0          2.5         virginica\n",
       "2 5.8          2.7         5.1          1.9         virginica\n",
       "3 7.1          3.0         5.9          2.1         virginica"
      ]
     },
     "metadata": {},
     "output_type": "display_data"
    }
   ],
   "source": [
    "head(virginica, 3)"
   ]
  },
  {
   "cell_type": "code",
   "execution_count": 41,
   "metadata": {},
   "outputs": [],
   "source": [
    "iris.combined <- bind_rows(setosa, versicolor, virginica)"
   ]
  },
  {
   "cell_type": "code",
   "execution_count": 42,
   "metadata": {},
   "outputs": [
    {
     "data": {
      "text/html": [
       "<ol class=list-inline>\n",
       "\t<li>150</li>\n",
       "\t<li>5</li>\n",
       "</ol>\n"
      ],
      "text/latex": [
       "\\begin{enumerate*}\n",
       "\\item 150\n",
       "\\item 5\n",
       "\\end{enumerate*}\n"
      ],
      "text/markdown": [
       "1. 150\n",
       "2. 5\n",
       "\n",
       "\n"
      ],
      "text/plain": [
       "[1] 150   5"
      ]
     },
     "metadata": {},
     "output_type": "display_data"
    }
   ],
   "source": [
    "dim(iris.combined)"
   ]
  },
  {
   "cell_type": "code",
   "execution_count": 43,
   "metadata": {},
   "outputs": [
    {
     "data": {
      "text/html": [
       "<table>\n",
       "<thead><tr><th></th><th scope=col>Sepal.Length</th><th scope=col>Sepal.Width</th><th scope=col>Petal.Length</th><th scope=col>Petal.Width</th><th scope=col>Species</th></tr></thead>\n",
       "<tbody>\n",
       "\t<tr><th scope=row>43</th><td>4.4       </td><td>3.2       </td><td>1.3       </td><td>0.2       </td><td>setosa    </td></tr>\n",
       "\t<tr><th scope=row>129</th><td>6.4       </td><td>2.8       </td><td>5.6       </td><td>2.1       </td><td>virginica </td></tr>\n",
       "\t<tr><th scope=row>26</th><td>5.0       </td><td>3.0       </td><td>1.6       </td><td>0.2       </td><td>setosa    </td></tr>\n",
       "\t<tr><th scope=row>15</th><td>5.8       </td><td>4.0       </td><td>1.2       </td><td>0.2       </td><td>setosa    </td></tr>\n",
       "\t<tr><th scope=row>3</th><td>4.7       </td><td>3.2       </td><td>1.3       </td><td>0.2       </td><td>setosa    </td></tr>\n",
       "\t<tr><th scope=row>7</th><td>4.6       </td><td>3.4       </td><td>1.4       </td><td>0.3       </td><td>setosa    </td></tr>\n",
       "\t<tr><th scope=row>145</th><td>6.7       </td><td>3.3       </td><td>5.7       </td><td>2.5       </td><td>virginica </td></tr>\n",
       "\t<tr><th scope=row>131</th><td>7.4       </td><td>2.8       </td><td>6.1       </td><td>1.9       </td><td>virginica </td></tr>\n",
       "\t<tr><th scope=row>85</th><td>5.4       </td><td>3.0       </td><td>4.5       </td><td>1.5       </td><td>versicolor</td></tr>\n",
       "\t<tr><th scope=row>28</th><td>5.2       </td><td>3.5       </td><td>1.5       </td><td>0.2       </td><td>setosa    </td></tr>\n",
       "</tbody>\n",
       "</table>\n"
      ],
      "text/latex": [
       "\\begin{tabular}{r|lllll}\n",
       "  & Sepal.Length & Sepal.Width & Petal.Length & Petal.Width & Species\\\\\n",
       "\\hline\n",
       "\t43 & 4.4        & 3.2        & 1.3        & 0.2        & setosa    \\\\\n",
       "\t129 & 6.4        & 2.8        & 5.6        & 2.1        & virginica \\\\\n",
       "\t26 & 5.0        & 3.0        & 1.6        & 0.2        & setosa    \\\\\n",
       "\t15 & 5.8        & 4.0        & 1.2        & 0.2        & setosa    \\\\\n",
       "\t3 & 4.7        & 3.2        & 1.3        & 0.2        & setosa    \\\\\n",
       "\t7 & 4.6        & 3.4        & 1.4        & 0.3        & setosa    \\\\\n",
       "\t145 & 6.7        & 3.3        & 5.7        & 2.5        & virginica \\\\\n",
       "\t131 & 7.4        & 2.8        & 6.1        & 1.9        & virginica \\\\\n",
       "\t85 & 5.4        & 3.0        & 4.5        & 1.5        & versicolor\\\\\n",
       "\t28 & 5.2        & 3.5        & 1.5        & 0.2        & setosa    \\\\\n",
       "\\end{tabular}\n"
      ],
      "text/markdown": [
       "\n",
       "| <!--/--> | Sepal.Length | Sepal.Width | Petal.Length | Petal.Width | Species | \n",
       "|---|---|---|---|---|---|---|---|---|---|\n",
       "| 43 | 4.4        | 3.2        | 1.3        | 0.2        | setosa     | \n",
       "| 129 | 6.4        | 2.8        | 5.6        | 2.1        | virginica  | \n",
       "| 26 | 5.0        | 3.0        | 1.6        | 0.2        | setosa     | \n",
       "| 15 | 5.8        | 4.0        | 1.2        | 0.2        | setosa     | \n",
       "| 3 | 4.7        | 3.2        | 1.3        | 0.2        | setosa     | \n",
       "| 7 | 4.6        | 3.4        | 1.4        | 0.3        | setosa     | \n",
       "| 145 | 6.7        | 3.3        | 5.7        | 2.5        | virginica  | \n",
       "| 131 | 7.4        | 2.8        | 6.1        | 1.9        | virginica  | \n",
       "| 85 | 5.4        | 3.0        | 4.5        | 1.5        | versicolor | \n",
       "| 28 | 5.2        | 3.5        | 1.5        | 0.2        | setosa     | \n",
       "\n",
       "\n"
      ],
      "text/plain": [
       "    Sepal.Length Sepal.Width Petal.Length Petal.Width Species   \n",
       "43  4.4          3.2         1.3          0.2         setosa    \n",
       "129 6.4          2.8         5.6          2.1         virginica \n",
       "26  5.0          3.0         1.6          0.2         setosa    \n",
       "15  5.8          4.0         1.2          0.2         setosa    \n",
       "3   4.7          3.2         1.3          0.2         setosa    \n",
       "7   4.6          3.4         1.4          0.3         setosa    \n",
       "145 6.7          3.3         5.7          2.5         virginica \n",
       "131 7.4          2.8         6.1          1.9         virginica \n",
       "85  5.4          3.0         4.5          1.5         versicolor\n",
       "28  5.2          3.5         1.5          0.2         setosa    "
      ]
     },
     "metadata": {},
     "output_type": "display_data"
    }
   ],
   "source": [
    "iris.combined %>% sample_n(10)"
   ]
  },
  {
   "cell_type": "markdown",
   "metadata": {},
   "source": [
    "### When data frames are different"
   ]
  },
  {
   "cell_type": "code",
   "execution_count": 44,
   "metadata": {},
   "outputs": [
    {
     "data": {
      "text/html": [
       "<table>\n",
       "<thead><tr><th scope=col>site.id</th><th scope=col>pt.id</th><th scope=col>age</th></tr></thead>\n",
       "<tbody>\n",
       "\t<tr><td>A  </td><td>100</td><td>38 </td></tr>\n",
       "\t<tr><td>A  </td><td>101</td><td>35 </td></tr>\n",
       "\t<tr><td>A  </td><td>102</td><td>43 </td></tr>\n",
       "\t<tr><td>B  </td><td>100</td><td>50 </td></tr>\n",
       "\t<tr><td>B  </td><td>102</td><td>62 </td></tr>\n",
       "\t<tr><td>B  </td><td>105</td><td>50 </td></tr>\n",
       "</tbody>\n",
       "</table>\n"
      ],
      "text/latex": [
       "\\begin{tabular}{r|lll}\n",
       " site.id & pt.id & age\\\\\n",
       "\\hline\n",
       "\t A   & 100 & 38 \\\\\n",
       "\t A   & 101 & 35 \\\\\n",
       "\t A   & 102 & 43 \\\\\n",
       "\t B   & 100 & 50 \\\\\n",
       "\t B   & 102 & 62 \\\\\n",
       "\t B   & 105 & 50 \\\\\n",
       "\\end{tabular}\n"
      ],
      "text/markdown": [
       "\n",
       "site.id | pt.id | age | \n",
       "|---|---|---|---|---|---|\n",
       "| A   | 100 | 38  | \n",
       "| A   | 101 | 35  | \n",
       "| A   | 102 | 43  | \n",
       "| B   | 100 | 50  | \n",
       "| B   | 102 | 62  | \n",
       "| B   | 105 | 50  | \n",
       "\n",
       "\n"
      ],
      "text/plain": [
       "  site.id pt.id age\n",
       "1 A       100   38 \n",
       "2 A       101   35 \n",
       "3 A       102   43 \n",
       "4 B       100   50 \n",
       "5 B       102   62 \n",
       "6 B       105   50 "
      ]
     },
     "metadata": {},
     "output_type": "display_data"
    }
   ],
   "source": [
    "df.clin <- data.frame(site.id=c('A', 'A', 'A', 'B', 'B', 'B'), \n",
    "                      pt.id=c(100, 101, 102, 100, 102, 105), \n",
    "                      age=c(38, 35, 43, 50, 62, 50))\n",
    "df.clin"
   ]
  },
  {
   "cell_type": "code",
   "execution_count": 45,
   "metadata": {},
   "outputs": [
    {
     "data": {
      "text/html": [
       "<table>\n",
       "<thead><tr><th scope=col>site.id</th><th scope=col>pt.id</th><th scope=col>values</th></tr></thead>\n",
       "<tbody>\n",
       "\t<tr><td>B  </td><td>103</td><td>872</td></tr>\n",
       "\t<tr><td>B  </td><td>100</td><td>623</td></tr>\n",
       "\t<tr><td>B  </td><td>105</td><td>307</td></tr>\n",
       "\t<tr><td>A  </td><td>100</td><td>325</td></tr>\n",
       "\t<tr><td>A  </td><td>101</td><td>651</td></tr>\n",
       "\t<tr><td>A  </td><td>102</td><td>255</td></tr>\n",
       "</tbody>\n",
       "</table>\n"
      ],
      "text/latex": [
       "\\begin{tabular}{r|lll}\n",
       " site.id & pt.id & values\\\\\n",
       "\\hline\n",
       "\t B   & 103 & 872\\\\\n",
       "\t B   & 100 & 623\\\\\n",
       "\t B   & 105 & 307\\\\\n",
       "\t A   & 100 & 325\\\\\n",
       "\t A   & 101 & 651\\\\\n",
       "\t A   & 102 & 255\\\\\n",
       "\\end{tabular}\n"
      ],
      "text/markdown": [
       "\n",
       "site.id | pt.id | values | \n",
       "|---|---|---|---|---|---|\n",
       "| B   | 103 | 872 | \n",
       "| B   | 100 | 623 | \n",
       "| B   | 105 | 307 | \n",
       "| A   | 100 | 325 | \n",
       "| A   | 101 | 651 | \n",
       "| A   | 102 | 255 | \n",
       "\n",
       "\n"
      ],
      "text/plain": [
       "  site.id pt.id values\n",
       "1 B       103   872   \n",
       "2 B       100   623   \n",
       "3 B       105   307   \n",
       "4 A       100   325   \n",
       "5 A       101   651   \n",
       "6 A       102   255   "
      ]
     },
     "metadata": {},
     "output_type": "display_data"
    }
   ],
   "source": [
    "df.lab <- data.frame(site.id=c('B', 'B', 'B', 'A', 'A', 'A'),\n",
    "                     pt.id=c(103, 100, 105, 100, 101, 102),\n",
    "                     values=sample(100:1000, 6))\n",
    "df.lab"
   ]
  },
  {
   "cell_type": "markdown",
   "metadata": {},
   "source": [
    "#### Keep only elements in common"
   ]
  },
  {
   "cell_type": "code",
   "execution_count": 46,
   "metadata": {},
   "outputs": [
    {
     "data": {
      "text/html": [
       "<table>\n",
       "<thead><tr><th scope=col>site.id</th><th scope=col>pt.id</th><th scope=col>age</th><th scope=col>values</th></tr></thead>\n",
       "<tbody>\n",
       "\t<tr><td>A  </td><td>100</td><td>38 </td><td>325</td></tr>\n",
       "\t<tr><td>A  </td><td>101</td><td>35 </td><td>651</td></tr>\n",
       "\t<tr><td>A  </td><td>102</td><td>43 </td><td>255</td></tr>\n",
       "\t<tr><td>B  </td><td>100</td><td>50 </td><td>623</td></tr>\n",
       "\t<tr><td>B  </td><td>105</td><td>50 </td><td>307</td></tr>\n",
       "</tbody>\n",
       "</table>\n"
      ],
      "text/latex": [
       "\\begin{tabular}{r|llll}\n",
       " site.id & pt.id & age & values\\\\\n",
       "\\hline\n",
       "\t A   & 100 & 38  & 325\\\\\n",
       "\t A   & 101 & 35  & 651\\\\\n",
       "\t A   & 102 & 43  & 255\\\\\n",
       "\t B   & 100 & 50  & 623\\\\\n",
       "\t B   & 105 & 50  & 307\\\\\n",
       "\\end{tabular}\n"
      ],
      "text/markdown": [
       "\n",
       "site.id | pt.id | age | values | \n",
       "|---|---|---|---|---|\n",
       "| A   | 100 | 38  | 325 | \n",
       "| A   | 101 | 35  | 651 | \n",
       "| A   | 102 | 43  | 255 | \n",
       "| B   | 100 | 50  | 623 | \n",
       "| B   | 105 | 50  | 307 | \n",
       "\n",
       "\n"
      ],
      "text/plain": [
       "  site.id pt.id age values\n",
       "1 A       100   38  325   \n",
       "2 A       101   35  651   \n",
       "3 A       102   43  255   \n",
       "4 B       100   50  623   \n",
       "5 B       105   50  307   "
      ]
     },
     "metadata": {},
     "output_type": "display_data"
    }
   ],
   "source": [
    "df.clin %>% inner_join(df.lab, by = c(\"site.id\", \"pt.id\"))"
   ]
  },
  {
   "cell_type": "markdown",
   "metadata": {},
   "source": [
    "#### Keep all rows in df.clin"
   ]
  },
  {
   "cell_type": "code",
   "execution_count": 47,
   "metadata": {},
   "outputs": [
    {
     "data": {
      "text/html": [
       "<table>\n",
       "<thead><tr><th scope=col>site.id</th><th scope=col>pt.id</th><th scope=col>age</th><th scope=col>values</th></tr></thead>\n",
       "<tbody>\n",
       "\t<tr><td>A  </td><td>100</td><td>38 </td><td>325</td></tr>\n",
       "\t<tr><td>A  </td><td>101</td><td>35 </td><td>651</td></tr>\n",
       "\t<tr><td>A  </td><td>102</td><td>43 </td><td>255</td></tr>\n",
       "\t<tr><td>B  </td><td>100</td><td>50 </td><td>623</td></tr>\n",
       "\t<tr><td>B  </td><td>102</td><td>62 </td><td> NA</td></tr>\n",
       "\t<tr><td>B  </td><td>105</td><td>50 </td><td>307</td></tr>\n",
       "</tbody>\n",
       "</table>\n"
      ],
      "text/latex": [
       "\\begin{tabular}{r|llll}\n",
       " site.id & pt.id & age & values\\\\\n",
       "\\hline\n",
       "\t A   & 100 & 38  & 325\\\\\n",
       "\t A   & 101 & 35  & 651\\\\\n",
       "\t A   & 102 & 43  & 255\\\\\n",
       "\t B   & 100 & 50  & 623\\\\\n",
       "\t B   & 102 & 62  &  NA\\\\\n",
       "\t B   & 105 & 50  & 307\\\\\n",
       "\\end{tabular}\n"
      ],
      "text/markdown": [
       "\n",
       "site.id | pt.id | age | values | \n",
       "|---|---|---|---|---|---|\n",
       "| A   | 100 | 38  | 325 | \n",
       "| A   | 101 | 35  | 651 | \n",
       "| A   | 102 | 43  | 255 | \n",
       "| B   | 100 | 50  | 623 | \n",
       "| B   | 102 | 62  |  NA | \n",
       "| B   | 105 | 50  | 307 | \n",
       "\n",
       "\n"
      ],
      "text/plain": [
       "  site.id pt.id age values\n",
       "1 A       100   38  325   \n",
       "2 A       101   35  651   \n",
       "3 A       102   43  255   \n",
       "4 B       100   50  623   \n",
       "5 B       102   62   NA   \n",
       "6 B       105   50  307   "
      ]
     },
     "metadata": {},
     "output_type": "display_data"
    }
   ],
   "source": [
    "df.clin %>% left_join(df.lab, by = c(\"site.id\", \"pt.id\"))"
   ]
  },
  {
   "cell_type": "markdown",
   "metadata": {},
   "source": [
    "#### Keep all rows in df.lab"
   ]
  },
  {
   "cell_type": "code",
   "execution_count": 48,
   "metadata": {},
   "outputs": [
    {
     "data": {
      "text/html": [
       "<table>\n",
       "<thead><tr><th scope=col>site.id</th><th scope=col>pt.id</th><th scope=col>age</th><th scope=col>values</th></tr></thead>\n",
       "<tbody>\n",
       "\t<tr><td>B  </td><td>103</td><td>NA </td><td>872</td></tr>\n",
       "\t<tr><td>B  </td><td>100</td><td>50 </td><td>623</td></tr>\n",
       "\t<tr><td>B  </td><td>105</td><td>50 </td><td>307</td></tr>\n",
       "\t<tr><td>A  </td><td>100</td><td>38 </td><td>325</td></tr>\n",
       "\t<tr><td>A  </td><td>101</td><td>35 </td><td>651</td></tr>\n",
       "\t<tr><td>A  </td><td>102</td><td>43 </td><td>255</td></tr>\n",
       "</tbody>\n",
       "</table>\n"
      ],
      "text/latex": [
       "\\begin{tabular}{r|llll}\n",
       " site.id & pt.id & age & values\\\\\n",
       "\\hline\n",
       "\t B   & 103 & NA  & 872\\\\\n",
       "\t B   & 100 & 50  & 623\\\\\n",
       "\t B   & 105 & 50  & 307\\\\\n",
       "\t A   & 100 & 38  & 325\\\\\n",
       "\t A   & 101 & 35  & 651\\\\\n",
       "\t A   & 102 & 43  & 255\\\\\n",
       "\\end{tabular}\n"
      ],
      "text/markdown": [
       "\n",
       "site.id | pt.id | age | values | \n",
       "|---|---|---|---|---|---|\n",
       "| B   | 103 | NA  | 872 | \n",
       "| B   | 100 | 50  | 623 | \n",
       "| B   | 105 | 50  | 307 | \n",
       "| A   | 100 | 38  | 325 | \n",
       "| A   | 101 | 35  | 651 | \n",
       "| A   | 102 | 43  | 255 | \n",
       "\n",
       "\n"
      ],
      "text/plain": [
       "  site.id pt.id age values\n",
       "1 B       103   NA  872   \n",
       "2 B       100   50  623   \n",
       "3 B       105   50  307   \n",
       "4 A       100   38  325   \n",
       "5 A       101   35  651   \n",
       "6 A       102   43  255   "
      ]
     },
     "metadata": {},
     "output_type": "display_data"
    }
   ],
   "source": [
    "df.clin %>% right_join(df.lab, by = c(\"site.id\", \"pt.id\"))"
   ]
  },
  {
   "cell_type": "markdown",
   "metadata": {},
   "source": [
    "#### Keep all rows in df.clin or df.lab"
   ]
  },
  {
   "cell_type": "code",
   "execution_count": 49,
   "metadata": {},
   "outputs": [
    {
     "data": {
      "text/html": [
       "<table>\n",
       "<thead><tr><th scope=col>site.id</th><th scope=col>pt.id</th><th scope=col>age</th><th scope=col>values</th></tr></thead>\n",
       "<tbody>\n",
       "\t<tr><td>A  </td><td>100</td><td>38 </td><td>325</td></tr>\n",
       "\t<tr><td>A  </td><td>101</td><td>35 </td><td>651</td></tr>\n",
       "\t<tr><td>A  </td><td>102</td><td>43 </td><td>255</td></tr>\n",
       "\t<tr><td>B  </td><td>100</td><td>50 </td><td>623</td></tr>\n",
       "\t<tr><td>B  </td><td>102</td><td>62 </td><td> NA</td></tr>\n",
       "\t<tr><td>B  </td><td>105</td><td>50 </td><td>307</td></tr>\n",
       "\t<tr><td>B  </td><td>103</td><td>NA </td><td>872</td></tr>\n",
       "</tbody>\n",
       "</table>\n"
      ],
      "text/latex": [
       "\\begin{tabular}{r|llll}\n",
       " site.id & pt.id & age & values\\\\\n",
       "\\hline\n",
       "\t A   & 100 & 38  & 325\\\\\n",
       "\t A   & 101 & 35  & 651\\\\\n",
       "\t A   & 102 & 43  & 255\\\\\n",
       "\t B   & 100 & 50  & 623\\\\\n",
       "\t B   & 102 & 62  &  NA\\\\\n",
       "\t B   & 105 & 50  & 307\\\\\n",
       "\t B   & 103 & NA  & 872\\\\\n",
       "\\end{tabular}\n"
      ],
      "text/markdown": [
       "\n",
       "site.id | pt.id | age | values | \n",
       "|---|---|---|---|---|---|---|\n",
       "| A   | 100 | 38  | 325 | \n",
       "| A   | 101 | 35  | 651 | \n",
       "| A   | 102 | 43  | 255 | \n",
       "| B   | 100 | 50  | 623 | \n",
       "| B   | 102 | 62  |  NA | \n",
       "| B   | 105 | 50  | 307 | \n",
       "| B   | 103 | NA  | 872 | \n",
       "\n",
       "\n"
      ],
      "text/plain": [
       "  site.id pt.id age values\n",
       "1 A       100   38  325   \n",
       "2 A       101   35  651   \n",
       "3 A       102   43  255   \n",
       "4 B       100   50  623   \n",
       "5 B       102   62   NA   \n",
       "6 B       105   50  307   \n",
       "7 B       103   NA  872   "
      ]
     },
     "metadata": {},
     "output_type": "display_data"
    }
   ],
   "source": [
    "df.clin %>% full_join(df.lab, by = c(\"site.id\", \"pt.id\"))"
   ]
  },
  {
   "cell_type": "markdown",
   "metadata": {},
   "source": [
    "### When identifier columns have different names"
   ]
  },
  {
   "cell_type": "code",
   "execution_count": 50,
   "metadata": {},
   "outputs": [
    {
     "data": {
      "text/html": [
       "<table>\n",
       "<thead><tr><th scope=col>site</th><th scope=col>pid</th><th scope=col>values</th></tr></thead>\n",
       "<tbody>\n",
       "\t<tr><td>B  </td><td>103</td><td>625</td></tr>\n",
       "\t<tr><td>B  </td><td>100</td><td>517</td></tr>\n",
       "\t<tr><td>B  </td><td>105</td><td>736</td></tr>\n",
       "\t<tr><td>A  </td><td>100</td><td>739</td></tr>\n",
       "\t<tr><td>A  </td><td>101</td><td>165</td></tr>\n",
       "\t<tr><td>A  </td><td>102</td><td>944</td></tr>\n",
       "</tbody>\n",
       "</table>\n"
      ],
      "text/latex": [
       "\\begin{tabular}{r|lll}\n",
       " site & pid & values\\\\\n",
       "\\hline\n",
       "\t B   & 103 & 625\\\\\n",
       "\t B   & 100 & 517\\\\\n",
       "\t B   & 105 & 736\\\\\n",
       "\t A   & 100 & 739\\\\\n",
       "\t A   & 101 & 165\\\\\n",
       "\t A   & 102 & 944\\\\\n",
       "\\end{tabular}\n"
      ],
      "text/markdown": [
       "\n",
       "site | pid | values | \n",
       "|---|---|---|---|---|---|\n",
       "| B   | 103 | 625 | \n",
       "| B   | 100 | 517 | \n",
       "| B   | 105 | 736 | \n",
       "| A   | 100 | 739 | \n",
       "| A   | 101 | 165 | \n",
       "| A   | 102 | 944 | \n",
       "\n",
       "\n"
      ],
      "text/plain": [
       "  site pid values\n",
       "1 B    103 625   \n",
       "2 B    100 517   \n",
       "3 B    105 736   \n",
       "4 A    100 739   \n",
       "5 A    101 165   \n",
       "6 A    102 944   "
      ]
     },
     "metadata": {},
     "output_type": "display_data"
    }
   ],
   "source": [
    "df.lab.1 <- data.frame(site=c('B', 'B', 'B', 'A', 'A', 'A'),\n",
    "                     pid=c(103, 100, 105, 100, 101, 102),\n",
    "                     values=sample(100:1000, 6))\n",
    "df.lab.1"
   ]
  },
  {
   "cell_type": "markdown",
   "metadata": {},
   "source": [
    "#### Keep only elements in common"
   ]
  },
  {
   "cell_type": "code",
   "execution_count": 51,
   "metadata": {},
   "outputs": [
    {
     "data": {
      "text/html": [
       "<table>\n",
       "<thead><tr><th scope=col>site.id</th><th scope=col>pt.id</th><th scope=col>age</th><th scope=col>values</th></tr></thead>\n",
       "<tbody>\n",
       "\t<tr><td>A  </td><td>100</td><td>38 </td><td>739</td></tr>\n",
       "\t<tr><td>A  </td><td>101</td><td>35 </td><td>165</td></tr>\n",
       "\t<tr><td>A  </td><td>102</td><td>43 </td><td>944</td></tr>\n",
       "\t<tr><td>B  </td><td>100</td><td>50 </td><td>517</td></tr>\n",
       "\t<tr><td>B  </td><td>105</td><td>50 </td><td>736</td></tr>\n",
       "</tbody>\n",
       "</table>\n"
      ],
      "text/latex": [
       "\\begin{tabular}{r|llll}\n",
       " site.id & pt.id & age & values\\\\\n",
       "\\hline\n",
       "\t A   & 100 & 38  & 739\\\\\n",
       "\t A   & 101 & 35  & 165\\\\\n",
       "\t A   & 102 & 43  & 944\\\\\n",
       "\t B   & 100 & 50  & 517\\\\\n",
       "\t B   & 105 & 50  & 736\\\\\n",
       "\\end{tabular}\n"
      ],
      "text/markdown": [
       "\n",
       "site.id | pt.id | age | values | \n",
       "|---|---|---|---|---|\n",
       "| A   | 100 | 38  | 739 | \n",
       "| A   | 101 | 35  | 165 | \n",
       "| A   | 102 | 43  | 944 | \n",
       "| B   | 100 | 50  | 517 | \n",
       "| B   | 105 | 50  | 736 | \n",
       "\n",
       "\n"
      ],
      "text/plain": [
       "  site.id pt.id age values\n",
       "1 A       100   38  739   \n",
       "2 A       101   35  165   \n",
       "3 A       102   43  944   \n",
       "4 B       100   50  517   \n",
       "5 B       105   50  736   "
      ]
     },
     "metadata": {},
     "output_type": "display_data"
    }
   ],
   "source": [
    "df.clin %>% inner_join(df.lab.1, by = c(\"site.id\"=\"site\", \"pt.id\"=\"pid\"))"
   ]
  },
  {
   "cell_type": "markdown",
   "metadata": {},
   "source": [
    "### When identifiers are in the row.names (advanced)"
   ]
  },
  {
   "cell_type": "code",
   "execution_count": 52,
   "metadata": {},
   "outputs": [
    {
     "data": {
      "text/html": [
       "<table>\n",
       "<thead><tr><th></th><th scope=col>values</th></tr></thead>\n",
       "<tbody>\n",
       "\t<tr><th scope=row>B-103</th><td>963</td></tr>\n",
       "\t<tr><th scope=row>B-100</th><td>556</td></tr>\n",
       "\t<tr><th scope=row>B-105</th><td>620</td></tr>\n",
       "\t<tr><th scope=row>A-100</th><td>335</td></tr>\n",
       "\t<tr><th scope=row>A-101</th><td>886</td></tr>\n",
       "\t<tr><th scope=row>A-102</th><td>115</td></tr>\n",
       "</tbody>\n",
       "</table>\n"
      ],
      "text/latex": [
       "\\begin{tabular}{r|l}\n",
       "  & values\\\\\n",
       "\\hline\n",
       "\tB-103 & 963\\\\\n",
       "\tB-100 & 556\\\\\n",
       "\tB-105 & 620\\\\\n",
       "\tA-100 & 335\\\\\n",
       "\tA-101 & 886\\\\\n",
       "\tA-102 & 115\\\\\n",
       "\\end{tabular}\n"
      ],
      "text/markdown": [
       "\n",
       "| <!--/--> | values | \n",
       "|---|---|---|---|---|---|\n",
       "| B-103 | 963 | \n",
       "| B-100 | 556 | \n",
       "| B-105 | 620 | \n",
       "| A-100 | 335 | \n",
       "| A-101 | 886 | \n",
       "| A-102 | 115 | \n",
       "\n",
       "\n"
      ],
      "text/plain": [
       "      values\n",
       "B-103 963   \n",
       "B-100 556   \n",
       "B-105 620   \n",
       "A-100 335   \n",
       "A-101 886   \n",
       "A-102 115   "
      ]
     },
     "metadata": {},
     "output_type": "display_data"
    }
   ],
   "source": [
    "df.lab.2 <- data.frame(values=sample(100:1000, 6))\n",
    "rownames(df.lab.2) <- paste(c('B', 'B', 'B', 'A', 'A', 'A'),\n",
    "                           c(103, 100, 105, 100, 101, 102), sep=\"-\")\n",
    "df.lab.2"
   ]
  },
  {
   "cell_type": "code",
   "execution_count": 53,
   "metadata": {},
   "outputs": [
    {
     "data": {
      "text/html": [
       "<table>\n",
       "<thead><tr><th scope=col>site.id</th><th scope=col>pt.id</th><th scope=col>values</th></tr></thead>\n",
       "<tbody>\n",
       "\t<tr><td>B  </td><td>103</td><td>963</td></tr>\n",
       "\t<tr><td>B  </td><td>100</td><td>556</td></tr>\n",
       "\t<tr><td>B  </td><td>105</td><td>620</td></tr>\n",
       "\t<tr><td>A  </td><td>100</td><td>335</td></tr>\n",
       "\t<tr><td>A  </td><td>101</td><td>886</td></tr>\n",
       "\t<tr><td>A  </td><td>102</td><td>115</td></tr>\n",
       "</tbody>\n",
       "</table>\n"
      ],
      "text/latex": [
       "\\begin{tabular}{r|lll}\n",
       " site.id & pt.id & values\\\\\n",
       "\\hline\n",
       "\t B   & 103 & 963\\\\\n",
       "\t B   & 100 & 556\\\\\n",
       "\t B   & 105 & 620\\\\\n",
       "\t A   & 100 & 335\\\\\n",
       "\t A   & 101 & 886\\\\\n",
       "\t A   & 102 & 115\\\\\n",
       "\\end{tabular}\n"
      ],
      "text/markdown": [
       "\n",
       "site.id | pt.id | values | \n",
       "|---|---|---|---|---|---|\n",
       "| B   | 103 | 963 | \n",
       "| B   | 100 | 556 | \n",
       "| B   | 105 | 620 | \n",
       "| A   | 100 | 335 | \n",
       "| A   | 101 | 886 | \n",
       "| A   | 102 | 115 | \n",
       "\n",
       "\n"
      ],
      "text/plain": [
       "  site.id pt.id values\n",
       "1 B       103   963   \n",
       "2 B       100   556   \n",
       "3 B       105   620   \n",
       "4 A       100   335   \n",
       "5 A       101   886   \n",
       "6 A       102   115   "
      ]
     },
     "metadata": {},
     "output_type": "display_data"
    }
   ],
   "source": [
    "df.lab.2 %>% \n",
    "    rownames_to_column %>%\n",
    "  separate(rowname, into=c(\"site.id\", \"pt.id\"), sep=\"-\")"
   ]
  },
  {
   "cell_type": "code",
   "execution_count": 54,
   "metadata": {},
   "outputs": [
    {
     "data": {
      "text/html": [
       "<table>\n",
       "<thead><tr><th scope=col>site.id</th><th scope=col>pt.id</th><th scope=col>age</th><th scope=col>values</th></tr></thead>\n",
       "<tbody>\n",
       "\t<tr><td>A  </td><td>100</td><td>38 </td><td>335</td></tr>\n",
       "\t<tr><td>A  </td><td>101</td><td>35 </td><td>886</td></tr>\n",
       "\t<tr><td>A  </td><td>102</td><td>43 </td><td>115</td></tr>\n",
       "\t<tr><td>B  </td><td>100</td><td>50 </td><td>556</td></tr>\n",
       "\t<tr><td>B  </td><td>105</td><td>50 </td><td>620</td></tr>\n",
       "</tbody>\n",
       "</table>\n"
      ],
      "text/latex": [
       "\\begin{tabular}{r|llll}\n",
       " site.id & pt.id & age & values\\\\\n",
       "\\hline\n",
       "\t A   & 100 & 38  & 335\\\\\n",
       "\t A   & 101 & 35  & 886\\\\\n",
       "\t A   & 102 & 43  & 115\\\\\n",
       "\t B   & 100 & 50  & 556\\\\\n",
       "\t B   & 105 & 50  & 620\\\\\n",
       "\\end{tabular}\n"
      ],
      "text/markdown": [
       "\n",
       "site.id | pt.id | age | values | \n",
       "|---|---|---|---|---|\n",
       "| A   | 100 | 38  | 335 | \n",
       "| A   | 101 | 35  | 886 | \n",
       "| A   | 102 | 43  | 115 | \n",
       "| B   | 100 | 50  | 556 | \n",
       "| B   | 105 | 50  | 620 | \n",
       "\n",
       "\n"
      ],
      "text/plain": [
       "  site.id pt.id age values\n",
       "1 A       100   38  335   \n",
       "2 A       101   35  886   \n",
       "3 A       102   43  115   \n",
       "4 B       100   50  556   \n",
       "5 B       105   50  620   "
      ]
     },
     "metadata": {},
     "output_type": "display_data"
    }
   ],
   "source": [
    "df.clin %>% inner_join(\n",
    "    # create new data.frame with matching identifier columns\n",
    "    df.lab.2 %>% \n",
    "    rownames_to_column %>% \n",
    "    separate(rowname, into=c(\"site.id\", \"pt.id\"), sep=\"-\") %>%\n",
    "    mutate(site.id=as.factor(site.id), pt.id=as.numeric(pt.id)),\n",
    "    # specify columns to join on\n",
    "    by=c(\"site.id\", \"pt.id\")    \n",
    ")"
   ]
  },
  {
   "cell_type": "code",
   "execution_count": null,
   "metadata": {
    "collapsed": true
   },
   "outputs": [],
   "source": []
  }
 ],
 "metadata": {
  "kernelspec": {
   "display_name": "R",
   "language": "R",
   "name": "ir"
  },
  "language_info": {
   "codemirror_mode": "r",
   "file_extension": ".r",
   "mimetype": "text/x-r-source",
   "name": "R",
   "pygments_lexer": "r",
   "version": "3.4.0"
  }
 },
 "nbformat": 4,
 "nbformat_minor": 2
}
