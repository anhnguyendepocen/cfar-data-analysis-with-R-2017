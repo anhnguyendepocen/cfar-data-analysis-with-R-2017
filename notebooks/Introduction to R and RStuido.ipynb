{
 "cells": [
  {
   "cell_type": "markdown",
   "metadata": {},
   "source": [
    "# Day 1 AM: Introduction to R, RStuido and the `data.frame`"
   ]
  },
  {
   "cell_type": "markdown",
   "metadata": {},
   "source": [
    "## Using R and RStudio\n",
    "\n",
    "R is a flexible language that is specialized for data analysis and visualization. This workshop focuses on **tabular** data that can be loaded into an R `data.frame` for **exploratory** analysis and visualization. Other aspects of R, such as general purpose programming, modeling for statistical inference and use of BioConductor for specialized assay analysis are de-emphasized in this workshop.\n",
    "\n",
    "Most people using R use it in the context of the RStudio graphical user interface (GUI) environment, and we introduce this environment to illustrate:\n",
    "\n",
    "- The anatomy of RStudio\n",
    "- The R console\n",
    "- Writing, executing and \"sourcing\" R scripts\n",
    "- Using R markdown and notebooks for literate programming\n",
    "- Getting help\n",
    "\n",
    "![RStudio screenshot](figs/rstudio.png)"
   ]
  },
  {
   "cell_type": "markdown",
   "metadata": {},
   "source": [
    "## Overview of the exploratory data analysis pipeline\n",
    "\n",
    "The exploratory data analysis pipeline typically consists of the following steps:\n",
    "\n",
    "- Converting messy data into tidy data\n",
    "- Manipulating tidy data\n",
    "- Visualizing tidy data\n",
    "\n",
    "These actions are generally performed using the `tidyverse` meta-package. We will cover the use of `tidyverse` and these stages in reverse order in this workshop since the first two stages are quite dry without setting up the correct motivation. First however, we cover some essential concepts and show how data is loaded in the first place."
   ]
  },
  {
   "cell_type": "code",
   "execution_count": 80,
   "metadata": {},
   "outputs": [
    {
     "name": "stderr",
     "output_type": "stream",
     "text": [
      "Warning message:\n",
      "“Installed Rcpp (0.12.12) different from Rcpp used to build dplyr (0.12.11).\n",
      "Please reinstall dplyr to avoid random crashes or undefined behavior.”Loading tidyverse: ggplot2\n",
      "Loading tidyverse: tibble\n",
      "Loading tidyverse: tidyr\n",
      "Loading tidyverse: readr\n",
      "Loading tidyverse: purrr\n",
      "Loading tidyverse: dplyr\n",
      "Warning message:\n",
      "“package ‘dplyr’ was built under R version 3.4.1”Conflicts with tidy packages ---------------------------------------------------\n",
      "filter(): dplyr, stats\n",
      "lag():    dplyr, stats\n"
     ]
    }
   ],
   "source": [
    "library(tidyverse)"
   ]
  },
  {
   "cell_type": "markdown",
   "metadata": {},
   "source": [
    "## Types, collections and variable assignments"
   ]
  },
  {
   "cell_type": "markdown",
   "metadata": {},
   "source": [
    "### Strings"
   ]
  },
  {
   "cell_type": "code",
   "execution_count": 1,
   "metadata": {},
   "outputs": [
    {
     "data": {
      "text/html": [
       "'This is a string'"
      ],
      "text/latex": [
       "'This is a string'"
      ],
      "text/markdown": [
       "'This is a string'"
      ],
      "text/plain": [
       "[1] \"This is a string\""
      ]
     },
     "metadata": {},
     "output_type": "display_data"
    }
   ],
   "source": [
    "\"This is a string\""
   ]
  },
  {
   "cell_type": "code",
   "execution_count": 2,
   "metadata": {},
   "outputs": [
    {
     "data": {
      "text/html": [
       "'is a '"
      ],
      "text/latex": [
       "'is a '"
      ],
      "text/markdown": [
       "'is a '"
      ],
      "text/plain": [
       "[1] \"is a \""
      ]
     },
     "metadata": {},
     "output_type": "display_data"
    }
   ],
   "source": [
    "substr(\"This is a string\", 6, 10)"
   ]
  },
  {
   "cell_type": "code",
   "execution_count": 3,
   "metadata": {},
   "outputs": [
    {
     "data": {
      "text/html": [
       "<ol class=list-inline>\n",
       "\t<li>'gene 1'</li>\n",
       "\t<li>'gene 2'</li>\n",
       "\t<li>'gene 3'</li>\n",
       "\t<li>'gene 4'</li>\n",
       "\t<li>'gene 5'</li>\n",
       "\t<li>'gene 6'</li>\n",
       "\t<li>'gene 7'</li>\n",
       "\t<li>'gene 8'</li>\n",
       "\t<li>'gene 9'</li>\n",
       "\t<li>'gene 10'</li>\n",
       "</ol>\n"
      ],
      "text/latex": [
       "\\begin{enumerate*}\n",
       "\\item 'gene 1'\n",
       "\\item 'gene 2'\n",
       "\\item 'gene 3'\n",
       "\\item 'gene 4'\n",
       "\\item 'gene 5'\n",
       "\\item 'gene 6'\n",
       "\\item 'gene 7'\n",
       "\\item 'gene 8'\n",
       "\\item 'gene 9'\n",
       "\\item 'gene 10'\n",
       "\\end{enumerate*}\n"
      ],
      "text/markdown": [
       "1. 'gene 1'\n",
       "2. 'gene 2'\n",
       "3. 'gene 3'\n",
       "4. 'gene 4'\n",
       "5. 'gene 5'\n",
       "6. 'gene 6'\n",
       "7. 'gene 7'\n",
       "8. 'gene 8'\n",
       "9. 'gene 9'\n",
       "10. 'gene 10'\n",
       "\n",
       "\n"
      ],
      "text/plain": [
       " [1] \"gene 1\"  \"gene 2\"  \"gene 3\"  \"gene 4\"  \"gene 5\"  \"gene 6\"  \"gene 7\" \n",
       " [8] \"gene 8\"  \"gene 9\"  \"gene 10\""
      ]
     },
     "metadata": {},
     "output_type": "display_data"
    }
   ],
   "source": [
    "paste(\"gene\", 1:10)"
   ]
  },
  {
   "cell_type": "code",
   "execution_count": 4,
   "metadata": {},
   "outputs": [
    {
     "data": {
      "text/html": [
       "'Hello, world'"
      ],
      "text/latex": [
       "'Hello, world'"
      ],
      "text/markdown": [
       "'Hello, world'"
      ],
      "text/plain": [
       "[1] \"Hello, world\""
      ]
     },
     "metadata": {},
     "output_type": "display_data"
    }
   ],
   "source": [
    "paste(\"Hello\", \"world\", sep=\", \")"
   ]
  },
  {
   "cell_type": "markdown",
   "metadata": {},
   "source": [
    "### Numbers"
   ]
  },
  {
   "cell_type": "code",
   "execution_count": 5,
   "metadata": {},
   "outputs": [
    {
     "data": {
      "text/html": [
       "42"
      ],
      "text/latex": [
       "42"
      ],
      "text/markdown": [
       "42"
      ],
      "text/plain": [
       "[1] 42"
      ]
     },
     "metadata": {},
     "output_type": "display_data"
    }
   ],
   "source": [
    "42"
   ]
  },
  {
   "cell_type": "code",
   "execution_count": 6,
   "metadata": {},
   "outputs": [
    {
     "data": {
      "text/html": [
       "3.14"
      ],
      "text/latex": [
       "3.14"
      ],
      "text/markdown": [
       "3.14"
      ],
      "text/plain": [
       "[1] 3.14"
      ]
     },
     "metadata": {},
     "output_type": "display_data"
    }
   ],
   "source": [
    "3.14"
   ]
  },
  {
   "cell_type": "code",
   "execution_count": 7,
   "metadata": {},
   "outputs": [
    {
     "data": {
      "text/html": [
       "0.5+0.5i"
      ],
      "text/latex": [
       "0.5+0.5i"
      ],
      "text/markdown": [
       "0.5+0.5i"
      ],
      "text/plain": [
       "[1] 0.5+0.5i"
      ]
     },
     "metadata": {},
     "output_type": "display_data"
    }
   ],
   "source": [
    "0.5 + 0.5i"
   ]
  },
  {
   "cell_type": "markdown",
   "metadata": {},
   "source": [
    "### Boolean values"
   ]
  },
  {
   "cell_type": "code",
   "execution_count": 8,
   "metadata": {},
   "outputs": [
    {
     "data": {
      "text/html": [
       "TRUE"
      ],
      "text/latex": [
       "TRUE"
      ],
      "text/markdown": [
       "TRUE"
      ],
      "text/plain": [
       "[1] TRUE"
      ]
     },
     "metadata": {},
     "output_type": "display_data"
    }
   ],
   "source": [
    "TRUE"
   ]
  },
  {
   "cell_type": "code",
   "execution_count": 9,
   "metadata": {},
   "outputs": [
    {
     "data": {
      "text/html": [
       "FALSE"
      ],
      "text/latex": [
       "FALSE"
      ],
      "text/markdown": [
       "FALSE"
      ],
      "text/plain": [
       "[1] FALSE"
      ]
     },
     "metadata": {},
     "output_type": "display_data"
    }
   ],
   "source": [
    "2 > 3"
   ]
  },
  {
   "cell_type": "markdown",
   "metadata": {},
   "source": [
    "### Factors"
   ]
  },
  {
   "cell_type": "code",
   "execution_count": 10,
   "metadata": {
    "collapsed": true
   },
   "outputs": [],
   "source": [
    "sex <- as.factor(c(\"M\", \"F\"))"
   ]
  },
  {
   "cell_type": "code",
   "execution_count": 11,
   "metadata": {},
   "outputs": [
    {
     "data": {
      "text/html": [
       "<ol class=list-inline>\n",
       "\t<li>M</li>\n",
       "\t<li>F</li>\n",
       "</ol>\n"
      ],
      "text/latex": [
       "\\begin{enumerate*}\n",
       "\\item M\n",
       "\\item F\n",
       "\\end{enumerate*}\n"
      ],
      "text/markdown": [
       "1. M\n",
       "2. F\n",
       "\n",
       "\n"
      ],
      "text/plain": [
       "[1] M F\n",
       "Levels: F M"
      ]
     },
     "metadata": {},
     "output_type": "display_data"
    }
   ],
   "source": [
    "sex"
   ]
  },
  {
   "cell_type": "code",
   "execution_count": 12,
   "metadata": {},
   "outputs": [
    {
     "name": "stdout",
     "output_type": "stream",
     "text": [
      " Factor w/ 2 levels \"F\",\"M\": 2 1\n"
     ]
    }
   ],
   "source": [
    "str(sex)"
   ]
  },
  {
   "cell_type": "markdown",
   "metadata": {},
   "source": [
    "### Missing values"
   ]
  },
  {
   "cell_type": "code",
   "execution_count": 13,
   "metadata": {},
   "outputs": [
    {
     "data": {
      "text/html": [
       "&lt;NA&gt;"
      ],
      "text/latex": [
       "<NA>"
      ],
      "text/markdown": [
       "&lt;NA&gt;"
      ],
      "text/plain": [
       "[1] NA"
      ]
     },
     "metadata": {},
     "output_type": "display_data"
    }
   ],
   "source": [
    "NA"
   ]
  },
  {
   "cell_type": "code",
   "execution_count": 14,
   "metadata": {},
   "outputs": [
    {
     "data": {
      "text/html": [
       "&lt;NA&gt;"
      ],
      "text/latex": [
       "<NA>"
      ],
      "text/markdown": [
       "&lt;NA&gt;"
      ],
      "text/plain": [
       "[1] NA"
      ]
     },
     "metadata": {},
     "output_type": "display_data"
    }
   ],
   "source": [
    "4 * NA"
   ]
  },
  {
   "cell_type": "markdown",
   "metadata": {},
   "source": [
    "### Vectors"
   ]
  },
  {
   "cell_type": "code",
   "execution_count": 15,
   "metadata": {},
   "outputs": [
    {
     "data": {
      "text/html": [
       "<ol class=list-inline>\n",
       "\t<li>5</li>\n",
       "\t<li>6</li>\n",
       "\t<li>7</li>\n",
       "\t<li>8</li>\n",
       "\t<li>9</li>\n",
       "\t<li>10</li>\n",
       "</ol>\n"
      ],
      "text/latex": [
       "\\begin{enumerate*}\n",
       "\\item 5\n",
       "\\item 6\n",
       "\\item 7\n",
       "\\item 8\n",
       "\\item 9\n",
       "\\item 10\n",
       "\\end{enumerate*}\n"
      ],
      "text/markdown": [
       "1. 5\n",
       "2. 6\n",
       "3. 7\n",
       "4. 8\n",
       "5. 9\n",
       "6. 10\n",
       "\n",
       "\n"
      ],
      "text/plain": [
       "[1]  5  6  7  8  9 10"
      ]
     },
     "metadata": {},
     "output_type": "display_data"
    }
   ],
   "source": [
    "5:10"
   ]
  },
  {
   "cell_type": "code",
   "execution_count": 16,
   "metadata": {},
   "outputs": [
    {
     "data": {
      "text/html": [
       "<ol class=list-inline>\n",
       "\t<li>10</li>\n",
       "\t<li>9</li>\n",
       "\t<li>8</li>\n",
       "\t<li>7</li>\n",
       "\t<li>6</li>\n",
       "\t<li>5</li>\n",
       "</ol>\n"
      ],
      "text/latex": [
       "\\begin{enumerate*}\n",
       "\\item 10\n",
       "\\item 9\n",
       "\\item 8\n",
       "\\item 7\n",
       "\\item 6\n",
       "\\item 5\n",
       "\\end{enumerate*}\n"
      ],
      "text/markdown": [
       "1. 10\n",
       "2. 9\n",
       "3. 8\n",
       "4. 7\n",
       "5. 6\n",
       "6. 5\n",
       "\n",
       "\n"
      ],
      "text/plain": [
       "[1] 10  9  8  7  6  5"
      ]
     },
     "metadata": {},
     "output_type": "display_data"
    }
   ],
   "source": [
    "10:5"
   ]
  },
  {
   "cell_type": "code",
   "execution_count": 17,
   "metadata": {},
   "outputs": [
    {
     "data": {
      "text/html": [
       "<ol class=list-inline>\n",
       "\t<li>1</li>\n",
       "\t<li>1</li>\n",
       "\t<li>2</li>\n",
       "\t<li>3</li>\n",
       "\t<li>5</li>\n",
       "\t<li>8</li>\n",
       "</ol>\n"
      ],
      "text/latex": [
       "\\begin{enumerate*}\n",
       "\\item 1\n",
       "\\item 1\n",
       "\\item 2\n",
       "\\item 3\n",
       "\\item 5\n",
       "\\item 8\n",
       "\\end{enumerate*}\n"
      ],
      "text/markdown": [
       "1. 1\n",
       "2. 1\n",
       "3. 2\n",
       "4. 3\n",
       "5. 5\n",
       "6. 8\n",
       "\n",
       "\n"
      ],
      "text/plain": [
       "[1] 1 1 2 3 5 8"
      ]
     },
     "metadata": {},
     "output_type": "display_data"
    }
   ],
   "source": [
    "c(1,1,2,3,5,8)"
   ]
  },
  {
   "cell_type": "code",
   "execution_count": 18,
   "metadata": {},
   "outputs": [
    {
     "data": {
      "text/html": [
       "<ol class=list-inline>\n",
       "\t<li>1</li>\n",
       "\t<li>4</li>\n",
       "\t<li>7</li>\n",
       "\t<li>10</li>\n",
       "</ol>\n"
      ],
      "text/latex": [
       "\\begin{enumerate*}\n",
       "\\item 1\n",
       "\\item 4\n",
       "\\item 7\n",
       "\\item 10\n",
       "\\end{enumerate*}\n"
      ],
      "text/markdown": [
       "1. 1\n",
       "2. 4\n",
       "3. 7\n",
       "4. 10\n",
       "\n",
       "\n"
      ],
      "text/plain": [
       "[1]  1  4  7 10"
      ]
     },
     "metadata": {},
     "output_type": "display_data"
    }
   ],
   "source": [
    "seq(1, 10, by=3)"
   ]
  },
  {
   "cell_type": "code",
   "execution_count": 19,
   "metadata": {},
   "outputs": [
    {
     "data": {
      "text/html": [
       "<ol class=list-inline>\n",
       "\t<li>1</li>\n",
       "\t<li>2</li>\n",
       "\t<li>3</li>\n",
       "\t<li>4</li>\n",
       "\t<li>1</li>\n",
       "\t<li>2</li>\n",
       "\t<li>3</li>\n",
       "\t<li>4</li>\n",
       "</ol>\n"
      ],
      "text/latex": [
       "\\begin{enumerate*}\n",
       "\\item 1\n",
       "\\item 2\n",
       "\\item 3\n",
       "\\item 4\n",
       "\\item 1\n",
       "\\item 2\n",
       "\\item 3\n",
       "\\item 4\n",
       "\\end{enumerate*}\n"
      ],
      "text/markdown": [
       "1. 1\n",
       "2. 2\n",
       "3. 3\n",
       "4. 4\n",
       "5. 1\n",
       "6. 2\n",
       "7. 3\n",
       "8. 4\n",
       "\n",
       "\n"
      ],
      "text/plain": [
       "[1] 1 2 3 4 1 2 3 4"
      ]
     },
     "metadata": {},
     "output_type": "display_data"
    }
   ],
   "source": [
    "rep(1:4, 2)"
   ]
  },
  {
   "cell_type": "code",
   "execution_count": 20,
   "metadata": {},
   "outputs": [
    {
     "data": {
      "text/html": [
       "<ol class=list-inline>\n",
       "\t<li>1</li>\n",
       "\t<li>1</li>\n",
       "\t<li>2</li>\n",
       "\t<li>2</li>\n",
       "\t<li>3</li>\n",
       "\t<li>3</li>\n",
       "\t<li>4</li>\n",
       "\t<li>4</li>\n",
       "</ol>\n"
      ],
      "text/latex": [
       "\\begin{enumerate*}\n",
       "\\item 1\n",
       "\\item 1\n",
       "\\item 2\n",
       "\\item 2\n",
       "\\item 3\n",
       "\\item 3\n",
       "\\item 4\n",
       "\\item 4\n",
       "\\end{enumerate*}\n"
      ],
      "text/markdown": [
       "1. 1\n",
       "2. 1\n",
       "3. 2\n",
       "4. 2\n",
       "5. 3\n",
       "6. 3\n",
       "7. 4\n",
       "8. 4\n",
       "\n",
       "\n"
      ],
      "text/plain": [
       "[1] 1 1 2 2 3 3 4 4"
      ]
     },
     "metadata": {},
     "output_type": "display_data"
    }
   ],
   "source": [
    "rep(1:4, each=2)"
   ]
  },
  {
   "cell_type": "code",
   "execution_count": 21,
   "metadata": {},
   "outputs": [
    {
     "data": {
      "text/html": [
       "<ol class=list-inline>\n",
       "\t<li>102.594622335355</li>\n",
       "\t<li>111.635958574435</li>\n",
       "\t<li>103.443624575272</li>\n",
       "\t<li>106.529771804924</li>\n",
       "\t<li>85.6990987716058</li>\n",
       "</ol>\n"
      ],
      "text/latex": [
       "\\begin{enumerate*}\n",
       "\\item 102.594622335355\n",
       "\\item 111.635958574435\n",
       "\\item 103.443624575272\n",
       "\\item 106.529771804924\n",
       "\\item 85.6990987716058\n",
       "\\end{enumerate*}\n"
      ],
      "text/markdown": [
       "1. 102.594622335355\n",
       "2. 111.635958574435\n",
       "3. 103.443624575272\n",
       "4. 106.529771804924\n",
       "5. 85.6990987716058\n",
       "\n",
       "\n"
      ],
      "text/plain": [
       "[1] 102.5946 111.6360 103.4436 106.5298  85.6991"
      ]
     },
     "metadata": {},
     "output_type": "display_data"
    }
   ],
   "source": [
    "rnorm(5, 100, 15)"
   ]
  },
  {
   "cell_type": "code",
   "execution_count": 22,
   "metadata": {},
   "outputs": [
    {
     "data": {
      "text/html": [
       "<ol class=list-inline>\n",
       "\t<li>'T'</li>\n",
       "\t<li>'H'</li>\n",
       "\t<li>'H'</li>\n",
       "\t<li>'T'</li>\n",
       "\t<li>'H'</li>\n",
       "</ol>\n"
      ],
      "text/latex": [
       "\\begin{enumerate*}\n",
       "\\item 'T'\n",
       "\\item 'H'\n",
       "\\item 'H'\n",
       "\\item 'T'\n",
       "\\item 'H'\n",
       "\\end{enumerate*}\n"
      ],
      "text/markdown": [
       "1. 'T'\n",
       "2. 'H'\n",
       "3. 'H'\n",
       "4. 'T'\n",
       "5. 'H'\n",
       "\n",
       "\n"
      ],
      "text/plain": [
       "[1] \"T\" \"H\" \"H\" \"T\" \"H\""
      ]
     },
     "metadata": {},
     "output_type": "display_data"
    }
   ],
   "source": [
    "sample(c(\"H\", \"T\"), 5, replace = TRUE)"
   ]
  },
  {
   "cell_type": "markdown",
   "metadata": {},
   "source": [
    "### Matrices"
   ]
  },
  {
   "cell_type": "code",
   "execution_count": 23,
   "metadata": {},
   "outputs": [
    {
     "data": {
      "text/html": [
       "<table>\n",
       "<tbody>\n",
       "\t<tr><td>1 </td><td>5 </td><td> 9</td></tr>\n",
       "\t<tr><td>2 </td><td>6 </td><td>10</td></tr>\n",
       "\t<tr><td>3 </td><td>7 </td><td>11</td></tr>\n",
       "\t<tr><td>4 </td><td>8 </td><td>12</td></tr>\n",
       "</tbody>\n",
       "</table>\n"
      ],
      "text/latex": [
       "\\begin{tabular}{lll}\n",
       "\t 1  & 5  &  9\\\\\n",
       "\t 2  & 6  & 10\\\\\n",
       "\t 3  & 7  & 11\\\\\n",
       "\t 4  & 8  & 12\\\\\n",
       "\\end{tabular}\n"
      ],
      "text/markdown": [
       "\n",
       "| 1  | 5  |  9 | \n",
       "| 2  | 6  | 10 | \n",
       "| 3  | 7  | 11 | \n",
       "| 4  | 8  | 12 | \n",
       "\n",
       "\n"
      ],
      "text/plain": [
       "     [,1] [,2] [,3]\n",
       "[1,] 1    5     9  \n",
       "[2,] 2    6    10  \n",
       "[3,] 3    7    11  \n",
       "[4,] 4    8    12  "
      ]
     },
     "metadata": {},
     "output_type": "display_data"
    }
   ],
   "source": [
    "matrix(1:12, nrow=4)"
   ]
  },
  {
   "cell_type": "code",
   "execution_count": 24,
   "metadata": {},
   "outputs": [
    {
     "data": {
      "text/html": [
       "<table>\n",
       "<tbody>\n",
       "\t<tr><td> 1</td><td> 2</td><td> 3</td></tr>\n",
       "\t<tr><td> 4</td><td> 5</td><td> 6</td></tr>\n",
       "\t<tr><td> 7</td><td> 8</td><td> 9</td></tr>\n",
       "\t<tr><td>10</td><td>11</td><td>12</td></tr>\n",
       "</tbody>\n",
       "</table>\n"
      ],
      "text/latex": [
       "\\begin{tabular}{lll}\n",
       "\t  1 &  2 &  3\\\\\n",
       "\t  4 &  5 &  6\\\\\n",
       "\t  7 &  8 &  9\\\\\n",
       "\t 10 & 11 & 12\\\\\n",
       "\\end{tabular}\n"
      ],
      "text/markdown": [
       "\n",
       "|  1 |  2 |  3 | \n",
       "|  4 |  5 |  6 | \n",
       "|  7 |  8 |  9 | \n",
       "| 10 | 11 | 12 | \n",
       "\n",
       "\n"
      ],
      "text/plain": [
       "     [,1] [,2] [,3]\n",
       "[1,]  1    2    3  \n",
       "[2,]  4    5    6  \n",
       "[3,]  7    8    9  \n",
       "[4,] 10   11   12  "
      ]
     },
     "metadata": {},
     "output_type": "display_data"
    }
   ],
   "source": [
    "matrix(1:12, nrow=4, byrow=TRUE)"
   ]
  },
  {
   "cell_type": "markdown",
   "metadata": {},
   "source": [
    "### Lists"
   ]
  },
  {
   "cell_type": "code",
   "execution_count": 25,
   "metadata": {},
   "outputs": [
    {
     "data": {
      "text/html": [
       "<dl>\n",
       "\t<dt>$a</dt>\n",
       "\t\t<dd>1</dd>\n",
       "\t<dt>$b</dt>\n",
       "\t\t<dd>2</dd>\n",
       "</dl>\n"
      ],
      "text/latex": [
       "\\begin{description}\n",
       "\\item[\\$a] 1\n",
       "\\item[\\$b] 2\n",
       "\\end{description}\n"
      ],
      "text/markdown": [
       "$a\n",
       ":   1\n",
       "$b\n",
       ":   2\n",
       "\n",
       "\n"
      ],
      "text/plain": [
       "$a\n",
       "[1] 1\n",
       "\n",
       "$b\n",
       "[1] 2\n"
      ]
     },
     "metadata": {},
     "output_type": "display_data"
    }
   ],
   "source": [
    "list(a=1, b=2)"
   ]
  },
  {
   "cell_type": "code",
   "execution_count": 26,
   "metadata": {},
   "outputs": [
    {
     "data": {
      "text/html": [
       "<dl>\n",
       "\t<dt>$a</dt>\n",
       "\t\t<dd><ol class=list-inline>\n",
       "\t<li>5</li>\n",
       "\t<li>6</li>\n",
       "\t<li>7</li>\n",
       "\t<li>8</li>\n",
       "\t<li>9</li>\n",
       "\t<li>10</li>\n",
       "</ol>\n",
       "</dd>\n",
       "\t<dt>$b</dt>\n",
       "\t\t<dd><ol class=list-inline>\n",
       "\t<li>10</li>\n",
       "\t<li>9</li>\n",
       "\t<li>8</li>\n",
       "\t<li>7</li>\n",
       "\t<li>6</li>\n",
       "\t<li>5</li>\n",
       "</ol>\n",
       "</dd>\n",
       "</dl>\n"
      ],
      "text/latex": [
       "\\begin{description}\n",
       "\\item[\\$a] \\begin{enumerate*}\n",
       "\\item 5\n",
       "\\item 6\n",
       "\\item 7\n",
       "\\item 8\n",
       "\\item 9\n",
       "\\item 10\n",
       "\\end{enumerate*}\n",
       "\n",
       "\\item[\\$b] \\begin{enumerate*}\n",
       "\\item 10\n",
       "\\item 9\n",
       "\\item 8\n",
       "\\item 7\n",
       "\\item 6\n",
       "\\item 5\n",
       "\\end{enumerate*}\n",
       "\n",
       "\\end{description}\n"
      ],
      "text/markdown": [
       "$a\n",
       ":   1. 5\n",
       "2. 6\n",
       "3. 7\n",
       "4. 8\n",
       "5. 9\n",
       "6. 10\n",
       "\n",
       "\n",
       "\n",
       "$b\n",
       ":   1. 10\n",
       "2. 9\n",
       "3. 8\n",
       "4. 7\n",
       "5. 6\n",
       "6. 5\n",
       "\n",
       "\n",
       "\n",
       "\n",
       "\n"
      ],
      "text/plain": [
       "$a\n",
       "[1]  5  6  7  8  9 10\n",
       "\n",
       "$b\n",
       "[1] 10  9  8  7  6  5\n"
      ]
     },
     "metadata": {},
     "output_type": "display_data"
    }
   ],
   "source": [
    "list(a=5:10, b= 10:5)"
   ]
  },
  {
   "cell_type": "markdown",
   "metadata": {},
   "source": [
    "### Assignment"
   ]
  },
  {
   "cell_type": "code",
   "execution_count": 27,
   "metadata": {
    "collapsed": true
   },
   "outputs": [],
   "source": [
    "greet <- \"hello\""
   ]
  },
  {
   "cell_type": "code",
   "execution_count": 28,
   "metadata": {},
   "outputs": [
    {
     "data": {
      "text/html": [
       "'hello'"
      ],
      "text/latex": [
       "'hello'"
      ],
      "text/markdown": [
       "'hello'"
      ],
      "text/plain": [
       "[1] \"hello\""
      ]
     },
     "metadata": {},
     "output_type": "display_data"
    }
   ],
   "source": [
    "greet"
   ]
  },
  {
   "cell_type": "code",
   "execution_count": 29,
   "metadata": {
    "collapsed": true
   },
   "outputs": [],
   "source": [
    "my.vec <- 5:10"
   ]
  },
  {
   "cell_type": "code",
   "execution_count": 30,
   "metadata": {},
   "outputs": [
    {
     "data": {
      "text/html": [
       "<ol class=list-inline>\n",
       "\t<li>5</li>\n",
       "\t<li>6</li>\n",
       "\t<li>7</li>\n",
       "\t<li>8</li>\n",
       "\t<li>9</li>\n",
       "\t<li>10</li>\n",
       "</ol>\n"
      ],
      "text/latex": [
       "\\begin{enumerate*}\n",
       "\\item 5\n",
       "\\item 6\n",
       "\\item 7\n",
       "\\item 8\n",
       "\\item 9\n",
       "\\item 10\n",
       "\\end{enumerate*}\n"
      ],
      "text/markdown": [
       "1. 5\n",
       "2. 6\n",
       "3. 7\n",
       "4. 8\n",
       "5. 9\n",
       "6. 10\n",
       "\n",
       "\n"
      ],
      "text/plain": [
       "[1]  5  6  7  8  9 10"
      ]
     },
     "metadata": {},
     "output_type": "display_data"
    }
   ],
   "source": [
    "my.vec"
   ]
  },
  {
   "cell_type": "code",
   "execution_count": 31,
   "metadata": {
    "collapsed": true
   },
   "outputs": [],
   "source": [
    "my.list <- list(a=5:10, b= 10:5)"
   ]
  },
  {
   "cell_type": "code",
   "execution_count": 32,
   "metadata": {},
   "outputs": [
    {
     "data": {
      "text/html": [
       "<dl>\n",
       "\t<dt>$a</dt>\n",
       "\t\t<dd><ol class=list-inline>\n",
       "\t<li>5</li>\n",
       "\t<li>6</li>\n",
       "\t<li>7</li>\n",
       "\t<li>8</li>\n",
       "\t<li>9</li>\n",
       "\t<li>10</li>\n",
       "</ol>\n",
       "</dd>\n",
       "\t<dt>$b</dt>\n",
       "\t\t<dd><ol class=list-inline>\n",
       "\t<li>10</li>\n",
       "\t<li>9</li>\n",
       "\t<li>8</li>\n",
       "\t<li>7</li>\n",
       "\t<li>6</li>\n",
       "\t<li>5</li>\n",
       "</ol>\n",
       "</dd>\n",
       "</dl>\n"
      ],
      "text/latex": [
       "\\begin{description}\n",
       "\\item[\\$a] \\begin{enumerate*}\n",
       "\\item 5\n",
       "\\item 6\n",
       "\\item 7\n",
       "\\item 8\n",
       "\\item 9\n",
       "\\item 10\n",
       "\\end{enumerate*}\n",
       "\n",
       "\\item[\\$b] \\begin{enumerate*}\n",
       "\\item 10\n",
       "\\item 9\n",
       "\\item 8\n",
       "\\item 7\n",
       "\\item 6\n",
       "\\item 5\n",
       "\\end{enumerate*}\n",
       "\n",
       "\\end{description}\n"
      ],
      "text/markdown": [
       "$a\n",
       ":   1. 5\n",
       "2. 6\n",
       "3. 7\n",
       "4. 8\n",
       "5. 9\n",
       "6. 10\n",
       "\n",
       "\n",
       "\n",
       "$b\n",
       ":   1. 10\n",
       "2. 9\n",
       "3. 8\n",
       "4. 7\n",
       "5. 6\n",
       "6. 5\n",
       "\n",
       "\n",
       "\n",
       "\n",
       "\n"
      ],
      "text/plain": [
       "$a\n",
       "[1]  5  6  7  8  9 10\n",
       "\n",
       "$b\n",
       "[1] 10  9  8  7  6  5\n"
      ]
     },
     "metadata": {},
     "output_type": "display_data"
    }
   ],
   "source": [
    "my.list"
   ]
  },
  {
   "cell_type": "code",
   "execution_count": 33,
   "metadata": {
    "collapsed": true
   },
   "outputs": [],
   "source": [
    "my.matrix <- matrix(1:12, nrow=4, byrow=TRUE)"
   ]
  },
  {
   "cell_type": "code",
   "execution_count": 34,
   "metadata": {},
   "outputs": [
    {
     "data": {
      "text/html": [
       "<table>\n",
       "<tbody>\n",
       "\t<tr><td> 1</td><td> 2</td><td> 3</td></tr>\n",
       "\t<tr><td> 4</td><td> 5</td><td> 6</td></tr>\n",
       "\t<tr><td> 7</td><td> 8</td><td> 9</td></tr>\n",
       "\t<tr><td>10</td><td>11</td><td>12</td></tr>\n",
       "</tbody>\n",
       "</table>\n"
      ],
      "text/latex": [
       "\\begin{tabular}{lll}\n",
       "\t  1 &  2 &  3\\\\\n",
       "\t  4 &  5 &  6\\\\\n",
       "\t  7 &  8 &  9\\\\\n",
       "\t 10 & 11 & 12\\\\\n",
       "\\end{tabular}\n"
      ],
      "text/markdown": [
       "\n",
       "|  1 |  2 |  3 | \n",
       "|  4 |  5 |  6 | \n",
       "|  7 |  8 |  9 | \n",
       "| 10 | 11 | 12 | \n",
       "\n",
       "\n"
      ],
      "text/plain": [
       "     [,1] [,2] [,3]\n",
       "[1,]  1    2    3  \n",
       "[2,]  4    5    6  \n",
       "[3,]  7    8    9  \n",
       "[4,] 10   11   12  "
      ]
     },
     "metadata": {},
     "output_type": "display_data"
    }
   ],
   "source": [
    "my.matrix"
   ]
  },
  {
   "cell_type": "markdown",
   "metadata": {},
   "source": [
    "### Indexing"
   ]
  },
  {
   "cell_type": "markdown",
   "metadata": {},
   "source": [
    "#### Vectors"
   ]
  },
  {
   "cell_type": "code",
   "execution_count": 35,
   "metadata": {},
   "outputs": [
    {
     "data": {
      "text/html": [
       "<ol class=list-inline>\n",
       "\t<li>5</li>\n",
       "\t<li>6</li>\n",
       "\t<li>7</li>\n",
       "\t<li>8</li>\n",
       "\t<li>9</li>\n",
       "\t<li>10</li>\n",
       "</ol>\n"
      ],
      "text/latex": [
       "\\begin{enumerate*}\n",
       "\\item 5\n",
       "\\item 6\n",
       "\\item 7\n",
       "\\item 8\n",
       "\\item 9\n",
       "\\item 10\n",
       "\\end{enumerate*}\n"
      ],
      "text/markdown": [
       "1. 5\n",
       "2. 6\n",
       "3. 7\n",
       "4. 8\n",
       "5. 9\n",
       "6. 10\n",
       "\n",
       "\n"
      ],
      "text/plain": [
       "[1]  5  6  7  8  9 10"
      ]
     },
     "metadata": {},
     "output_type": "display_data"
    }
   ],
   "source": [
    "my.vec"
   ]
  },
  {
   "cell_type": "code",
   "execution_count": 36,
   "metadata": {},
   "outputs": [
    {
     "data": {
      "text/html": [
       "5"
      ],
      "text/latex": [
       "5"
      ],
      "text/markdown": [
       "5"
      ],
      "text/plain": [
       "[1] 5"
      ]
     },
     "metadata": {},
     "output_type": "display_data"
    }
   ],
   "source": [
    "my.vec[1]"
   ]
  },
  {
   "cell_type": "code",
   "execution_count": 37,
   "metadata": {},
   "outputs": [
    {
     "data": {
      "text/html": [
       "<ol class=list-inline>\n",
       "\t<li>6</li>\n",
       "\t<li>7</li>\n",
       "\t<li>8</li>\n",
       "\t<li>9</li>\n",
       "\t<li>10</li>\n",
       "</ol>\n"
      ],
      "text/latex": [
       "\\begin{enumerate*}\n",
       "\\item 6\n",
       "\\item 7\n",
       "\\item 8\n",
       "\\item 9\n",
       "\\item 10\n",
       "\\end{enumerate*}\n"
      ],
      "text/markdown": [
       "1. 6\n",
       "2. 7\n",
       "3. 8\n",
       "4. 9\n",
       "5. 10\n",
       "\n",
       "\n"
      ],
      "text/plain": [
       "[1]  6  7  8  9 10"
      ]
     },
     "metadata": {},
     "output_type": "display_data"
    }
   ],
   "source": [
    "my.vec[-1]"
   ]
  },
  {
   "cell_type": "code",
   "execution_count": 38,
   "metadata": {},
   "outputs": [
    {
     "data": {
      "text/html": [
       "<ol class=list-inline>\n",
       "\t<li>6</li>\n",
       "\t<li>8</li>\n",
       "\t<li>9</li>\n",
       "\t<li>10</li>\n",
       "</ol>\n"
      ],
      "text/latex": [
       "\\begin{enumerate*}\n",
       "\\item 6\n",
       "\\item 8\n",
       "\\item 9\n",
       "\\item 10\n",
       "\\end{enumerate*}\n"
      ],
      "text/markdown": [
       "1. 6\n",
       "2. 8\n",
       "3. 9\n",
       "4. 10\n",
       "\n",
       "\n"
      ],
      "text/plain": [
       "[1]  6  8  9 10"
      ]
     },
     "metadata": {},
     "output_type": "display_data"
    }
   ],
   "source": [
    "my.vec[-c(1,3)]"
   ]
  },
  {
   "cell_type": "code",
   "execution_count": 39,
   "metadata": {},
   "outputs": [
    {
     "data": {
      "text/html": [
       "<ol class=list-inline>\n",
       "\t<li>6</li>\n",
       "\t<li>7</li>\n",
       "\t<li>8</li>\n",
       "</ol>\n"
      ],
      "text/latex": [
       "\\begin{enumerate*}\n",
       "\\item 6\n",
       "\\item 7\n",
       "\\item 8\n",
       "\\end{enumerate*}\n"
      ],
      "text/markdown": [
       "1. 6\n",
       "2. 7\n",
       "3. 8\n",
       "\n",
       "\n"
      ],
      "text/plain": [
       "[1] 6 7 8"
      ]
     },
     "metadata": {},
     "output_type": "display_data"
    }
   ],
   "source": [
    "my.vec[2:4]"
   ]
  },
  {
   "cell_type": "markdown",
   "metadata": {},
   "source": [
    "#### Lists"
   ]
  },
  {
   "cell_type": "code",
   "execution_count": 40,
   "metadata": {},
   "outputs": [
    {
     "data": {
      "text/html": [
       "<dl>\n",
       "\t<dt>$a</dt>\n",
       "\t\t<dd><ol class=list-inline>\n",
       "\t<li>5</li>\n",
       "\t<li>6</li>\n",
       "\t<li>7</li>\n",
       "\t<li>8</li>\n",
       "\t<li>9</li>\n",
       "\t<li>10</li>\n",
       "</ol>\n",
       "</dd>\n",
       "\t<dt>$b</dt>\n",
       "\t\t<dd><ol class=list-inline>\n",
       "\t<li>10</li>\n",
       "\t<li>9</li>\n",
       "\t<li>8</li>\n",
       "\t<li>7</li>\n",
       "\t<li>6</li>\n",
       "\t<li>5</li>\n",
       "</ol>\n",
       "</dd>\n",
       "</dl>\n"
      ],
      "text/latex": [
       "\\begin{description}\n",
       "\\item[\\$a] \\begin{enumerate*}\n",
       "\\item 5\n",
       "\\item 6\n",
       "\\item 7\n",
       "\\item 8\n",
       "\\item 9\n",
       "\\item 10\n",
       "\\end{enumerate*}\n",
       "\n",
       "\\item[\\$b] \\begin{enumerate*}\n",
       "\\item 10\n",
       "\\item 9\n",
       "\\item 8\n",
       "\\item 7\n",
       "\\item 6\n",
       "\\item 5\n",
       "\\end{enumerate*}\n",
       "\n",
       "\\end{description}\n"
      ],
      "text/markdown": [
       "$a\n",
       ":   1. 5\n",
       "2. 6\n",
       "3. 7\n",
       "4. 8\n",
       "5. 9\n",
       "6. 10\n",
       "\n",
       "\n",
       "\n",
       "$b\n",
       ":   1. 10\n",
       "2. 9\n",
       "3. 8\n",
       "4. 7\n",
       "5. 6\n",
       "6. 5\n",
       "\n",
       "\n",
       "\n",
       "\n",
       "\n"
      ],
      "text/plain": [
       "$a\n",
       "[1]  5  6  7  8  9 10\n",
       "\n",
       "$b\n",
       "[1] 10  9  8  7  6  5\n"
      ]
     },
     "metadata": {},
     "output_type": "display_data"
    }
   ],
   "source": [
    "my.list"
   ]
  },
  {
   "cell_type": "code",
   "execution_count": 41,
   "metadata": {},
   "outputs": [
    {
     "data": {
      "text/html": [
       "<ol class=list-inline>\n",
       "\t<li>5</li>\n",
       "\t<li>6</li>\n",
       "\t<li>7</li>\n",
       "\t<li>8</li>\n",
       "\t<li>9</li>\n",
       "\t<li>10</li>\n",
       "</ol>\n"
      ],
      "text/latex": [
       "\\begin{enumerate*}\n",
       "\\item 5\n",
       "\\item 6\n",
       "\\item 7\n",
       "\\item 8\n",
       "\\item 9\n",
       "\\item 10\n",
       "\\end{enumerate*}\n"
      ],
      "text/markdown": [
       "1. 5\n",
       "2. 6\n",
       "3. 7\n",
       "4. 8\n",
       "5. 9\n",
       "6. 10\n",
       "\n",
       "\n"
      ],
      "text/plain": [
       "[1]  5  6  7  8  9 10"
      ]
     },
     "metadata": {},
     "output_type": "display_data"
    }
   ],
   "source": [
    "my.list$a"
   ]
  },
  {
   "cell_type": "code",
   "execution_count": 42,
   "metadata": {},
   "outputs": [
    {
     "data": {
      "text/html": [
       "<strong>$a</strong> = <ol class=list-inline>\n",
       "\t<li>5</li>\n",
       "\t<li>6</li>\n",
       "\t<li>7</li>\n",
       "\t<li>8</li>\n",
       "\t<li>9</li>\n",
       "\t<li>10</li>\n",
       "</ol>\n"
      ],
      "text/latex": [
       "\\textbf{\\$a} = \\begin{enumerate*}\n",
       "\\item 5\n",
       "\\item 6\n",
       "\\item 7\n",
       "\\item 8\n",
       "\\item 9\n",
       "\\item 10\n",
       "\\end{enumerate*}\n"
      ],
      "text/markdown": [
       "**$a** = 1. 5\n",
       "2. 6\n",
       "3. 7\n",
       "4. 8\n",
       "5. 9\n",
       "6. 10\n",
       "\n",
       "\n"
      ],
      "text/plain": [
       "$a\n",
       "[1]  5  6  7  8  9 10\n"
      ]
     },
     "metadata": {},
     "output_type": "display_data"
    }
   ],
   "source": [
    "my.list[1]"
   ]
  },
  {
   "cell_type": "code",
   "execution_count": 43,
   "metadata": {},
   "outputs": [
    {
     "data": {
      "text/html": [
       "<ol class=list-inline>\n",
       "\t<li>5</li>\n",
       "\t<li>6</li>\n",
       "\t<li>7</li>\n",
       "\t<li>8</li>\n",
       "\t<li>9</li>\n",
       "\t<li>10</li>\n",
       "</ol>\n"
      ],
      "text/latex": [
       "\\begin{enumerate*}\n",
       "\\item 5\n",
       "\\item 6\n",
       "\\item 7\n",
       "\\item 8\n",
       "\\item 9\n",
       "\\item 10\n",
       "\\end{enumerate*}\n"
      ],
      "text/markdown": [
       "1. 5\n",
       "2. 6\n",
       "3. 7\n",
       "4. 8\n",
       "5. 9\n",
       "6. 10\n",
       "\n",
       "\n"
      ],
      "text/plain": [
       "[1]  5  6  7  8  9 10"
      ]
     },
     "metadata": {},
     "output_type": "display_data"
    }
   ],
   "source": [
    "my.list[[1]]"
   ]
  },
  {
   "cell_type": "markdown",
   "metadata": {},
   "source": [
    "#### Matrices"
   ]
  },
  {
   "cell_type": "code",
   "execution_count": 44,
   "metadata": {},
   "outputs": [
    {
     "data": {
      "text/html": [
       "<table>\n",
       "<tbody>\n",
       "\t<tr><td> 1</td><td> 2</td><td> 3</td></tr>\n",
       "\t<tr><td> 4</td><td> 5</td><td> 6</td></tr>\n",
       "\t<tr><td> 7</td><td> 8</td><td> 9</td></tr>\n",
       "\t<tr><td>10</td><td>11</td><td>12</td></tr>\n",
       "</tbody>\n",
       "</table>\n"
      ],
      "text/latex": [
       "\\begin{tabular}{lll}\n",
       "\t  1 &  2 &  3\\\\\n",
       "\t  4 &  5 &  6\\\\\n",
       "\t  7 &  8 &  9\\\\\n",
       "\t 10 & 11 & 12\\\\\n",
       "\\end{tabular}\n"
      ],
      "text/markdown": [
       "\n",
       "|  1 |  2 |  3 | \n",
       "|  4 |  5 |  6 | \n",
       "|  7 |  8 |  9 | \n",
       "| 10 | 11 | 12 | \n",
       "\n",
       "\n"
      ],
      "text/plain": [
       "     [,1] [,2] [,3]\n",
       "[1,]  1    2    3  \n",
       "[2,]  4    5    6  \n",
       "[3,]  7    8    9  \n",
       "[4,] 10   11   12  "
      ]
     },
     "metadata": {},
     "output_type": "display_data"
    }
   ],
   "source": [
    "my.matrix"
   ]
  },
  {
   "cell_type": "code",
   "execution_count": 45,
   "metadata": {},
   "outputs": [
    {
     "data": {
      "text/html": [
       "6"
      ],
      "text/latex": [
       "6"
      ],
      "text/markdown": [
       "6"
      ],
      "text/plain": [
       "[1] 6"
      ]
     },
     "metadata": {},
     "output_type": "display_data"
    }
   ],
   "source": [
    "my.matrix[2,3]"
   ]
  },
  {
   "cell_type": "code",
   "execution_count": 46,
   "metadata": {},
   "outputs": [
    {
     "data": {
      "text/html": [
       "<ol class=list-inline>\n",
       "\t<li>4</li>\n",
       "\t<li>5</li>\n",
       "\t<li>6</li>\n",
       "</ol>\n"
      ],
      "text/latex": [
       "\\begin{enumerate*}\n",
       "\\item 4\n",
       "\\item 5\n",
       "\\item 6\n",
       "\\end{enumerate*}\n"
      ],
      "text/markdown": [
       "1. 4\n",
       "2. 5\n",
       "3. 6\n",
       "\n",
       "\n"
      ],
      "text/plain": [
       "[1] 4 5 6"
      ]
     },
     "metadata": {},
     "output_type": "display_data"
    }
   ],
   "source": [
    "my.matrix[2,]"
   ]
  },
  {
   "cell_type": "code",
   "execution_count": 47,
   "metadata": {},
   "outputs": [
    {
     "data": {
      "text/html": [
       "<ol class=list-inline>\n",
       "\t<li>3</li>\n",
       "\t<li>6</li>\n",
       "\t<li>9</li>\n",
       "\t<li>12</li>\n",
       "</ol>\n"
      ],
      "text/latex": [
       "\\begin{enumerate*}\n",
       "\\item 3\n",
       "\\item 6\n",
       "\\item 9\n",
       "\\item 12\n",
       "\\end{enumerate*}\n"
      ],
      "text/markdown": [
       "1. 3\n",
       "2. 6\n",
       "3. 9\n",
       "4. 12\n",
       "\n",
       "\n"
      ],
      "text/plain": [
       "[1]  3  6  9 12"
      ]
     },
     "metadata": {},
     "output_type": "display_data"
    }
   ],
   "source": [
    "my.matrix[,3]"
   ]
  },
  {
   "cell_type": "code",
   "execution_count": 48,
   "metadata": {},
   "outputs": [
    {
     "data": {
      "text/html": [
       "<table>\n",
       "<tbody>\n",
       "\t<tr><td>5</td><td>6</td></tr>\n",
       "\t<tr><td>8</td><td>9</td></tr>\n",
       "</tbody>\n",
       "</table>\n"
      ],
      "text/latex": [
       "\\begin{tabular}{ll}\n",
       "\t 5 & 6\\\\\n",
       "\t 8 & 9\\\\\n",
       "\\end{tabular}\n"
      ],
      "text/markdown": [
       "\n",
       "| 5 | 6 | \n",
       "| 8 | 9 | \n",
       "\n",
       "\n"
      ],
      "text/plain": [
       "     [,1] [,2]\n",
       "[1,] 5    6   \n",
       "[2,] 8    9   "
      ]
     },
     "metadata": {},
     "output_type": "display_data"
    }
   ],
   "source": [
    "my.matrix[2:3, 2:3]"
   ]
  },
  {
   "cell_type": "markdown",
   "metadata": {},
   "source": [
    "## Getting data into a `data.frame`"
   ]
  },
  {
   "cell_type": "markdown",
   "metadata": {
    "collapsed": true
   },
   "source": [
    "### Preloaded `data.frame`\n",
    "\n",
    "R preloads several data sets that are often used as examples in R tutorials. To find out what these are, enter\n",
    "\n",
    "```R\n",
    "library(help=\"datasets\")\n",
    "```"
   ]
  },
  {
   "cell_type": "code",
   "execution_count": 58,
   "metadata": {},
   "outputs": [
    {
     "data": {
      "text/html": [
       "<table>\n",
       "<thead><tr><th scope=col>Sepal.Length</th><th scope=col>Sepal.Width</th><th scope=col>Petal.Length</th><th scope=col>Petal.Width</th><th scope=col>Species</th></tr></thead>\n",
       "<tbody>\n",
       "\t<tr><td>5.1   </td><td>3.5   </td><td>1.4   </td><td>0.2   </td><td>setosa</td></tr>\n",
       "\t<tr><td>4.9   </td><td>3.0   </td><td>1.4   </td><td>0.2   </td><td>setosa</td></tr>\n",
       "\t<tr><td>4.7   </td><td>3.2   </td><td>1.3   </td><td>0.2   </td><td>setosa</td></tr>\n",
       "\t<tr><td>4.6   </td><td>3.1   </td><td>1.5   </td><td>0.2   </td><td>setosa</td></tr>\n",
       "\t<tr><td>5.0   </td><td>3.6   </td><td>1.4   </td><td>0.2   </td><td>setosa</td></tr>\n",
       "\t<tr><td>5.4   </td><td>3.9   </td><td>1.7   </td><td>0.4   </td><td>setosa</td></tr>\n",
       "</tbody>\n",
       "</table>\n"
      ],
      "text/latex": [
       "\\begin{tabular}{r|lllll}\n",
       " Sepal.Length & Sepal.Width & Petal.Length & Petal.Width & Species\\\\\n",
       "\\hline\n",
       "\t 5.1    & 3.5    & 1.4    & 0.2    & setosa\\\\\n",
       "\t 4.9    & 3.0    & 1.4    & 0.2    & setosa\\\\\n",
       "\t 4.7    & 3.2    & 1.3    & 0.2    & setosa\\\\\n",
       "\t 4.6    & 3.1    & 1.5    & 0.2    & setosa\\\\\n",
       "\t 5.0    & 3.6    & 1.4    & 0.2    & setosa\\\\\n",
       "\t 5.4    & 3.9    & 1.7    & 0.4    & setosa\\\\\n",
       "\\end{tabular}\n"
      ],
      "text/markdown": [
       "\n",
       "Sepal.Length | Sepal.Width | Petal.Length | Petal.Width | Species | \n",
       "|---|---|---|---|---|---|\n",
       "| 5.1    | 3.5    | 1.4    | 0.2    | setosa | \n",
       "| 4.9    | 3.0    | 1.4    | 0.2    | setosa | \n",
       "| 4.7    | 3.2    | 1.3    | 0.2    | setosa | \n",
       "| 4.6    | 3.1    | 1.5    | 0.2    | setosa | \n",
       "| 5.0    | 3.6    | 1.4    | 0.2    | setosa | \n",
       "| 5.4    | 3.9    | 1.7    | 0.4    | setosa | \n",
       "\n",
       "\n"
      ],
      "text/plain": [
       "  Sepal.Length Sepal.Width Petal.Length Petal.Width Species\n",
       "1 5.1          3.5         1.4          0.2         setosa \n",
       "2 4.9          3.0         1.4          0.2         setosa \n",
       "3 4.7          3.2         1.3          0.2         setosa \n",
       "4 4.6          3.1         1.5          0.2         setosa \n",
       "5 5.0          3.6         1.4          0.2         setosa \n",
       "6 5.4          3.9         1.7          0.4         setosa "
      ]
     },
     "metadata": {},
     "output_type": "display_data"
    }
   ],
   "source": [
    "head(iris)"
   ]
  },
  {
   "cell_type": "code",
   "execution_count": 59,
   "metadata": {
    "scrolled": true
   },
   "outputs": [
    {
     "data": {
      "text/html": [
       "<table>\n",
       "<thead><tr><th scope=col>eruptions</th><th scope=col>waiting</th></tr></thead>\n",
       "<tbody>\n",
       "\t<tr><td>3.600</td><td>79   </td></tr>\n",
       "\t<tr><td>1.800</td><td>54   </td></tr>\n",
       "\t<tr><td>3.333</td><td>74   </td></tr>\n",
       "\t<tr><td>2.283</td><td>62   </td></tr>\n",
       "\t<tr><td>4.533</td><td>85   </td></tr>\n",
       "\t<tr><td>2.883</td><td>55   </td></tr>\n",
       "</tbody>\n",
       "</table>\n"
      ],
      "text/latex": [
       "\\begin{tabular}{r|ll}\n",
       " eruptions & waiting\\\\\n",
       "\\hline\n",
       "\t 3.600 & 79   \\\\\n",
       "\t 1.800 & 54   \\\\\n",
       "\t 3.333 & 74   \\\\\n",
       "\t 2.283 & 62   \\\\\n",
       "\t 4.533 & 85   \\\\\n",
       "\t 2.883 & 55   \\\\\n",
       "\\end{tabular}\n"
      ],
      "text/markdown": [
       "\n",
       "eruptions | waiting | \n",
       "|---|---|---|---|---|---|\n",
       "| 3.600 | 79    | \n",
       "| 1.800 | 54    | \n",
       "| 3.333 | 74    | \n",
       "| 2.283 | 62    | \n",
       "| 4.533 | 85    | \n",
       "| 2.883 | 55    | \n",
       "\n",
       "\n"
      ],
      "text/plain": [
       "  eruptions waiting\n",
       "1 3.600     79     \n",
       "2 1.800     54     \n",
       "3 3.333     74     \n",
       "4 2.283     62     \n",
       "5 4.533     85     \n",
       "6 2.883     55     "
      ]
     },
     "metadata": {},
     "output_type": "display_data"
    }
   ],
   "source": [
    "head(faithful)"
   ]
  },
  {
   "cell_type": "markdown",
   "metadata": {},
   "source": [
    "### Creating a `data.frame` from scratch\n",
    "\n",
    "A data frame is just a collection of lists of the same length, where each list contains only one type of variable, is treated as a column. "
   ]
  },
  {
   "cell_type": "code",
   "execution_count": 56,
   "metadata": {
    "collapsed": true
   },
   "outputs": [],
   "source": [
    "n <- 8\n",
    "my.df <- data.frame(pid=1:n, \n",
    "                    sex=as.factor(sample(c(\"M\", \"F\"), n, replace = T)),\n",
    "                    iq=round(rnorm(n, 100, 15), 0))"
   ]
  },
  {
   "cell_type": "code",
   "execution_count": 57,
   "metadata": {},
   "outputs": [
    {
     "data": {
      "text/html": [
       "<table>\n",
       "<thead><tr><th scope=col>pid</th><th scope=col>sex</th><th scope=col>iq</th></tr></thead>\n",
       "<tbody>\n",
       "\t<tr><td>1  </td><td>M  </td><td>110</td></tr>\n",
       "\t<tr><td>2  </td><td>F  </td><td>104</td></tr>\n",
       "\t<tr><td>3  </td><td>F  </td><td> 65</td></tr>\n",
       "\t<tr><td>4  </td><td>M  </td><td>106</td></tr>\n",
       "\t<tr><td>5  </td><td>F  </td><td> 89</td></tr>\n",
       "\t<tr><td>6  </td><td>F  </td><td> 95</td></tr>\n",
       "\t<tr><td>7  </td><td>M  </td><td>129</td></tr>\n",
       "\t<tr><td>8  </td><td>M  </td><td> 96</td></tr>\n",
       "</tbody>\n",
       "</table>\n"
      ],
      "text/latex": [
       "\\begin{tabular}{r|lll}\n",
       " pid & sex & iq\\\\\n",
       "\\hline\n",
       "\t 1   & M   & 110\\\\\n",
       "\t 2   & F   & 104\\\\\n",
       "\t 3   & F   &  65\\\\\n",
       "\t 4   & M   & 106\\\\\n",
       "\t 5   & F   &  89\\\\\n",
       "\t 6   & F   &  95\\\\\n",
       "\t 7   & M   & 129\\\\\n",
       "\t 8   & M   &  96\\\\\n",
       "\\end{tabular}\n"
      ],
      "text/markdown": [
       "\n",
       "pid | sex | iq | \n",
       "|---|---|---|---|---|---|---|---|\n",
       "| 1   | M   | 110 | \n",
       "| 2   | F   | 104 | \n",
       "| 3   | F   |  65 | \n",
       "| 4   | M   | 106 | \n",
       "| 5   | F   |  89 | \n",
       "| 6   | F   |  95 | \n",
       "| 7   | M   | 129 | \n",
       "| 8   | M   |  96 | \n",
       "\n",
       "\n"
      ],
      "text/plain": [
       "  pid sex iq \n",
       "1 1   M   110\n",
       "2 2   F   104\n",
       "3 3   F    65\n",
       "4 4   M   106\n",
       "5 5   F    89\n",
       "6 6   F    95\n",
       "7 7   M   129\n",
       "8 8   M    96"
      ]
     },
     "metadata": {},
     "output_type": "display_data"
    }
   ],
   "source": [
    "my.df"
   ]
  },
  {
   "cell_type": "markdown",
   "metadata": {},
   "source": [
    "### Loading from CSV or other tablular file"
   ]
  },
  {
   "cell_type": "code",
   "execution_count": 69,
   "metadata": {
    "collapsed": true
   },
   "outputs": [],
   "source": [
    "url <- \"http://vincentarelbundock.github.io/Rdatasets/csv/datasets/Titanic.csv\"\n",
    "titanic <- read.csv(url)"
   ]
  },
  {
   "cell_type": "code",
   "execution_count": 70,
   "metadata": {},
   "outputs": [
    {
     "data": {
      "text/html": [
       "<table>\n",
       "<thead><tr><th scope=col>X</th><th scope=col>Name</th><th scope=col>PClass</th><th scope=col>Age</th><th scope=col>Sex</th><th scope=col>Survived</th><th scope=col>SexCode</th></tr></thead>\n",
       "<tbody>\n",
       "\t<tr><td>1                                            </td><td>Allen, Miss Elisabeth Walton                 </td><td>1st                                          </td><td>29.00                                        </td><td>female                                       </td><td>1                                            </td><td>1                                            </td></tr>\n",
       "\t<tr><td>2                                            </td><td>Allison, Miss Helen Loraine                  </td><td>1st                                          </td><td> 2.00                                        </td><td>female                                       </td><td>0                                            </td><td>1                                            </td></tr>\n",
       "\t<tr><td>3                                            </td><td>Allison, Mr Hudson Joshua Creighton          </td><td>1st                                          </td><td>30.00                                        </td><td>male                                         </td><td>0                                            </td><td>0                                            </td></tr>\n",
       "\t<tr><td>4                                            </td><td>Allison, Mrs Hudson JC (Bessie Waldo Daniels)</td><td>1st                                          </td><td>25.00                                        </td><td>female                                       </td><td>0                                            </td><td>1                                            </td></tr>\n",
       "\t<tr><td>5                                            </td><td>Allison, Master Hudson Trevor                </td><td>1st                                          </td><td> 0.92                                        </td><td>male                                         </td><td>1                                            </td><td>0                                            </td></tr>\n",
       "\t<tr><td>6                                            </td><td>Anderson, Mr Harry                           </td><td>1st                                          </td><td>47.00                                        </td><td>male                                         </td><td>1                                            </td><td>0                                            </td></tr>\n",
       "</tbody>\n",
       "</table>\n"
      ],
      "text/latex": [
       "\\begin{tabular}{r|lllllll}\n",
       " X & Name & PClass & Age & Sex & Survived & SexCode\\\\\n",
       "\\hline\n",
       "\t 1                                             & Allen, Miss Elisabeth Walton                  & 1st                                           & 29.00                                         & female                                        & 1                                             & 1                                            \\\\\n",
       "\t 2                                             & Allison, Miss Helen Loraine                   & 1st                                           &  2.00                                         & female                                        & 0                                             & 1                                            \\\\\n",
       "\t 3                                             & Allison, Mr Hudson Joshua Creighton           & 1st                                           & 30.00                                         & male                                          & 0                                             & 0                                            \\\\\n",
       "\t 4                                             & Allison, Mrs Hudson JC (Bessie Waldo Daniels) & 1st                                           & 25.00                                         & female                                        & 0                                             & 1                                            \\\\\n",
       "\t 5                                             & Allison, Master Hudson Trevor                 & 1st                                           &  0.92                                         & male                                          & 1                                             & 0                                            \\\\\n",
       "\t 6                                             & Anderson, Mr Harry                            & 1st                                           & 47.00                                         & male                                          & 1                                             & 0                                            \\\\\n",
       "\\end{tabular}\n"
      ],
      "text/markdown": [
       "\n",
       "X | Name | PClass | Age | Sex | Survived | SexCode | \n",
       "|---|---|---|---|---|---|\n",
       "| 1                                             | Allen, Miss Elisabeth Walton                  | 1st                                           | 29.00                                         | female                                        | 1                                             | 1                                             | \n",
       "| 2                                             | Allison, Miss Helen Loraine                   | 1st                                           |  2.00                                         | female                                        | 0                                             | 1                                             | \n",
       "| 3                                             | Allison, Mr Hudson Joshua Creighton           | 1st                                           | 30.00                                         | male                                          | 0                                             | 0                                             | \n",
       "| 4                                             | Allison, Mrs Hudson JC (Bessie Waldo Daniels) | 1st                                           | 25.00                                         | female                                        | 0                                             | 1                                             | \n",
       "| 5                                             | Allison, Master Hudson Trevor                 | 1st                                           |  0.92                                         | male                                          | 1                                             | 0                                             | \n",
       "| 6                                             | Anderson, Mr Harry                            | 1st                                           | 47.00                                         | male                                          | 1                                             | 0                                             | \n",
       "\n",
       "\n"
      ],
      "text/plain": [
       "  X Name                                          PClass Age   Sex    Survived\n",
       "1 1 Allen, Miss Elisabeth Walton                  1st    29.00 female 1       \n",
       "2 2 Allison, Miss Helen Loraine                   1st     2.00 female 0       \n",
       "3 3 Allison, Mr Hudson Joshua Creighton           1st    30.00 male   0       \n",
       "4 4 Allison, Mrs Hudson JC (Bessie Waldo Daniels) 1st    25.00 female 0       \n",
       "5 5 Allison, Master Hudson Trevor                 1st     0.92 male   1       \n",
       "6 6 Anderson, Mr Harry                            1st    47.00 male   1       \n",
       "  SexCode\n",
       "1 1      \n",
       "2 1      \n",
       "3 0      \n",
       "4 1      \n",
       "5 0      \n",
       "6 0      "
      ]
     },
     "metadata": {},
     "output_type": "display_data"
    }
   ],
   "source": [
    "head(titanic)"
   ]
  },
  {
   "cell_type": "markdown",
   "metadata": {},
   "source": [
    "#### We can aslo download and read in as local file"
   ]
  },
  {
   "cell_type": "code",
   "execution_count": 71,
   "metadata": {
    "collapsed": true
   },
   "outputs": [],
   "source": [
    "download.file(url = url, destfile=\"titanic.csv\")"
   ]
  },
  {
   "cell_type": "code",
   "execution_count": 72,
   "metadata": {
    "collapsed": true
   },
   "outputs": [],
   "source": [
    "titanic.1 <- read.csv(\"titanic.csv\")"
   ]
  },
  {
   "cell_type": "code",
   "execution_count": 73,
   "metadata": {},
   "outputs": [
    {
     "data": {
      "text/html": [
       "<table>\n",
       "<thead><tr><th scope=col>X</th><th scope=col>Name</th><th scope=col>PClass</th><th scope=col>Age</th><th scope=col>Sex</th><th scope=col>Survived</th><th scope=col>SexCode</th></tr></thead>\n",
       "<tbody>\n",
       "\t<tr><td>1                                            </td><td>Allen, Miss Elisabeth Walton                 </td><td>1st                                          </td><td>29.00                                        </td><td>female                                       </td><td>1                                            </td><td>1                                            </td></tr>\n",
       "\t<tr><td>2                                            </td><td>Allison, Miss Helen Loraine                  </td><td>1st                                          </td><td> 2.00                                        </td><td>female                                       </td><td>0                                            </td><td>1                                            </td></tr>\n",
       "\t<tr><td>3                                            </td><td>Allison, Mr Hudson Joshua Creighton          </td><td>1st                                          </td><td>30.00                                        </td><td>male                                         </td><td>0                                            </td><td>0                                            </td></tr>\n",
       "\t<tr><td>4                                            </td><td>Allison, Mrs Hudson JC (Bessie Waldo Daniels)</td><td>1st                                          </td><td>25.00                                        </td><td>female                                       </td><td>0                                            </td><td>1                                            </td></tr>\n",
       "\t<tr><td>5                                            </td><td>Allison, Master Hudson Trevor                </td><td>1st                                          </td><td> 0.92                                        </td><td>male                                         </td><td>1                                            </td><td>0                                            </td></tr>\n",
       "\t<tr><td>6                                            </td><td>Anderson, Mr Harry                           </td><td>1st                                          </td><td>47.00                                        </td><td>male                                         </td><td>1                                            </td><td>0                                            </td></tr>\n",
       "</tbody>\n",
       "</table>\n"
      ],
      "text/latex": [
       "\\begin{tabular}{r|lllllll}\n",
       " X & Name & PClass & Age & Sex & Survived & SexCode\\\\\n",
       "\\hline\n",
       "\t 1                                             & Allen, Miss Elisabeth Walton                  & 1st                                           & 29.00                                         & female                                        & 1                                             & 1                                            \\\\\n",
       "\t 2                                             & Allison, Miss Helen Loraine                   & 1st                                           &  2.00                                         & female                                        & 0                                             & 1                                            \\\\\n",
       "\t 3                                             & Allison, Mr Hudson Joshua Creighton           & 1st                                           & 30.00                                         & male                                          & 0                                             & 0                                            \\\\\n",
       "\t 4                                             & Allison, Mrs Hudson JC (Bessie Waldo Daniels) & 1st                                           & 25.00                                         & female                                        & 0                                             & 1                                            \\\\\n",
       "\t 5                                             & Allison, Master Hudson Trevor                 & 1st                                           &  0.92                                         & male                                          & 1                                             & 0                                            \\\\\n",
       "\t 6                                             & Anderson, Mr Harry                            & 1st                                           & 47.00                                         & male                                          & 1                                             & 0                                            \\\\\n",
       "\\end{tabular}\n"
      ],
      "text/markdown": [
       "\n",
       "X | Name | PClass | Age | Sex | Survived | SexCode | \n",
       "|---|---|---|---|---|---|\n",
       "| 1                                             | Allen, Miss Elisabeth Walton                  | 1st                                           | 29.00                                         | female                                        | 1                                             | 1                                             | \n",
       "| 2                                             | Allison, Miss Helen Loraine                   | 1st                                           |  2.00                                         | female                                        | 0                                             | 1                                             | \n",
       "| 3                                             | Allison, Mr Hudson Joshua Creighton           | 1st                                           | 30.00                                         | male                                          | 0                                             | 0                                             | \n",
       "| 4                                             | Allison, Mrs Hudson JC (Bessie Waldo Daniels) | 1st                                           | 25.00                                         | female                                        | 0                                             | 1                                             | \n",
       "| 5                                             | Allison, Master Hudson Trevor                 | 1st                                           |  0.92                                         | male                                          | 1                                             | 0                                             | \n",
       "| 6                                             | Anderson, Mr Harry                            | 1st                                           | 47.00                                         | male                                          | 1                                             | 0                                             | \n",
       "\n",
       "\n"
      ],
      "text/plain": [
       "  X Name                                          PClass Age   Sex    Survived\n",
       "1 1 Allen, Miss Elisabeth Walton                  1st    29.00 female 1       \n",
       "2 2 Allison, Miss Helen Loraine                   1st     2.00 female 0       \n",
       "3 3 Allison, Mr Hudson Joshua Creighton           1st    30.00 male   0       \n",
       "4 4 Allison, Mrs Hudson JC (Bessie Waldo Daniels) 1st    25.00 female 0       \n",
       "5 5 Allison, Master Hudson Trevor                 1st     0.92 male   1       \n",
       "6 6 Anderson, Mr Harry                            1st    47.00 male   1       \n",
       "  SexCode\n",
       "1 1      \n",
       "2 1      \n",
       "3 0      \n",
       "4 1      \n",
       "5 0      \n",
       "6 0      "
      ]
     },
     "metadata": {},
     "output_type": "display_data"
    }
   ],
   "source": [
    "head(titanic.1)"
   ]
  },
  {
   "cell_type": "markdown",
   "metadata": {},
   "source": [
    "## Understanding the `data.frame`"
   ]
  },
  {
   "cell_type": "markdown",
   "metadata": {
    "collapsed": true
   },
   "source": [
    "### Size "
   ]
  },
  {
   "cell_type": "code",
   "execution_count": 74,
   "metadata": {},
   "outputs": [
    {
     "data": {
      "text/html": [
       "<ol class=list-inline>\n",
       "\t<li>1313</li>\n",
       "\t<li>7</li>\n",
       "</ol>\n"
      ],
      "text/latex": [
       "\\begin{enumerate*}\n",
       "\\item 1313\n",
       "\\item 7\n",
       "\\end{enumerate*}\n"
      ],
      "text/markdown": [
       "1. 1313\n",
       "2. 7\n",
       "\n",
       "\n"
      ],
      "text/plain": [
       "[1] 1313    7"
      ]
     },
     "metadata": {},
     "output_type": "display_data"
    }
   ],
   "source": [
    "dim(titanic)"
   ]
  },
  {
   "cell_type": "markdown",
   "metadata": {},
   "source": [
    "### Structure"
   ]
  },
  {
   "cell_type": "code",
   "execution_count": 75,
   "metadata": {},
   "outputs": [
    {
     "name": "stdout",
     "output_type": "stream",
     "text": [
      "'data.frame':\t1313 obs. of  7 variables:\n",
      " $ X       : int  1 2 3 4 5 6 7 8 9 10 ...\n",
      " $ Name    : Factor w/ 1310 levels \"Abbing, Mr Anthony\",..: 22 25 26 27 24 31 45 46 50 54 ...\n",
      " $ PClass  : Factor w/ 4 levels \"*\",\"1st\",\"2nd\",..: 2 2 2 2 2 2 2 2 2 2 ...\n",
      " $ Age     : num  29 2 30 25 0.92 47 63 39 58 71 ...\n",
      " $ Sex     : Factor w/ 2 levels \"female\",\"male\": 1 1 2 1 2 2 1 2 1 2 ...\n",
      " $ Survived: int  1 0 0 0 1 1 1 0 1 0 ...\n",
      " $ SexCode : int  1 1 0 1 0 0 1 0 1 0 ...\n"
     ]
    }
   ],
   "source": [
    "str(titanic)"
   ]
  },
  {
   "cell_type": "markdown",
   "metadata": {},
   "source": [
    "### Top rows"
   ]
  },
  {
   "cell_type": "code",
   "execution_count": 77,
   "metadata": {},
   "outputs": [
    {
     "data": {
      "text/html": [
       "<table>\n",
       "<thead><tr><th scope=col>X</th><th scope=col>Name</th><th scope=col>PClass</th><th scope=col>Age</th><th scope=col>Sex</th><th scope=col>Survived</th><th scope=col>SexCode</th></tr></thead>\n",
       "<tbody>\n",
       "\t<tr><td>1                                            </td><td>Allen, Miss Elisabeth Walton                 </td><td>1st                                          </td><td>29                                           </td><td>female                                       </td><td>1                                            </td><td>1                                            </td></tr>\n",
       "\t<tr><td>2                                            </td><td>Allison, Miss Helen Loraine                  </td><td>1st                                          </td><td> 2                                           </td><td>female                                       </td><td>0                                            </td><td>1                                            </td></tr>\n",
       "\t<tr><td>3                                            </td><td>Allison, Mr Hudson Joshua Creighton          </td><td>1st                                          </td><td>30                                           </td><td>male                                         </td><td>0                                            </td><td>0                                            </td></tr>\n",
       "\t<tr><td>4                                            </td><td>Allison, Mrs Hudson JC (Bessie Waldo Daniels)</td><td>1st                                          </td><td>25                                           </td><td>female                                       </td><td>0                                            </td><td>1                                            </td></tr>\n",
       "</tbody>\n",
       "</table>\n"
      ],
      "text/latex": [
       "\\begin{tabular}{r|lllllll}\n",
       " X & Name & PClass & Age & Sex & Survived & SexCode\\\\\n",
       "\\hline\n",
       "\t 1                                             & Allen, Miss Elisabeth Walton                  & 1st                                           & 29                                            & female                                        & 1                                             & 1                                            \\\\\n",
       "\t 2                                             & Allison, Miss Helen Loraine                   & 1st                                           &  2                                            & female                                        & 0                                             & 1                                            \\\\\n",
       "\t 3                                             & Allison, Mr Hudson Joshua Creighton           & 1st                                           & 30                                            & male                                          & 0                                             & 0                                            \\\\\n",
       "\t 4                                             & Allison, Mrs Hudson JC (Bessie Waldo Daniels) & 1st                                           & 25                                            & female                                        & 0                                             & 1                                            \\\\\n",
       "\\end{tabular}\n"
      ],
      "text/markdown": [
       "\n",
       "X | Name | PClass | Age | Sex | Survived | SexCode | \n",
       "|---|---|---|---|\n",
       "| 1                                             | Allen, Miss Elisabeth Walton                  | 1st                                           | 29                                            | female                                        | 1                                             | 1                                             | \n",
       "| 2                                             | Allison, Miss Helen Loraine                   | 1st                                           |  2                                            | female                                        | 0                                             | 1                                             | \n",
       "| 3                                             | Allison, Mr Hudson Joshua Creighton           | 1st                                           | 30                                            | male                                          | 0                                             | 0                                             | \n",
       "| 4                                             | Allison, Mrs Hudson JC (Bessie Waldo Daniels) | 1st                                           | 25                                            | female                                        | 0                                             | 1                                             | \n",
       "\n",
       "\n"
      ],
      "text/plain": [
       "  X Name                                          PClass Age Sex    Survived\n",
       "1 1 Allen, Miss Elisabeth Walton                  1st    29  female 1       \n",
       "2 2 Allison, Miss Helen Loraine                   1st     2  female 0       \n",
       "3 3 Allison, Mr Hudson Joshua Creighton           1st    30  male   0       \n",
       "4 4 Allison, Mrs Hudson JC (Bessie Waldo Daniels) 1st    25  female 0       \n",
       "  SexCode\n",
       "1 1      \n",
       "2 1      \n",
       "3 0      \n",
       "4 1      "
      ]
     },
     "metadata": {},
     "output_type": "display_data"
    }
   ],
   "source": [
    "head(titanic, n=4)"
   ]
  },
  {
   "cell_type": "markdown",
   "metadata": {},
   "source": [
    "### Bottom rows"
   ]
  },
  {
   "cell_type": "code",
   "execution_count": 78,
   "metadata": {},
   "outputs": [
    {
     "data": {
      "text/html": [
       "<table>\n",
       "<thead><tr><th></th><th scope=col>X</th><th scope=col>Name</th><th scope=col>PClass</th><th scope=col>Age</th><th scope=col>Sex</th><th scope=col>Survived</th><th scope=col>SexCode</th></tr></thead>\n",
       "<tbody>\n",
       "\t<tr><th scope=row>1312</th><td>1312            </td><td>Lievens, Mr Rene</td><td>3rd             </td><td>24              </td><td>male            </td><td>0               </td><td>0               </td></tr>\n",
       "\t<tr><th scope=row>1313</th><td>1313            </td><td>Zimmerman, Leo  </td><td>3rd             </td><td>29              </td><td>male            </td><td>0               </td><td>0               </td></tr>\n",
       "</tbody>\n",
       "</table>\n"
      ],
      "text/latex": [
       "\\begin{tabular}{r|lllllll}\n",
       "  & X & Name & PClass & Age & Sex & Survived & SexCode\\\\\n",
       "\\hline\n",
       "\t1312 & 1312             & Lievens, Mr Rene & 3rd              & 24               & male             & 0                & 0               \\\\\n",
       "\t1313 & 1313             & Zimmerman, Leo   & 3rd              & 29               & male             & 0                & 0               \\\\\n",
       "\\end{tabular}\n"
      ],
      "text/markdown": [
       "\n",
       "| <!--/--> | X | Name | PClass | Age | Sex | Survived | SexCode | \n",
       "|---|---|\n",
       "| 1312 | 1312             | Lievens, Mr Rene | 3rd              | 24               | male             | 0                | 0                | \n",
       "| 1313 | 1313             | Zimmerman, Leo   | 3rd              | 29               | male             | 0                | 0                | \n",
       "\n",
       "\n"
      ],
      "text/plain": [
       "     X    Name             PClass Age Sex  Survived SexCode\n",
       "1312 1312 Lievens, Mr Rene 3rd    24  male 0        0      \n",
       "1313 1313 Zimmerman, Leo   3rd    29  male 0        0      "
      ]
     },
     "metadata": {},
     "output_type": "display_data"
    }
   ],
   "source": [
    "tail(titanic, n=2)"
   ]
  },
  {
   "cell_type": "markdown",
   "metadata": {},
   "source": [
    "### Random rows"
   ]
  },
  {
   "cell_type": "code",
   "execution_count": 81,
   "metadata": {},
   "outputs": [
    {
     "data": {
      "text/html": [
       "<table>\n",
       "<thead><tr><th></th><th scope=col>X</th><th scope=col>Name</th><th scope=col>PClass</th><th scope=col>Age</th><th scope=col>Sex</th><th scope=col>Survived</th><th scope=col>SexCode</th></tr></thead>\n",
       "<tbody>\n",
       "\t<tr><th scope=row>1019</th><td>1019                          </td><td>Miles, Mr Frank               </td><td>3rd                           </td><td>NA                            </td><td>male                          </td><td>0                             </td><td>0                             </td></tr>\n",
       "\t<tr><th scope=row>243</th><td> 243                          </td><td>Spedden, Master Robert Douglas</td><td>1st                           </td><td> 6                            </td><td>male                          </td><td>1                             </td><td>0                             </td></tr>\n",
       "\t<tr><th scope=row>934</th><td> 934                          </td><td>Kink, Miss Louise Gretchen    </td><td>3rd                           </td><td> 4                            </td><td>female                        </td><td>1                             </td><td>1                             </td></tr>\n",
       "\t<tr><th scope=row>1219</th><td>1219                          </td><td>Smiljanovic, Mr Mile          </td><td>3rd                           </td><td>NA                            </td><td>male                          </td><td>0                             </td><td>0                             </td></tr>\n",
       "</tbody>\n",
       "</table>\n"
      ],
      "text/latex": [
       "\\begin{tabular}{r|lllllll}\n",
       "  & X & Name & PClass & Age & Sex & Survived & SexCode\\\\\n",
       "\\hline\n",
       "\t1019 & 1019                           & Miles, Mr Frank                & 3rd                            & NA                             & male                           & 0                              & 0                             \\\\\n",
       "\t243 &  243                           & Spedden, Master Robert Douglas & 1st                            &  6                             & male                           & 1                              & 0                             \\\\\n",
       "\t934 &  934                           & Kink, Miss Louise Gretchen     & 3rd                            &  4                             & female                         & 1                              & 1                             \\\\\n",
       "\t1219 & 1219                           & Smiljanovic, Mr Mile           & 3rd                            & NA                             & male                           & 0                              & 0                             \\\\\n",
       "\\end{tabular}\n"
      ],
      "text/markdown": [
       "\n",
       "| <!--/--> | X | Name | PClass | Age | Sex | Survived | SexCode | \n",
       "|---|---|---|---|\n",
       "| 1019 | 1019                           | Miles, Mr Frank                | 3rd                            | NA                             | male                           | 0                              | 0                              | \n",
       "| 243 |  243                           | Spedden, Master Robert Douglas | 1st                            |  6                             | male                           | 1                              | 0                              | \n",
       "| 934 |  934                           | Kink, Miss Louise Gretchen     | 3rd                            |  4                             | female                         | 1                              | 1                              | \n",
       "| 1219 | 1219                           | Smiljanovic, Mr Mile           | 3rd                            | NA                             | male                           | 0                              | 0                              | \n",
       "\n",
       "\n"
      ],
      "text/plain": [
       "     X    Name                           PClass Age Sex    Survived SexCode\n",
       "1019 1019 Miles, Mr Frank                3rd    NA  male   0        0      \n",
       "243   243 Spedden, Master Robert Douglas 1st     6  male   1        0      \n",
       "934   934 Kink, Miss Louise Gretchen     3rd     4  female 1        1      \n",
       "1219 1219 Smiljanovic, Mr Mile           3rd    NA  male   0        0      "
      ]
     },
     "metadata": {},
     "output_type": "display_data"
    }
   ],
   "source": [
    "sample_n(titanic, 4)"
   ]
  },
  {
   "cell_type": "markdown",
   "metadata": {},
   "source": [
    "### Indexing\n",
    "\n",
    "Since the `data.frame` is fundamentally a list of columns and similar to a `matrix`, we can index using list or matrix notation."
   ]
  },
  {
   "cell_type": "code",
   "execution_count": 82,
   "metadata": {},
   "outputs": [
    {
     "data": {
      "text/html": [
       "<ol class=list-inline>\n",
       "\t<li>Allen, Miss Elisabeth Walton</li>\n",
       "\t<li>Allison, Miss Helen Loraine</li>\n",
       "\t<li>Allison, Mr Hudson Joshua Creighton</li>\n",
       "\t<li>Allison, Mrs Hudson JC (Bessie Waldo Daniels)</li>\n",
       "</ol>\n"
      ],
      "text/latex": [
       "\\begin{enumerate*}\n",
       "\\item Allen, Miss Elisabeth Walton\n",
       "\\item Allison, Miss Helen Loraine\n",
       "\\item Allison, Mr Hudson Joshua Creighton\n",
       "\\item Allison, Mrs Hudson JC (Bessie Waldo Daniels)\n",
       "\\end{enumerate*}\n"
      ],
      "text/markdown": [
       "1. Allen, Miss Elisabeth Walton\n",
       "2. Allison, Miss Helen Loraine\n",
       "3. Allison, Mr Hudson Joshua Creighton\n",
       "4. Allison, Mrs Hudson JC (Bessie Waldo Daniels)\n",
       "\n",
       "\n"
      ],
      "text/plain": [
       "[1] Allen, Miss Elisabeth Walton                 \n",
       "[2] Allison, Miss Helen Loraine                  \n",
       "[3] Allison, Mr Hudson Joshua Creighton          \n",
       "[4] Allison, Mrs Hudson JC (Bessie Waldo Daniels)\n",
       "1310 Levels: Abbing, Mr Anthony ... Zimmerman, Leo"
      ]
     },
     "metadata": {},
     "output_type": "display_data"
    }
   ],
   "source": [
    "titanic$Name[1:4]"
   ]
  },
  {
   "cell_type": "code",
   "execution_count": 85,
   "metadata": {},
   "outputs": [
    {
     "data": {
      "text/html": [
       "<ol class=list-inline>\n",
       "\t<li>1st</li>\n",
       "\t<li>1st</li>\n",
       "\t<li>1st</li>\n",
       "\t<li>1st</li>\n",
       "\t<li>1st</li>\n",
       "</ol>\n"
      ],
      "text/latex": [
       "\\begin{enumerate*}\n",
       "\\item 1st\n",
       "\\item 1st\n",
       "\\item 1st\n",
       "\\item 1st\n",
       "\\item 1st\n",
       "\\end{enumerate*}\n"
      ],
      "text/markdown": [
       "1. 1st\n",
       "2. 1st\n",
       "3. 1st\n",
       "4. 1st\n",
       "5. 1st\n",
       "\n",
       "\n"
      ],
      "text/plain": [
       "[1] 1st 1st 1st 1st 1st\n",
       "Levels: * 1st 2nd 3rd"
      ]
     },
     "metadata": {},
     "output_type": "display_data"
    }
   ],
   "source": [
    "titanic[1:5, 3]"
   ]
  },
  {
   "cell_type": "markdown",
   "metadata": {},
   "source": [
    "## Exporting a `data.frame`"
   ]
  },
  {
   "cell_type": "code",
   "execution_count": 88,
   "metadata": {
    "collapsed": true
   },
   "outputs": [],
   "source": [
    "write.csv(titanic, \"my_titanic.csv\", row.names = FALSE)"
   ]
  },
  {
   "cell_type": "code",
   "execution_count": 95,
   "metadata": {},
   "outputs": [
    {
     "data": {
      "text/html": [
       "<ol class=list-inline>\n",
       "\t<li>'my_titanic.csv'</li>\n",
       "\t<li>'titanic.csv'</li>\n",
       "</ol>\n"
      ],
      "text/latex": [
       "\\begin{enumerate*}\n",
       "\\item 'my\\_titanic.csv'\n",
       "\\item 'titanic.csv'\n",
       "\\end{enumerate*}\n"
      ],
      "text/markdown": [
       "1. 'my_titanic.csv'\n",
       "2. 'titanic.csv'\n",
       "\n",
       "\n"
      ],
      "text/plain": [
       "[1] \"my_titanic.csv\" \"titanic.csv\"   "
      ]
     },
     "metadata": {},
     "output_type": "display_data"
    }
   ],
   "source": [
    "list.files(\".\", \"*.csv\")"
   ]
  },
  {
   "cell_type": "code",
   "execution_count": 96,
   "metadata": {
    "collapsed": true
   },
   "outputs": [],
   "source": [
    "titanic.2 <- read.csv(\"my_titanic.csv\")"
   ]
  },
  {
   "cell_type": "code",
   "execution_count": 98,
   "metadata": {},
   "outputs": [
    {
     "data": {
      "text/html": [
       "<table>\n",
       "<thead><tr><th scope=col>X</th><th scope=col>Name</th><th scope=col>PClass</th><th scope=col>Age</th><th scope=col>Sex</th><th scope=col>Survived</th><th scope=col>SexCode</th></tr></thead>\n",
       "<tbody>\n",
       "\t<tr><td>1                                  </td><td>Allen, Miss Elisabeth Walton       </td><td>1st                                </td><td>29                                 </td><td>female                             </td><td>1                                  </td><td>1                                  </td></tr>\n",
       "\t<tr><td>2                                  </td><td>Allison, Miss Helen Loraine        </td><td>1st                                </td><td> 2                                 </td><td>female                             </td><td>0                                  </td><td>1                                  </td></tr>\n",
       "\t<tr><td>3                                  </td><td>Allison, Mr Hudson Joshua Creighton</td><td>1st                                </td><td>30                                 </td><td>male                               </td><td>0                                  </td><td>0                                  </td></tr>\n",
       "</tbody>\n",
       "</table>\n"
      ],
      "text/latex": [
       "\\begin{tabular}{r|lllllll}\n",
       " X & Name & PClass & Age & Sex & Survived & SexCode\\\\\n",
       "\\hline\n",
       "\t 1                                   & Allen, Miss Elisabeth Walton        & 1st                                 & 29                                  & female                              & 1                                   & 1                                  \\\\\n",
       "\t 2                                   & Allison, Miss Helen Loraine         & 1st                                 &  2                                  & female                              & 0                                   & 1                                  \\\\\n",
       "\t 3                                   & Allison, Mr Hudson Joshua Creighton & 1st                                 & 30                                  & male                                & 0                                   & 0                                  \\\\\n",
       "\\end{tabular}\n"
      ],
      "text/markdown": [
       "\n",
       "X | Name | PClass | Age | Sex | Survived | SexCode | \n",
       "|---|---|---|\n",
       "| 1                                   | Allen, Miss Elisabeth Walton        | 1st                                 | 29                                  | female                              | 1                                   | 1                                   | \n",
       "| 2                                   | Allison, Miss Helen Loraine         | 1st                                 |  2                                  | female                              | 0                                   | 1                                   | \n",
       "| 3                                   | Allison, Mr Hudson Joshua Creighton | 1st                                 | 30                                  | male                                | 0                                   | 0                                   | \n",
       "\n",
       "\n"
      ],
      "text/plain": [
       "  X Name                                PClass Age Sex    Survived SexCode\n",
       "1 1 Allen, Miss Elisabeth Walton        1st    29  female 1        1      \n",
       "2 2 Allison, Miss Helen Loraine         1st     2  female 0        1      \n",
       "3 3 Allison, Mr Hudson Joshua Creighton 1st    30  male   0        0      "
      ]
     },
     "metadata": {},
     "output_type": "display_data"
    }
   ],
   "source": [
    "head(titanic.2, n=3)"
   ]
  },
  {
   "cell_type": "markdown",
   "metadata": {},
   "source": [
    "## Installing packages from `CRAN` and `BioConductor`"
   ]
  },
  {
   "cell_type": "markdown",
   "metadata": {
    "collapsed": true
   },
   "source": [
    "### Install from CRAN\n",
    "\n",
    "Simplest is to use the menu item in RStudio, but you can also do this from the console."
   ]
  },
  {
   "cell_type": "code",
   "execution_count": 100,
   "metadata": {},
   "outputs": [
    {
     "name": "stdout",
     "output_type": "stream",
     "text": [
      "\n",
      "The downloaded binary packages are in\n",
      "\t/var/folders/3l/tbmzdkss71152d8t9n1f8nx40000gn/T//Rtmpmv86yS/downloaded_packages\n"
     ]
    }
   ],
   "source": [
    "install.packages(\"pwr\", repos=\"http://cran.us.r-project.org\")"
   ]
  },
  {
   "cell_type": "markdown",
   "metadata": {},
   "source": [
    "### Install from BioConductor"
   ]
  },
  {
   "cell_type": "code",
   "execution_count": 101,
   "metadata": {},
   "outputs": [
    {
     "name": "stderr",
     "output_type": "stream",
     "text": [
      "Bioconductor version 3.5 (BiocInstaller 1.26.0), ?biocLite for help\n",
      "BioC_mirror: https://bioconductor.org\n",
      "Using Bioconductor 3.5 (BiocInstaller 1.26.0), R 3.4.0 (2017-04-21).\n",
      "Installing package(s) ‘ggbio’\n"
     ]
    },
    {
     "name": "stdout",
     "output_type": "stream",
     "text": [
      "\n",
      "The downloaded binary packages are in\n",
      "\t/var/folders/3l/tbmzdkss71152d8t9n1f8nx40000gn/T//Rtmpmv86yS/downloaded_packages\n"
     ]
    },
    {
     "name": "stderr",
     "output_type": "stream",
     "text": [
      "Old packages: 'agricolae', 'AnnotationDbi', 'Biostrings', 'boot', 'bsseq',\n",
      "  'ChAMP', 'cowplot', 'curl', 'devtools', 'dplyr', 'FSA', 'GGally', 'git2r',\n",
      "  'igraph', 'limma', 'mgcv', 'modelr', 'plotly', 'purrr', 'sandwich',\n",
      "  'stringdist', 'VGAM', 'withr'\n"
     ]
    }
   ],
   "source": [
    "source(\"https://bioconductor.org/biocLite.R\")\n",
    "biocLite(\"ggbio\")"
   ]
  },
  {
   "cell_type": "code",
   "execution_count": null,
   "metadata": {
    "collapsed": true
   },
   "outputs": [],
   "source": []
  }
 ],
 "metadata": {
  "kernelspec": {
   "display_name": "R",
   "language": "R",
   "name": "ir"
  },
  "language_info": {
   "codemirror_mode": "r",
   "file_extension": ".r",
   "mimetype": "text/x-r-source",
   "name": "R",
   "pygments_lexer": "r",
   "version": "3.4.0"
  }
 },
 "nbformat": 4,
 "nbformat_minor": 2
}
